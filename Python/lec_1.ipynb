{
 "cells": [
  {
   "cell_type": "code",
   "execution_count": 1,
   "metadata": {},
   "outputs": [
    {
     "name": "stdout",
     "output_type": "stream",
     "text": [
      "Intro.md    first.py    lec_1.ipynb\r\n"
     ]
    }
   ],
   "source": [
    "!ls\n"
   ]
  },
  {
   "cell_type": "code",
   "execution_count": null,
   "metadata": {},
   "outputs": [],
   "source": []
  },
  {
   "cell_type": "code",
   "execution_count": null,
   "metadata": {},
   "outputs": [],
   "source": []
  },
  {
   "cell_type": "code",
   "execution_count": null,
   "metadata": {},
   "outputs": [
    {
     "name": "stdout",
     "output_type": "stream",
     "text": [
      "\u001b[?1000h\u001b7\u001b[?47h\u001b[?1h\u001b=\u001b[?2004h\u001b[1;24r\u001b[?12h\u001b[?12l\u001b[22;2t\u001b[22;1t\u001b[29m\u001b[m\u001b[H\u001b[2J\u001b[?25l\u001b[24;1H\"Intro.md\" 2L, 67C\u001b[2;1H▽\u001b[6n\u001b[2;1H  \u001b[1;1H\u001b[>c\u001b]10;?\u0007\u001b]11;?\u0007\u001b[1;1H\u001b[35m##\u001b[m\u001b[35m Intro\u001b[m\n",
      "\u001b[33m-\u001b[m All the Python Jupytor Notebooks will be uploaded here\n",
      "\u001b[1m\u001b[34m~                                                                               \u001b[4;1H~                                                                               \u001b[5;1H~                                                                               \u001b[6;1H~                                                                               \u001b[7;1H~                                                                               \u001b[8;1H~                                                                               \u001b[9;1H~                                                                               \u001b[10;1H~                                                                               \u001b[11;1H~                                                                               \u001b[12;1H~                                                                               \u001b[13;1H~                                                                               \u001b[14;1H~                                                                               \u001b[15;1H~                                                                               \u001b[16;1H~                                                                               \u001b[17;1H~                                                                               \u001b[18;1H~                                                                               \u001b[19;1H~                                                                               \u001b[20;1H~                                                                               \u001b[21;1H~                                                                               \u001b[22;1H~                                                                               \u001b[23;1H~                                                                               \u001b[m\u001b[24;63H2,56\u001b[10CAll\u001b[2;56H\u001b[?25h"
     ]
    }
   ],
   "source": [
    "!vi Intro.md\n"
   ]
  },
  {
   "cell_type": "code",
   "execution_count": null,
   "metadata": {},
   "outputs": [],
   "source": [
    "!ls -lh\n"
   ]
  },
  {
   "cell_type": "markdown",
   "metadata": {},
   "source": [
    "- Popular IDE's for Python are PyCharm and Spyder\n",
    "- NoteBook Environments\n",
    "    - Great for learning\n",
    "    - See input and output next to each other\n",
    "    - support inline markdown notes, visualizations, videos and more\n",
    "    - Most important note:\n",
    "        - Development Environments are a personalchoice\n",
    "        "
   ]
  },
  {
   "cell_type": "markdown",
   "metadata": {},
   "source": [
    "### Python Objects and Data Structures\n",
    "- Integers  int Whole numbers such as 3 300 200\n",
    "- Floating Point float Numbers with decimal\n",
    "- String st Ordered sequence of character \"hello\" \"Sammy\" , 2000 etc\n",
    "- List list Ordered seequecnce of objects [10, \"hello\", 200.3]\n",
    "- Dictionaries dict Unordered Key: Value pairs: {\"mykey\": \"value\", \"name\": \"Frankie\"}\n",
    "- Tuples tup Ordered imutable sequence of objects: (10,\"hello\":\"Frankie\")\n",
    "- Sets set Unordered collection of unique objects: {\"a\",\"b\"}\n",
    "- Booleans bool Logical value indicating **True** or **False**\n",
    "- `this is an example of code snipet`\n",
    "```this is an example of code block\n",
    "multiline code block```"
   ]
  },
  {
   "cell_type": "code",
   "execution_count": 2,
   "metadata": {},
   "outputs": [
    {
     "data": {
      "text/plain": [
       "3"
      ]
     },
     "execution_count": 2,
     "metadata": {},
     "output_type": "execute_result"
    }
   ],
   "source": [
    "2+1"
   ]
  },
  {
   "cell_type": "code",
   "execution_count": 3,
   "metadata": {},
   "outputs": [
    {
     "data": {
      "text/plain": [
       "1"
      ]
     },
     "execution_count": 3,
     "metadata": {},
     "output_type": "execute_result"
    }
   ],
   "source": [
    "2-1"
   ]
  },
  {
   "cell_type": "code",
   "execution_count": 4,
   "metadata": {},
   "outputs": [
    {
     "data": {
      "text/plain": [
       "4"
      ]
     },
     "execution_count": 4,
     "metadata": {},
     "output_type": "execute_result"
    }
   ],
   "source": [
    "2*2"
   ]
  },
  {
   "cell_type": "markdown",
   "metadata": {},
   "source": [
    "**Modular Operator or Mod Operator**"
   ]
  },
  {
   "cell_type": "code",
   "execution_count": 5,
   "metadata": {},
   "outputs": [
    {
     "data": {
      "text/plain": [
       "0"
      ]
     },
     "execution_count": 5,
     "metadata": {},
     "output_type": "execute_result"
    }
   ],
   "source": [
    "50 % 5"
   ]
  },
  {
   "cell_type": "code",
   "execution_count": 6,
   "metadata": {},
   "outputs": [
    {
     "data": {
      "text/plain": [
       "3"
      ]
     },
     "execution_count": 6,
     "metadata": {},
     "output_type": "execute_result"
    }
   ],
   "source": [
    "23 % 10"
   ]
  },
  {
   "cell_type": "code",
   "execution_count": 7,
   "metadata": {},
   "outputs": [
    {
     "data": {
      "text/plain": [
       "3"
      ]
     },
     "execution_count": 7,
     "metadata": {},
     "output_type": "execute_result"
    }
   ],
   "source": [
    "2+1\n"
   ]
  },
  {
   "cell_type": "code",
   "execution_count": 8,
   "metadata": {},
   "outputs": [
    {
     "data": {
      "text/plain": [
       "100"
      ]
     },
     "execution_count": 8,
     "metadata": {},
     "output_type": "execute_result"
    }
   ],
   "source": [
    "50+50"
   ]
  },
  {
   "cell_type": "code",
   "execution_count": 10,
   "metadata": {},
   "outputs": [
    {
     "data": {
      "text/plain": [
       "100"
      ]
     },
     "execution_count": 10,
     "metadata": {},
     "output_type": "execute_result"
    }
   ],
   "source": [
    "110-10"
   ]
  },
  {
   "cell_type": "markdown",
   "metadata": {},
   "source": [
    "### Rules for Variable Names \n",
    "- Names can not start with a number.\n",
    "- There can be no spaces in the name, use _instead\n",
    "- Can't use any of these symbols\n",
    ":''',<>/?|\\()!@#$%^&*~-+\n",
    "- It's consisered best practice (PEP8) that names are lowercase\n",
    "- Avoid using words that have special meaning in Python like \"list\" and \"str\"\n",
    "- Pthon uses **Dynamic Typing**\n",
    "- This means you can reassign variables to different data types\n",
    "- This makes Python very flexible in assigning data types, this is different than languages that are \"Statically-Typed\""
   ]
  },
  {
   "cell_type": "code",
   "execution_count": 11,
   "metadata": {},
   "outputs": [],
   "source": [
    "a = 5"
   ]
  },
  {
   "cell_type": "code",
   "execution_count": 12,
   "metadata": {},
   "outputs": [],
   "source": [
    "a = 10"
   ]
  },
  {
   "cell_type": "code",
   "execution_count": 13,
   "metadata": {},
   "outputs": [
    {
     "data": {
      "text/plain": [
       "20"
      ]
     },
     "execution_count": 13,
     "metadata": {},
     "output_type": "execute_result"
    }
   ],
   "source": [
    "a + a"
   ]
  },
  {
   "cell_type": "code",
   "execution_count": 16,
   "metadata": {},
   "outputs": [],
   "source": [
    "a = a+a"
   ]
  },
  {
   "cell_type": "code",
   "execution_count": 17,
   "metadata": {},
   "outputs": [
    {
     "data": {
      "text/plain": [
       "40"
      ]
     },
     "execution_count": 17,
     "metadata": {},
     "output_type": "execute_result"
    }
   ],
   "source": [
    "a"
   ]
  },
  {
   "cell_type": "code",
   "execution_count": 18,
   "metadata": {},
   "outputs": [
    {
     "data": {
      "text/plain": [
       "int"
      ]
     },
     "execution_count": 18,
     "metadata": {},
     "output_type": "execute_result"
    }
   ],
   "source": [
    "type(a)"
   ]
  },
  {
   "cell_type": "code",
   "execution_count": 19,
   "metadata": {},
   "outputs": [],
   "source": [
    "a = 30.3"
   ]
  },
  {
   "cell_type": "code",
   "execution_count": 20,
   "metadata": {},
   "outputs": [
    {
     "data": {
      "text/plain": [
       "float"
      ]
     },
     "execution_count": 20,
     "metadata": {},
     "output_type": "execute_result"
    }
   ],
   "source": [
    "type(a)"
   ]
  },
  {
   "cell_type": "code",
   "execution_count": 21,
   "metadata": {},
   "outputs": [],
   "source": [
    "my_income = 100"
   ]
  },
  {
   "cell_type": "code",
   "execution_count": 22,
   "metadata": {},
   "outputs": [
    {
     "data": {
      "text/plain": [
       "100"
      ]
     },
     "execution_count": 22,
     "metadata": {},
     "output_type": "execute_result"
    }
   ],
   "source": [
    "my_income"
   ]
  },
  {
   "cell_type": "code",
   "execution_count": 23,
   "metadata": {},
   "outputs": [],
   "source": [
    "tax_rate = 0.1"
   ]
  },
  {
   "cell_type": "code",
   "execution_count": 24,
   "metadata": {},
   "outputs": [],
   "source": [
    "my_tax = my_income * tax_rate"
   ]
  },
  {
   "cell_type": "code",
   "execution_count": 25,
   "metadata": {},
   "outputs": [
    {
     "data": {
      "text/plain": [
       "10.0"
      ]
     },
     "execution_count": 25,
     "metadata": {},
     "output_type": "execute_result"
    }
   ],
   "source": [
    "my_tax"
   ]
  },
  {
   "cell_type": "markdown",
   "metadata": {},
   "source": [
    "### Strings in Python\n",
    "- **Strings** are sequence of characters, using the syntax of either single quotes or double quotes:\n",
    "- 'Hello'\n",
    "- \"Hello\"\n",
    "- \"What's goin on!!!\"\n",
    "\n",
    "`Strings are ordered sequences that means you can get the character from the string by providing the location`\n",
    "- **Slicing** allows to grab subsection of the string, a \"slice\" of the string.\n",
    "- This has the following syntax:\n",
    "    - [Start:Stop:Step]\n",
    "- **start** is a numerical index for the slice start\n",
    "- **Stop** is the index you will go upto (but not include)\n",
    "- **step** is the size of the \"jump\" you take."
   ]
  },
  {
   "cell_type": "code",
   "execution_count": 26,
   "metadata": {},
   "outputs": [
    {
     "data": {
      "text/plain": [
       "'hello'"
      ]
     },
     "execution_count": 26,
     "metadata": {},
     "output_type": "execute_result"
    }
   ],
   "source": [
    "'hello'"
   ]
  },
  {
   "cell_type": "code",
   "execution_count": 27,
   "metadata": {},
   "outputs": [
    {
     "data": {
      "text/plain": [
       "'world'"
      ]
     },
     "execution_count": 27,
     "metadata": {},
     "output_type": "execute_result"
    }
   ],
   "source": [
    "\"world\""
   ]
  },
  {
   "cell_type": "code",
   "execution_count": 28,
   "metadata": {},
   "outputs": [
    {
     "data": {
      "text/plain": [
       "'this is also string'"
      ]
     },
     "execution_count": 28,
     "metadata": {},
     "output_type": "execute_result"
    }
   ],
   "source": [
    "'this is also string'"
   ]
  },
  {
   "cell_type": "code",
   "execution_count": 30,
   "metadata": {},
   "outputs": [
    {
     "data": {
      "text/plain": [
       "\"I'm going on a run\""
      ]
     },
     "execution_count": 30,
     "metadata": {},
     "output_type": "execute_result"
    }
   ],
   "source": [
    "\"I'm going on a run\""
   ]
  },
  {
   "cell_type": "code",
   "execution_count": 31,
   "metadata": {},
   "outputs": [
    {
     "name": "stdout",
     "output_type": "stream",
     "text": [
      "hello whats happening\n"
     ]
    }
   ],
   "source": [
    "print(\"hello whats happening\")"
   ]
  },
  {
   "cell_type": "code",
   "execution_count": 32,
   "metadata": {},
   "outputs": [
    {
     "name": "stdout",
     "output_type": "stream",
     "text": [
      "hello world one \n",
      " hello world 2\n"
     ]
    }
   ],
   "source": [
    "print(\"hello world one \\n hello world 2\")"
   ]
  },
  {
   "cell_type": "markdown",
   "metadata": {},
   "source": [
    "#### Escape sequences in string printing\n",
    "- `\\n` for new line\n",
    "- `\\t` for tab\n",
    "- `\\r` is for carriage return means `cursor will  go back after printing the value`\n",
    "- `\\\\` for BackSlash `\\`\n",
    "- `\\'` for single quote `'`  etc"
   ]
  },
  {
   "cell_type": "markdown",
   "metadata": {},
   "source": [
    "#### String Indexing and Slicing"
   ]
  },
  {
   "cell_type": "code",
   "execution_count": 34,
   "metadata": {},
   "outputs": [],
   "source": [
    "mystring = \"hellow world\""
   ]
  },
  {
   "cell_type": "code",
   "execution_count": 35,
   "metadata": {},
   "outputs": [
    {
     "data": {
      "text/plain": [
       "'o'"
      ]
     },
     "execution_count": 35,
     "metadata": {},
     "output_type": "execute_result"
    }
   ],
   "source": [
    "mystring[8]"
   ]
  },
  {
   "cell_type": "code",
   "execution_count": 36,
   "metadata": {},
   "outputs": [
    {
     "data": {
      "text/plain": [
       "'l'"
      ]
     },
     "execution_count": 36,
     "metadata": {},
     "output_type": "execute_result"
    }
   ],
   "source": [
    "mystring[-2]"
   ]
  },
  {
   "cell_type": "code",
   "execution_count": 37,
   "metadata": {},
   "outputs": [],
   "source": [
    "mystring = 'abcdefghijklmnopqrstuvwxyz'"
   ]
  },
  {
   "cell_type": "code",
   "execution_count": 38,
   "metadata": {},
   "outputs": [
    {
     "data": {
      "text/plain": [
       "'cdefghijklmnopqrstuvwxyz'"
      ]
     },
     "execution_count": 38,
     "metadata": {},
     "output_type": "execute_result"
    }
   ],
   "source": [
    "mystring[2:]"
   ]
  },
  {
   "cell_type": "code",
   "execution_count": 39,
   "metadata": {},
   "outputs": [
    {
     "data": {
      "text/plain": [
       "'abc'"
      ]
     },
     "execution_count": 39,
     "metadata": {},
     "output_type": "execute_result"
    }
   ],
   "source": [
    "mystring[:3]"
   ]
  },
  {
   "cell_type": "code",
   "execution_count": 40,
   "metadata": {},
   "outputs": [
    {
     "data": {
      "text/plain": [
       "'defgh'"
      ]
     },
     "execution_count": 40,
     "metadata": {},
     "output_type": "execute_result"
    }
   ],
   "source": [
    "mystring[3:8]"
   ]
  },
  {
   "cell_type": "code",
   "execution_count": 41,
   "metadata": {},
   "outputs": [
    {
     "data": {
      "text/plain": [
       "'abcdefghijklmnopqrstuvwxyz'"
      ]
     },
     "execution_count": 41,
     "metadata": {},
     "output_type": "execute_result"
    }
   ],
   "source": [
    "mystring[::]"
   ]
  },
  {
   "cell_type": "code",
   "execution_count": 42,
   "metadata": {},
   "outputs": [
    {
     "data": {
      "text/plain": [
       "'acegikmoqsuwy'"
      ]
     },
     "execution_count": 42,
     "metadata": {},
     "output_type": "execute_result"
    }
   ],
   "source": [
    "mystring[::2]"
   ]
  },
  {
   "cell_type": "code",
   "execution_count": 43,
   "metadata": {},
   "outputs": [
    {
     "data": {
      "text/plain": [
       "'adgjmpsvy'"
      ]
     },
     "execution_count": 43,
     "metadata": {},
     "output_type": "execute_result"
    }
   ],
   "source": [
    "mystring[::3]"
   ]
  },
  {
   "cell_type": "code",
   "execution_count": 44,
   "metadata": {},
   "outputs": [
    {
     "data": {
      "text/plain": [
       "'zyxwvutsrqponmlkjihgfedcba'"
      ]
     },
     "execution_count": 44,
     "metadata": {},
     "output_type": "execute_result"
    }
   ],
   "source": [
    "mystring[::-1]"
   ]
  },
  {
   "cell_type": "markdown",
   "metadata": {},
   "source": [
    "#### String Properties and String Methods"
   ]
  },
  {
   "cell_type": "code",
   "execution_count": 45,
   "metadata": {},
   "outputs": [],
   "source": [
    "# Immutability of strings\n",
    "name = 'Sam'\n",
    "last_letters = name[1:]"
   ]
  },
  {
   "cell_type": "code",
   "execution_count": 46,
   "metadata": {},
   "outputs": [
    {
     "data": {
      "text/plain": [
       "'Pam'"
      ]
     },
     "execution_count": 46,
     "metadata": {},
     "output_type": "execute_result"
    }
   ],
   "source": [
    "'P' + last_letters\n"
   ]
  },
  {
   "cell_type": "code",
   "execution_count": 47,
   "metadata": {},
   "outputs": [],
   "source": [
    "x = 'Hello world'"
   ]
  },
  {
   "cell_type": "code",
   "execution_count": 52,
   "metadata": {},
   "outputs": [
    {
     "data": {
      "text/plain": [
       "'Hello world Its is beautiful outside'"
      ]
     },
     "execution_count": 52,
     "metadata": {},
     "output_type": "execute_result"
    }
   ],
   "source": [
    "x + \" Its is beautiful outside\""
   ]
  },
  {
   "cell_type": "code",
   "execution_count": 53,
   "metadata": {},
   "outputs": [
    {
     "data": {
      "text/plain": [
       "'Hello world'"
      ]
     },
     "execution_count": 53,
     "metadata": {},
     "output_type": "execute_result"
    }
   ],
   "source": [
    "x"
   ]
  },
  {
   "cell_type": "code",
   "execution_count": 54,
   "metadata": {},
   "outputs": [],
   "source": [
    "letter = 'z'"
   ]
  },
  {
   "cell_type": "code",
   "execution_count": 55,
   "metadata": {},
   "outputs": [
    {
     "data": {
      "text/plain": [
       "'zzzzzzzzzz'"
      ]
     },
     "execution_count": 55,
     "metadata": {},
     "output_type": "execute_result"
    }
   ],
   "source": [
    "letter*10"
   ]
  },
  {
   "cell_type": "code",
   "execution_count": 56,
   "metadata": {},
   "outputs": [],
   "source": [
    "x = 'Hello World'"
   ]
  },
  {
   "cell_type": "code",
   "execution_count": 59,
   "metadata": {},
   "outputs": [
    {
     "data": {
      "text/plain": [
       "'HELLO WORLD'"
      ]
     },
     "execution_count": 59,
     "metadata": {},
     "output_type": "execute_result"
    }
   ],
   "source": [
    "x.upper() # this method is not inplace"
   ]
  },
  {
   "cell_type": "code",
   "execution_count": 60,
   "metadata": {},
   "outputs": [
    {
     "data": {
      "text/plain": [
       "['Hello', 'World']"
      ]
     },
     "execution_count": 60,
     "metadata": {},
     "output_type": "execute_result"
    }
   ],
   "source": [
    "x.split()"
   ]
  },
  {
   "cell_type": "code",
   "execution_count": 61,
   "metadata": {},
   "outputs": [
    {
     "data": {
      "text/plain": [
       "['Hell', ' W', 'rld']"
      ]
     },
     "execution_count": 61,
     "metadata": {},
     "output_type": "execute_result"
    }
   ],
   "source": [
    "x.split('o')"
   ]
  },
  {
   "cell_type": "code",
   "execution_count": 62,
   "metadata": {},
   "outputs": [
    {
     "name": "stdout",
     "output_type": "stream",
     "text": [
      "/Users/usman/Dropbox/usman_mac_shared/0001_java_Bootcamp/DataScience/Python\r\n"
     ]
    }
   ],
   "source": [
    "!pwd\n"
   ]
  },
  {
   "cell_type": "code",
   "execution_count": 63,
   "metadata": {},
   "outputs": [],
   "source": [
    "with open(\"/Users/Usman/Downloads/pg.txt\", \"r\") as myfile:\n",
    "    data=myfile.readlines()"
   ]
  },
  {
   "cell_type": "code",
   "execution_count": 64,
   "metadata": {},
   "outputs": [
    {
     "data": {
      "text/plain": [
       "list"
      ]
     },
     "execution_count": 64,
     "metadata": {},
     "output_type": "execute_result"
    }
   ],
   "source": [
    "type(data)"
   ]
  },
  {
   "cell_type": "code",
   "execution_count": 65,
   "metadata": {},
   "outputs": [
    {
     "data": {
      "text/plain": [
       "_io.TextIOWrapper"
      ]
     },
     "execution_count": 65,
     "metadata": {},
     "output_type": "execute_result"
    }
   ],
   "source": [
    "type(myfile)"
   ]
  },
  {
   "cell_type": "code",
   "execution_count": 67,
   "metadata": {},
   "outputs": [
    {
     "data": {
      "text/plain": [
       "<function list.count(value, /)>"
      ]
     },
     "execution_count": 67,
     "metadata": {},
     "output_type": "execute_result"
    }
   ],
   "source": [
    "data.count"
   ]
  },
  {
   "cell_type": "code",
   "execution_count": 68,
   "metadata": {},
   "outputs": [
    {
     "ename": "TypeError",
     "evalue": "'list' object is not callable",
     "output_type": "error",
     "traceback": [
      "\u001b[0;31m---------------------------------------------------------------------------\u001b[0m",
      "\u001b[0;31mTypeError\u001b[0m                                 Traceback (most recent call last)",
      "\u001b[0;32m<ipython-input-68-4fa8c8cd06c5>\u001b[0m in \u001b[0;36m<module>\u001b[0;34m\u001b[0m\n\u001b[0;32m----> 1\u001b[0;31m \u001b[0mdata\u001b[0m\u001b[0;34m(\u001b[0m\u001b[0;36m1\u001b[0m\u001b[0;34m)\u001b[0m\u001b[0;34m\u001b[0m\u001b[0;34m\u001b[0m\u001b[0m\n\u001b[0m",
      "\u001b[0;31mTypeError\u001b[0m: 'list' object is not callable"
     ]
    }
   ],
   "source": [
    "data(1)"
   ]
  },
  {
   "cell_type": "code",
   "execution_count": 69,
   "metadata": {},
   "outputs": [
    {
     "data": {
      "text/plain": [
       "[\"Project Gutenberg's The Girl on the Boat, by Pelham Grenville Wodehouse\\n\",\n",
       " '\\n',\n",
       " 'This eBook is for the use of anyone anywhere at no cost and with\\n',\n",
       " 'almost no restrictions whatsoever.  You may copy it, give it away or\\n',\n",
       " 're-use it under the terms of the Project Gutenberg License included\\n',\n",
       " 'with this eBook or online at www.gutenberg.org\\n',\n",
       " '\\n',\n",
       " '\\n',\n",
       " 'Title: The Girl on the Boat\\n',\n",
       " '\\n',\n",
       " 'Author: Pelham Grenville Wodehouse\\n',\n",
       " '\\n',\n",
       " 'Release Date: March 1, 2007 [EBook #20717]\\n',\n",
       " '\\n',\n",
       " 'Language: English\\n',\n",
       " '\\n',\n",
       " '\\n',\n",
       " '*** START OF THIS PROJECT GUTENBERG EBOOK THE GIRL ON THE BOAT ***\\n',\n",
       " '\\n',\n",
       " '\\n',\n",
       " '\\n',\n",
       " '\\n',\n",
       " 'Produced by Martin Pettit and the Online Distributed\\n',\n",
       " 'Proofreading Team at http://www.pgdp.net\\n',\n",
       " '\\n',\n",
       " '\\n',\n",
       " '\\n',\n",
       " '\\n',\n",
       " '\\n',\n",
       " '\\n',\n",
       " 'THE GIRL ON THE BOAT\\n',\n",
       " '\\n',\n",
       " '\\n',\n",
       " 'BY\\n',\n",
       " '\\n',\n",
       " 'P. G. WODEHOUSE\\n',\n",
       " '\\n',\n",
       " '\\n',\n",
       " 'HERBERT JENKINS LIMITED\\n',\n",
       " '3 YORK STREET LONDON S.W.1\\n',\n",
       " '\\n',\n",
       " '\\n',\n",
       " '[Illustration: A HERBERT JENKINS BOOK]\\n',\n",
       " '\\n',\n",
       " '\\n',\n",
       " '_Tenth printing, completing 95,781 copies_\\n',\n",
       " '\\n',\n",
       " 'Printed in Great Britain by Butler & Tanner Ltd., Frome and London\\n',\n",
       " '\\n',\n",
       " '\\n',\n",
       " '\\n',\n",
       " '\\n',\n",
       " 'WHAT THIS STORY IS ABOUT\\n',\n",
       " '\\n',\n",
       " '\\n',\n",
       " \"It was Sam Marlowe's fate to fall in love with a girl on the R.M.S.\\n\",\n",
       " '\"Atlantic\" (New York to Southampton) who had ideals. She was looking for\\n',\n",
       " 'a man just like Sir Galahad, and refused to be put off with any inferior\\n',\n",
       " 'substitute. A lucky accident on the first day of the voyage placed Sam\\n',\n",
       " 'for the moment in the Galahad class, but he could not stay the pace.\\n',\n",
       " '\\n',\n",
       " 'He follows Billie Bennett \"around,\" scheming, blundering and hoping, so\\n',\n",
       " \"does the parrot faced young man Bream Mortimer, Sam's rival.\\n\",\n",
       " '\\n',\n",
       " 'There is a somewhat hectic series of events at Windles, a country house\\n',\n",
       " \"in Hampshire, where Billie's ideals still block the way and Sam comes on\\n\",\n",
       " 'in spite of everything.\\n',\n",
       " '\\n',\n",
       " 'Then comes the moment when Billie.... It is a Wodehouse novel in every\\n',\n",
       " 'sense of the term.\\n',\n",
       " '\\n',\n",
       " '\\n',\n",
       " '\\n',\n",
       " '\\n',\n",
       " 'ONE MOMENT!\\n',\n",
       " '\\n',\n",
       " '\\n',\n",
       " 'Before my friend Mr. Jenkins--wait a minute, Herbert--before my friend\\n',\n",
       " 'Mr. Jenkins formally throws this book open to the public, I should like\\n',\n",
       " 'to say a few words. You, sir, and you, and you at the back, if you will\\n',\n",
       " 'kindly restrain your impatience.... There is no need to jostle. There\\n',\n",
       " 'will be copies for all. Thank you. I shall not detain you long.\\n',\n",
       " '\\n',\n",
       " 'I wish to clear myself of a possible charge of plagiarism. You smile.\\n',\n",
       " \"Ah! but you don't know. You don't realise how careful even a splendid\\n\",\n",
       " \"fellow like myself has to be. You wouldn't have me go down to posterity\\n\",\n",
       " 'as Pelham the Pincher, would you? No! Very well, then. By the time this\\n',\n",
       " 'volume is in the hands of the customers, everybody will, of course, have\\n',\n",
       " 'read Mr. J. Storer Clouston\\'s \"The Lunatic at Large Again.\" (Those who\\n',\n",
       " 'are chumps enough to miss it deserve no consideration.) Well, both the\\n',\n",
       " 'hero of \"The Lunatic\" and my \"Sam Marlowe\" try to get out of a tight\\n',\n",
       " 'corner by hiding in a suit of armour in the hall of a country-house.\\n',\n",
       " 'Looks fishy, yes? And yet I call on Heaven to witness that I am\\n',\n",
       " 'innocent, innocent. And, if the word of Northumberland Avenue Wodehouse\\n',\n",
       " \"is not sufficient, let me point out that this story and Mr. Clouston's\\n\",\n",
       " 'appeared simultaneously in serial form in their respective magazines.\\n',\n",
       " 'This proves, I think, that at these cross-roads, at any rate, there has\\n',\n",
       " \"been no dirty work. All right, Herb., you can let 'em in now.\\n\",\n",
       " '\\n',\n",
       " '                                                     P. G. WODEHOUSE.\\n',\n",
       " 'Constitutional Club,\\n',\n",
       " '  Northumberland Avenue.\\n',\n",
       " '\\n',\n",
       " '\\n',\n",
       " '\\n',\n",
       " '\\n',\n",
       " 'CONTENTS\\n',\n",
       " '\\n',\n",
       " '\\n',\n",
       " 'CHAPTER                                            PAGE\\n',\n",
       " '\\n',\n",
       " '     I. A DISTURBING MORNING                         11\\n',\n",
       " '\\n',\n",
       " '    II. GALLANT RESCUE BY WELL-DRESSED YOUNG MAN     27\\n',\n",
       " '\\n',\n",
       " '   III. SAM PAVES THE WAY                            56\\n',\n",
       " '\\n',\n",
       " '    IV. SAM CLICKS                                   69\\n',\n",
       " '\\n',\n",
       " '     V. PERSECUTION OF EUSTACE                       95\\n',\n",
       " '\\n',\n",
       " \"    VI. SCENE AT A SHIP'S CONCERT                   104\\n\",\n",
       " '\\n',\n",
       " '   VII. SUNDERED HEARTS                             111\\n',\n",
       " '\\n',\n",
       " '  VIII. SIR MALLABY OFFERS A SUGGESTION             126\\n',\n",
       " '\\n',\n",
       " '    IX. ROUGH WORK AT A DINNER TABLE                144\\n',\n",
       " '\\n',\n",
       " '     X. TROUBLE AT WINDLES                          159\\n',\n",
       " '\\n',\n",
       " '    XI. MR. BENNETT HAS A BAD NIGHT                 180\\n',\n",
       " '\\n',\n",
       " '   XII. THE LURID PAST OF JOHN PETERS               193\\n',\n",
       " '\\n',\n",
       " '  XIII. SHOCKS ALL ROUND                            207\\n',\n",
       " '\\n',\n",
       " '   XIV. STRONG REMARKS BY A FATHER                  217\\n',\n",
       " '\\n',\n",
       " '    XV. DRAMA AT A COUNTRY HOUSE                    227\\n',\n",
       " '\\n',\n",
       " '   XVI. WEBSTER, FRIEND IN NEED                     242\\n',\n",
       " '\\n',\n",
       " '  XVII. A CROWDED NIGHT                             257\\n',\n",
       " '\\n',\n",
       " '\\n',\n",
       " '\\n',\n",
       " '\\n',\n",
       " 'THE GIRL ON THE BOAT\\n',\n",
       " '\\n',\n",
       " '\\n',\n",
       " '\\n',\n",
       " '\\n',\n",
       " 'CHAPTER I\\n',\n",
       " '\\n',\n",
       " 'A DISTURBING MORNING\\n',\n",
       " '\\n',\n",
       " '\\n',\n",
       " 'Through the curtained windows of the furnished flat which Mrs. Horace\\n',\n",
       " 'Hignett had rented for her stay in New York, rays of golden sunlight\\n',\n",
       " 'peeped in like the foremost spies of some advancing army. It was a fine\\n',\n",
       " 'summer morning. The hands of the Dutch clock in the hall pointed to\\n',\n",
       " 'thirteen minutes past nine; those of the ormolu clock in the\\n',\n",
       " 'sitting-room to eleven minutes past ten; those of the carriage clock on\\n',\n",
       " 'the bookshelf to fourteen minutes to six. In other words, it was exactly\\n',\n",
       " 'eight; and Mrs. Hignett acknowledged the fact by moving her head on the\\n',\n",
       " 'pillow, opening her eyes, and sitting up in bed. She always woke at\\n',\n",
       " 'eight precisely.\\n',\n",
       " '\\n',\n",
       " 'Was this Mrs. Hignett _the_ Mrs. Hignett, the world-famous writer on\\n',\n",
       " 'Theosophy, the author of \"The Spreading Light,\" \"What of the Morrow,\"\\n',\n",
       " \"and all the rest of that well-known series? I'm glad you asked me. Yes,\\n\",\n",
       " 'she was. She had come over to America on a lecturing tour.\\n',\n",
       " '\\n',\n",
       " 'About this time there was a good deal of suffering in the United States,\\n',\n",
       " 'for nearly every boat that arrived from England was bringing a fresh\\n',\n",
       " 'swarm of British lecturers to the country. Novelists, poets, scientists,\\n',\n",
       " 'philosophers, and plain, ordinary bores; some herd instinct seemed to\\n',\n",
       " 'affect them all simultaneously. It was like one of those great race\\n',\n",
       " 'movements of the Middle Ages. Men and women of widely differing views on\\n',\n",
       " 'religion, art, politics, and almost every other subject; on this one\\n',\n",
       " 'point the intellectuals of Great Britain were single-minded, that there\\n',\n",
       " 'was easy money to be picked up on the lecture-platforms of America, and\\n',\n",
       " 'that they might just as well grab it as the next person.\\n',\n",
       " '\\n',\n",
       " 'Mrs. Hignett had come over with the first batch of immigrants; for,\\n',\n",
       " 'spiritual as her writings were, there was a solid streak of business\\n',\n",
       " 'sense in this woman, and she meant to get hers while the getting was\\n',\n",
       " 'good. She was half way across the Atlantic with a complete itinerary\\n',\n",
       " 'booked, before ninety per cent. of the poets and philosophers had\\n',\n",
       " 'finished sorting out their clean collars and getting their photographs\\n',\n",
       " 'taken for the passport.\\n',\n",
       " '\\n',\n",
       " 'She had not left England without a pang, for departure had involved\\n',\n",
       " 'sacrifices. More than anything else in the world she loved her charming\\n',\n",
       " 'home, Windles, in the county of Hampshire, for so many years the seat of\\n',\n",
       " 'the Hignett family. Windles was as the breath of life to her. Its shady\\n',\n",
       " 'walks, its silver lake, its noble elms, the old grey stone of its\\n',\n",
       " 'walls--these were bound up with her very being. She felt that she\\n',\n",
       " 'belonged to Windles, and Windles to her. Unfortunately, as a matter of\\n',\n",
       " 'cold, legal accuracy, it did not. She did but hold it in trust for her\\n',\n",
       " 'son, Eustace, until such time as he should marry and take possession of\\n',\n",
       " 'it himself. There were times when the thought of Eustace marrying and\\n',\n",
       " 'bringing a strange woman to Windles chilled Mrs. Hignett to her very\\n',\n",
       " 'marrow. Happily, her firm policy of keeping her son permanently under\\n',\n",
       " 'her eye at home and never permitting him to have speech with a female\\n',\n",
       " 'below the age of fifty, had averted the peril up till now.\\n',\n",
       " '\\n',\n",
       " 'Eustace had accompanied his mother to America. It was his faint snores\\n',\n",
       " 'which she could hear in the adjoining room as, having bathed and\\n',\n",
       " 'dressed, she went down the hall to where breakfast awaited her. She\\n',\n",
       " 'smiled tolerantly. She had never desired to convert her son to her own\\n',\n",
       " 'early-rising habits, for, apart from not allowing him to call his soul\\n',\n",
       " 'his own, she was an indulgent mother. Eustace would get up at half-past\\n',\n",
       " 'nine, long after she had finished breakfast, read her correspondence,\\n',\n",
       " 'and started her duties for the day.\\n',\n",
       " '\\n',\n",
       " 'Breakfast was on the table in the sitting-room, a modest meal of rolls,\\n',\n",
       " 'porridge, and imitation coffee. Beside the pot containing this\\n',\n",
       " 'hell-brew, was a little pile of letters. Mrs. Hignett opened them as she\\n',\n",
       " 'ate. The majority were from disciples and dealt with matters of purely\\n',\n",
       " 'theosophical interest. There was an invitation from the Butterfly Club,\\n',\n",
       " 'asking her to be the guest of honour at their weekly dinner. There was a\\n',\n",
       " 'letter from her brother Mallaby--Sir Mallaby Marlowe, the eminent London\\n',\n",
       " 'lawyer--saying that his son Sam, of whom she had never approved, would\\n',\n",
       " 'be in New York shortly, passing through on his way back to England, and\\n',\n",
       " 'hoping that she would see something of him. Altogether a dull mail. Mrs.\\n',\n",
       " 'Hignett skimmed through it without interest, setting aside one or two of\\n',\n",
       " 'the letters for Eustace, who acted as her unpaid secretary, to answer\\n',\n",
       " 'later in the day.\\n',\n",
       " '\\n',\n",
       " 'She had just risen from the table, when there was a sound of voices in\\n',\n",
       " 'the hall, and presently the domestic staff, a gaunt Irish lady of\\n',\n",
       " 'advanced years, entered the room.\\n',\n",
       " '\\n',\n",
       " '\"Ma\\'am, there was a gentleman.\"\\n',\n",
       " '\\n',\n",
       " 'Mrs. Hignett was annoyed. Her mornings were sacred.\\n',\n",
       " '\\n',\n",
       " '\"Didn\\'t you tell him I was not to be disturbed?\"\\n',\n",
       " '\\n',\n",
       " '\"I did not. I loosed him into the parlour.\" The staff remained for a\\n',\n",
       " 'moment in melancholy silence, then resumed. \"He says he\\'s your nephew.\\n',\n",
       " 'His name\\'s Marlowe.\"\\n',\n",
       " '\\n',\n",
       " 'Mrs. Hignett experienced no diminution of her annoyance. She had not\\n',\n",
       " 'seen her nephew Sam for ten years, and would have been willing to extend\\n',\n",
       " 'the period. She remembered him as an untidy small boy who once or twice,\\n',\n",
       " 'during his school holidays, had disturbed the cloistral peace of Windles\\n',\n",
       " 'with his beastly presence. However, blood being thicker than water, and\\n',\n",
       " 'all that sort of thing, she supposed she would have to give him five\\n',\n",
       " 'minutes. She went into the sitting-room, and found there a young man who\\n',\n",
       " 'looked more or less like all other young men, though perhaps rather\\n',\n",
       " 'fitter than most. He had grown a good deal since she had last met him,\\n',\n",
       " 'as men so often do between the ages of fifteen and twenty-five, and was\\n',\n",
       " 'now about six feet in height, about forty inches round the chest, and in\\n',\n",
       " 'weight about thirteen stone. He had a brown and amiable face, marred at\\n',\n",
       " 'the moment by an expression of discomfort somewhat akin to that of a cat\\n',\n",
       " 'in a strange alley.\\n',\n",
       " '\\n',\n",
       " '\"Hullo, Aunt Adeline!\" he said awkwardly.\\n',\n",
       " '\\n',\n",
       " '\"Well, Samuel!\" said Mrs. Hignett.\\n',\n",
       " '\\n',\n",
       " 'There was a pause. Mrs. Hignett, who was not fond of young men and\\n',\n",
       " 'disliked having her mornings broken into, was thinking that he had not\\n',\n",
       " 'improved in the slightest degree since their last meeting; and Sam, who\\n',\n",
       " \"imagined that he had long since grown to man's estate and put off\\n\",\n",
       " 'childish things, was embarrassed to discover that his aunt still\\n',\n",
       " 'affected him as of old. That is to say, she made him feel as if he had\\n',\n",
       " 'omitted to shave and, in addition to that, had swallowed some drug which\\n',\n",
       " 'had caused him to swell unpleasantly, particularly about the hands and\\n',\n",
       " 'feet.\\n',\n",
       " '\\n',\n",
       " '\"Jolly morning,\" said Sam, perseveringly.\\n',\n",
       " '\\n',\n",
       " '\"So I imagine. I have not yet been out.\"\\n',\n",
       " '\\n',\n",
       " '\"Thought I\\'d look in and see how you were.\"\\n',\n",
       " '\\n',\n",
       " '\"That was very kind of you. The morning is my busy time, but ... yes,\\n',\n",
       " 'that was very kind of you!\"\\n',\n",
       " '\\n',\n",
       " 'There was another pause.\\n',\n",
       " '\\n',\n",
       " '\"How do you like America?\" said Sam.\\n',\n",
       " '\\n',\n",
       " '\"I dislike it exceedingly.\"\\n',\n",
       " '\\n',\n",
       " '\"Yes? Well, of course, some people do. Prohibition and all that.\\n',\n",
       " \"Personally, it doesn't affect me. I can take it or leave it alone. I\\n\",\n",
       " 'like America myself,\" said Sam. \"I\\'ve had a wonderful time. Everybody\\'s\\n',\n",
       " \"treated me like a rich uncle. I've been in Detroit, you know, and they\\n\",\n",
       " \"practically gave me the city and asked me if I'd like another to take\\n\",\n",
       " 'home in my pocket. Never saw anything like it. I might have been the\\n',\n",
       " 'missing heir! I think America\\'s the greatest invention on record.\"\\n',\n",
       " '\\n',\n",
       " '\"And what brought you to America?\" said Mrs. Hignett, unmoved by this\\n',\n",
       " 'rhapsody.\\n',\n",
       " '\\n',\n",
       " '\"Oh, I came over to play golf. In a tournament, you know.\"\\n',\n",
       " '\\n',\n",
       " '\"Surely at your age,\" said Mrs. Hignett, disapprovingly, \"you could be\\n',\n",
       " 'better occupied. Do you spend your whole time playing golf?\"\\n',\n",
       " '\\n',\n",
       " '\"Oh, no! I play cricket a bit and shoot a bit and I swim a good lot and\\n',\n",
       " 'I still play football occasionally.\"\\n',\n",
       " '\\n',\n",
       " '\"I wonder your father does not insist on your doing some useful work.\"\\n',\n",
       " '\\n',\n",
       " '\"He is beginning to harp on the subject rather. I suppose I shall take a\\n',\n",
       " 'stab at it sooner or later. Father says I ought to get married, too.\"\\n',\n",
       " '\\n',\n",
       " '\"He is perfectly right.\"\\n',\n",
       " '\\n',\n",
       " '\"I suppose old Eustace will be getting hitched up one of these days?\"\\n',\n",
       " 'said Sam.\\n',\n",
       " '\\n',\n",
       " 'Mrs. Hignett started violently.\\n',\n",
       " '\\n',\n",
       " '\"Why do you say that?\"\\n',\n",
       " '\\n',\n",
       " '\"Eh?\"\\n',\n",
       " '\\n',\n",
       " '\"What makes you say that?\"\\n',\n",
       " '\\n',\n",
       " '\"Oh, well, he\\'s a romantic sort of fellow. Writes poetry, and all that.\"\\n',\n",
       " '\\n',\n",
       " '\"There is no likelihood at all of Eustace marrying. He is of a shy and\\n',\n",
       " 'retiring temperament, and sees few women. He is almost a recluse.\"\\n',\n",
       " '\\n',\n",
       " 'Sam was aware of this, and had frequently regretted it. He had always\\n',\n",
       " 'been fond of his cousin in that half-amused and rather patronising way\\n',\n",
       " 'in which men of thews and sinews are fond of the weaker brethren who run\\n',\n",
       " 'more to pallor and intellect; and he had always felt that if Eustace had\\n',\n",
       " 'not had to retire to Windles to spend his life with a woman whom from\\n',\n",
       " 'his earliest years he had always considered the Empress of the Washouts,\\n',\n",
       " 'much might have been made of him. Both at school and at Oxford, Eustace\\n',\n",
       " 'had been--if not a sport--at least a decidedly cheery old bean. Sam\\n',\n",
       " 'remembered Eustace at school, breaking gas globes with a slipper in a\\n',\n",
       " 'positively rollicking manner. He remembered him at Oxford playing up to\\n',\n",
       " 'him manfully at the piano on the occasion when he had done that\\n',\n",
       " 'imitation of Frank Tinney which had been such a hit at the Trinity\\n',\n",
       " 'smoker. Yes, Eustace had had the makings of a pretty sound egg, and it\\n',\n",
       " 'was too bad that he had allowed his mother to coop him up down in the\\n',\n",
       " 'country, miles away from anywhere.\\n',\n",
       " '\\n',\n",
       " '\"Eustace is returning to England on Saturday,\" said Mrs. Hignett. She\\n',\n",
       " 'spoke a little wistfully. She had not been parted from her son since he\\n',\n",
       " 'had come down from Oxford; and she would have liked to keep him with her\\n',\n",
       " 'till the end of her lecturing tour. That, however, was out of the\\n',\n",
       " 'question. It was imperative that, while she was away, he should be at\\n',\n",
       " 'Windles. Nothing would have induced her to leave the place at the mercy\\n',\n",
       " 'of servants who might trample over the flowerbeds, scratch the polished\\n',\n",
       " 'floors, and forget to cover up the canary at night. \"He sails on the\\n',\n",
       " '\\'Atlantic.\\'\"\\n',\n",
       " '\\n',\n",
       " '\"That\\'s splendid!\" said Sam. \"I\\'m sailing on the \\'Atlantic\\' myself. I\\'ll\\n',\n",
       " \"go down to the office and see if we can't have a state-room together.\\n\",\n",
       " 'But where is he going to live when he gets to England?\"\\n',\n",
       " '\\n',\n",
       " '\"Where is he going to live? Why, at Windles, of course. Where else?\"\\n',\n",
       " '\\n',\n",
       " '\"But I thought you were letting Windles for the summer?\"\\n',\n",
       " '\\n',\n",
       " 'Mrs. Hignett stared.\\n',\n",
       " '\\n',\n",
       " '\"Letting Windles!\" She spoke as one might address a lunatic. \"What put\\n',\n",
       " 'that extraordinary idea into your head?\"\\n',\n",
       " '\\n',\n",
       " '\"I thought father said something about your letting the place to some\\n',\n",
       " 'American.\"\\n',\n",
       " '\\n',\n",
       " '\"Nothing of the kind!\"\\n',\n",
       " '\\n',\n",
       " 'It seemed to Sam that his aunt spoke somewhat vehemently, even\\n',\n",
       " 'snappishly, in correcting what was a perfectly natural mistake. He could\\n',\n",
       " 'not know that the subject of letting Windles for the summer was one\\n',\n",
       " 'which had long since begun to infuriate Mrs. Hignett. People had\\n',\n",
       " 'certainly asked her to let Windles. In fact, people had pestered her.\\n',\n",
       " 'There was a rich, fat man, an American named Bennett, whom she had met\\n',\n",
       " \"just before sailing at her brother's house in London. Invited down to\\n\",\n",
       " 'Windles for the day, Mr. Bennett had fallen in love with the place, and\\n',\n",
       " 'had begged her to name her own price. Not content with this, he had\\n',\n",
       " 'pursued her with his pleadings by means of the wireless telegraph while\\n',\n",
       " 'she was on the ocean, and had not given up the struggle even when she\\n',\n",
       " 'reached New York. She had not been in America two days when there had\\n',\n",
       " 'arrived a Mr. Mortimer, bosom friend of Mr. Bennett, carrying on the\\n',\n",
       " 'matter where the other had left off. For a whole week Mr. Mortimer had\\n',\n",
       " 'tried to induce her to reconsider her decision, and had only stopped\\n',\n",
       " 'because he had had to leave for England himself, to join his friend. And\\n',\n",
       " 'even then the thing had gone on. Indeed, this very morning, among the\\n',\n",
       " \"letters on Mrs. Hignett's table, the buff envelope of a cable from Mr.\\n\",\n",
       " 'Bennett had peeped out, nearly spoiling her breakfast. No wonder, then,\\n',\n",
       " 'that Sam\\'s allusion to the affair had caused the authoress of \"The\\n',\n",
       " 'Spreading Light\" momentarily to lose her customary calm.\\n',\n",
       " '\\n',\n",
       " '\"Nothing will induce me ever to let Windles,\" she said with finality,\\n',\n",
       " 'and rose significantly. Sam, perceiving that the audience was at an\\n',\n",
       " 'end--and glad of it--also got up.\\n',\n",
       " '\\n',\n",
       " '\"Well, I think I\\'ll be going down and seeing about that state-room\" he\\n',\n",
       " 'said.\\n',\n",
       " '\\n',\n",
       " '\"Certainly. I am a little busy just now, preparing notes for my next\\n',\n",
       " 'lecture.\"\\n',\n",
       " '\\n',\n",
       " '\"Of course, yes. Mustn\\'t interrupt you. I suppose you\\'re having a great\\n',\n",
       " 'time, gassing away--I mean--well, good-bye!\"\\n',\n",
       " '\\n',\n",
       " '\"Good-bye!\"\\n',\n",
       " '\\n',\n",
       " 'Mrs. Hignett, frowning, for the interview had ruffled her and disturbed\\n',\n",
       " 'that equable frame of mind which is so vital to the preparation of\\n',\n",
       " 'lectures on Theosophy, sat down at the writing-table and began to go\\n',\n",
       " 'through the notes which she had made overnight. She had hardly succeeded\\n',\n",
       " 'in concentrating herself when the door opened to admit the daughter of\\n',\n",
       " 'Erin once more.\\n',\n",
       " '\\n',\n",
       " '\"Ma\\'am, there was a gentleman.\"\\n',\n",
       " '\\n',\n",
       " '\"This is intolerable!\" cried Mrs. Hignett. \"Did you tell him that I was\\n',\n",
       " 'busy?\"\\n',\n",
       " '\\n',\n",
       " '\"I did not. I loosed him into the dining-room.\"\\n',\n",
       " '\\n',\n",
       " '\"Is he a reporter from one of the newspapers?\"\\n',\n",
       " '\\n',\n",
       " '\"He is not. He has spats and a tall-shaped hat. His name is Bream\\n',\n",
       " 'Mortimer.\"\\n',\n",
       " '\\n',\n",
       " '\"Bream Mortimer!\"\\n',\n",
       " '\\n',\n",
       " '\"Yes, ma\\'am. He handed me a bit of a kyard, but I dropped it, being\\n',\n",
       " 'slippy from the dishes.\"\\n',\n",
       " '\\n',\n",
       " 'Mrs. Hignett strode to the door with a forbidding expression. This, as\\n',\n",
       " 'she had justly remarked, was intolerable. She remembered Bream Mortimer.\\n',\n",
       " 'He was the son of the Mr. Mortimer who wanted Windles. This visit could\\n',\n",
       " 'only have to do with the subject of Windles, and she went into the\\n',\n",
       " 'dining-room in a state of cold fury, determined to squash the Mortimer\\n',\n",
       " 'family, in the person of their New York representative, once and for\\n',\n",
       " 'all.\\n',\n",
       " '\\n',\n",
       " '\"Good morning, Mr. Mortimer.\"\\n',\n",
       " '\\n',\n",
       " 'Bream Mortimer was tall and thin. He had small bright eyes and a sharply\\n',\n",
       " 'curving nose. He looked much more like a parrot than most parrots do. It\\n',\n",
       " 'gave strangers a momentary shock of surprise when they saw Bream\\n',\n",
       " 'Mortimer in restaurants, eating roast beef. They had the feeling that he\\n',\n",
       " 'would have preferred sunflower seeds.\\n',\n",
       " '\\n',\n",
       " '\"Morning, Mrs. Hignett.\"\\n',\n",
       " '\\n',\n",
       " '\"Please sit down.\"\\n',\n",
       " '\\n',\n",
       " 'Bream Mortimer looked as though he would rather have hopped on to a\\n',\n",
       " 'perch, but he sat down. He glanced about the room with gleaming, excited\\n',\n",
       " 'eyes.\\n',\n",
       " '\\n',\n",
       " '\"Mrs. Hignett, I must have a word with you alone!\"\\n',\n",
       " '\\n',\n",
       " '\"You _are_ having a word with me alone.\"\\n',\n",
       " '\\n',\n",
       " '\"I hardly know how to begin.\"\\n',\n",
       " '\\n',\n",
       " '\"Then let me help you. It is quite impossible. I will never consent.\"\\n',\n",
       " '\\n',\n",
       " 'Bream Mortimer started.\\n',\n",
       " '\\n',\n",
       " '\"Then you have heard about it?\"\\n',\n",
       " '\\n',\n",
       " '\"I have heard about nothing else since I met Mr. Bennett in London. Mr.\\n',\n",
       " 'Bennett talked about nothing else. Your father talked about nothing\\n',\n",
       " 'else. And now,\" cried Mrs. Hignett, fiercely, \"you come and try to\\n',\n",
       " 're-open the subject. Once and for all, nothing will alter my decision.\\n',\n",
       " 'No money will induce me to let my house.\"\\n',\n",
       " '\\n',\n",
       " '\"But I didn\\'t come about that!\"\\n',\n",
       " '\\n',\n",
       " '\"You did not come about Windles?\"\\n',\n",
       " '\\n',\n",
       " '\"Good Lord, no!\"\\n',\n",
       " '\\n',\n",
       " '\"Then will you kindly tell me why you have come?\"\\n',\n",
       " '\\n',\n",
       " 'Bream Mortimer seemed embarrassed. He wriggled a little, and moved his\\n',\n",
       " 'arms as if he were trying to flap them.\\n',\n",
       " '\\n',\n",
       " '\"You know,\" he said, \"I\\'m not a man who butts into other people\\'s\\n',\n",
       " 'affairs....\" He stopped.\\n',\n",
       " '\\n',\n",
       " '\"No?\" said Mrs. Hignett.\\n',\n",
       " '\\n',\n",
       " 'Bream began again.\\n',\n",
       " '\\n',\n",
       " '\"I\\'m not a man who gossips with valets....\"\\n',\n",
       " '\\n',\n",
       " '\"No?\"\\n',\n",
       " '\\n',\n",
       " '\"I\\'m not a man who....\"\\n',\n",
       " '\\n',\n",
       " 'Mrs. Hignett was never a very patient woman.\\n',\n",
       " '\\n',\n",
       " '\"Let us take all your negative qualities for granted,\" she said curtly.\\n',\n",
       " '\"I have no doubt that there are many things which you do not do. Let us\\n',\n",
       " 'confine ourselves to issues of definite importance. What is it, if you\\n',\n",
       " 'have no objection to concentrating your attention on that for a moment,\\n',\n",
       " 'that you wish to see me about?\"\\n',\n",
       " '\\n',\n",
       " '\"This marriage.\"\\n',\n",
       " '\\n',\n",
       " '\"What marriage?\"\\n',\n",
       " '\\n',\n",
       " '\"Your son\\'s marriage.\"\\n',\n",
       " '\\n',\n",
       " '\"My son is not married.\"\\n',\n",
       " '\\n',\n",
       " '\"No, but he\\'s going to be. At eleven o\\'clock this morning at the Little\\n',\n",
       " 'Church Round the Corner!\"\\n',\n",
       " '\\n',\n",
       " 'Mrs. Hignett stared.\\n',\n",
       " '\\n',\n",
       " '\"Are you mad?\"\\n',\n",
       " '\\n',\n",
       " '\"Well, I\\'m not any too well pleased, I\\'m bound to say,\" admitted Mr.\\n',\n",
       " 'Mortimer. \"You see, darn it all, I\\'m in love with the girl myself!\"\\n',\n",
       " '\\n',\n",
       " '\"Who is this girl?\"\\n',\n",
       " '\\n',\n",
       " '\"Have been for years. I\\'m one of those silent, patient fellows who hang\\n',\n",
       " 'around and look a lot but never tell their love....\"\\n',\n",
       " '\\n',\n",
       " '\"Who is this girl who has entrapped my son?\"\\n',\n",
       " '\\n',\n",
       " '\"I\\'ve always been one of those men who....\"\\n',\n",
       " '\\n',\n",
       " '\"Mr. Mortimer! With your permission we will take your positive\\n',\n",
       " 'qualities, also, for granted. In fact, we will not discuss you at all.\\n',\n",
       " 'You come to me with this absurd story....\"\\n',\n",
       " '\\n',\n",
       " '\"Not absurd. Honest fact. I had it from my valet who had it from her\\n',\n",
       " 'maid.\"\\n',\n",
       " '\\n',\n",
       " '\"Will you please tell me who is the girl my misguided son wishes to\\n',\n",
       " 'marry?\"\\n',\n",
       " '\\n',\n",
       " '\"I don\\'t know that I\\'d call him misguided,\" said Mr. Mortimer, as one\\n',\n",
       " 'desiring to be fair. \"I think he\\'s a right smart picker! She\\'s such a\\n',\n",
       " \"corking girl, you know. We were children together, and I've loved her\\n\",\n",
       " 'for years. Ten years at least. But you know how it is--somehow one never\\n',\n",
       " 'seems to get in line for a proposal. I thought I saw an opening in the\\n',\n",
       " \"summer of nineteen-twelve, but it blew over. I'm not one of these\\n\",\n",
       " 'smooth, dashing chaps, you see, with a great line of talk. I\\'m not....\"\\n',\n",
       " '\\n',\n",
       " '\"If you will kindly,\" said Mrs. Hignett impatiently, \"postpone this\\n',\n",
       " 'essay in psycho-analysis to some future occasion, I shall be greatly\\n',\n",
       " 'obliged. I am waiting to hear the name of the girl my son wishes to\\n',\n",
       " 'marry.\"\\n',\n",
       " '\\n',\n",
       " '\"Haven\\'t I told you?\" said Mr. Mortimer, surprised. \"That\\'s odd. I\\n',\n",
       " \"haven't. It's funny how one doesn't do the things one thinks one does.\\n\",\n",
       " 'I\\'m the sort of man....\"\\n',\n",
       " '\\n',\n",
       " '\"What is her name?\"\\n',\n",
       " '\\n',\n",
       " '\"... the sort of man who....\"\\n',\n",
       " '\\n',\n",
       " '\"What is her name?\"\\n',\n",
       " '\\n',\n",
       " '\"Bennett.\"\\n',\n",
       " '\\n',\n",
       " '\"Bennett? Wilhelmina Bennett? The daughter of Mr. Rufus Bennett? The\\n',\n",
       " 'red-haired girl I met at lunch one day at your father\\'s house?\"\\n',\n",
       " '\\n',\n",
       " '\"That\\'s it. You\\'re a great guesser. I think you ought to stop the\\n',\n",
       " 'thing.\"\\n',\n",
       " '\\n',\n",
       " '\"I intend to.\"\\n',\n",
       " '\\n',\n",
       " '\"Fine!\"\\n',\n",
       " '\\n',\n",
       " '\"The marriage would be unsuitable in every way. Miss Bennett and my son\\n',\n",
       " 'do not vibrate on the same plane.\"\\n',\n",
       " '\\n',\n",
       " '\"That\\'s right. I\\'ve noticed it myself.\"\\n',\n",
       " '\\n',\n",
       " '\"Their auras are not the same colour.\"\\n',\n",
       " '\\n',\n",
       " '\"If I\\'ve thought that once,\" said Bream Mortimer, \"I\\'ve thought it a\\n',\n",
       " \"hundred times. I wish I had a dollar for every time I've thought it. Not\\n\",\n",
       " 'the same colour. That\\'s the whole thing in a nutshell.\"\\n',\n",
       " '\\n',\n",
       " '\"I am much obliged to you for coming and telling me of this. I shall\\n',\n",
       " 'take immediate steps.\"\\n',\n",
       " '\\n',\n",
       " '\"That\\'s good. But what\\'s the procedure? It\\'s getting late. She\\'ll be\\n',\n",
       " 'waiting at the church at eleven.\"\\n',\n",
       " '\\n',\n",
       " '\"Eustace will not be there.\"\\n',\n",
       " '\\n',\n",
       " '\"You think you can fix it?\"\\n',\n",
       " '\\n',\n",
       " '\"Eustace will not be there,\" repeated Mrs. Hignett.\\n',\n",
       " '\\n',\n",
       " 'Bream Mortimer hopped down from his chair.\\n',\n",
       " '\\n',\n",
       " '\"Well, you\\'ve taken a weight off my mind.\"\\n',\n",
       " '\\n',\n",
       " '\"A mind, I should imagine, scarcely constructed to bear great weights.\"\\n',\n",
       " '\\n',\n",
       " '\"I\\'ll be going. Haven\\'t had breakfast yet. Too worried to eat breakfast.\\n',\n",
       " 'Relieved now. This is where three eggs and a rasher of ham get cut off\\n',\n",
       " 'in their prime. I feel I can rely on you.\"\\n',\n",
       " '\\n',\n",
       " '\"You can!\"\\n',\n",
       " '\\n',\n",
       " '\"Then I\\'ll say good-bye.\"\\n',\n",
       " '\\n',\n",
       " '\"Good-bye.\"\\n',\n",
       " '\\n',\n",
       " '\"I mean really good-bye. I\\'m sailing for England on Saturday on the\\n',\n",
       " '\\'Atlantic.\\'\"\\n',\n",
       " '\\n',\n",
       " '\"Indeed? My son will be your fellow-traveller.\"\\n',\n",
       " '\\n',\n",
       " 'Bream Mortimer looked somewhat apprehensive.\\n',\n",
       " '\\n',\n",
       " '\"You won\\'t tell him that I was the one who spilled the beans?\"\\n',\n",
       " '\\n',\n",
       " '\"I beg your pardon?\"\\n',\n",
       " '\\n',\n",
       " '\"You won\\'t wise him up that I threw a spanner into the machinery?\"\\n',\n",
       " '\\n',\n",
       " '\"I do not understand you.\"\\n',\n",
       " '\\n',\n",
       " '\"You won\\'t tell him that I crabbed his act ... gave the thing away ...\\n',\n",
       " 'gummed the game?\"\\n',\n",
       " '\\n',\n",
       " '\"I shall not mention your chivalrous intervention.\"\\n',\n",
       " '\\n',\n",
       " '\"Chivalrous?\" said Bream Mortimer a little doubtfully. \"I don\\'t know\\n',\n",
       " \"that I'd call it absolutely chivalrous. Of course, all's fair in love\\n\",\n",
       " \"and war. Well, I'm glad you're going to keep my share in the business\\n\",\n",
       " 'under your hat. It might have been awkward meeting him on board.\"\\n',\n",
       " '\\n',\n",
       " '\"You are not likely to meet Eustace on board. He is a very indifferent\\n',\n",
       " 'sailor and spends most of his time in his cabin.\"\\n',\n",
       " '\\n',\n",
       " '\"That\\'s good! Saves a lot of awkwardness. Well, good-bye.\"\\n',\n",
       " '\\n',\n",
       " '\"Good-bye. When you reach England, remember me to your father.\"\\n',\n",
       " '\\n',\n",
       " '\"He won\\'t have forgotten you,\" said Bream Mortimer, confidently. He did\\n',\n",
       " 'not see how it was humanly possible for anyone to forget this woman. She\\n',\n",
       " 'was like a celebrated chewing-gum. The taste lingered.\\n',\n",
       " '\\n',\n",
       " 'Mrs. Hignett was a woman of instant and decisive action. Even while her\\n',\n",
       " 'late visitor was speaking, schemes had begun to form in her mind like\\n',\n",
       " 'bubbles rising to the surface of a rushing river. By the time the door\\n',\n",
       " 'had closed behind Bream Mortimer she had at her disposal no fewer than\\n',\n",
       " 'seven, all good. It took her but a moment to select the best and\\n',\n",
       " \"simplest. She tiptoed softly to her son's room. Rhythmic snores greeted\\n\",\n",
       " 'her listening ears. She opened the door and went noiselessly in.\\n',\n",
       " '\\n',\n",
       " '\\n',\n",
       " '\\n',\n",
       " '\\n',\n",
       " 'CHAPTER II\\n',\n",
       " '\\n',\n",
       " 'GALLANT RESCUE BY WELL-DRESSED YOUNG MAN\\n',\n",
       " '\\n',\n",
       " '\\n',\n",
       " '§ 1\\n',\n",
       " '\\n',\n",
       " 'The White Star liner \"Atlantic\" lay at her pier with steam up and\\n',\n",
       " 'gangway down, ready for her trip to Southampton. The hour of departure\\n',\n",
       " 'was near, and there was a good deal of mixed activity going on. Sailors\\n',\n",
       " 'fiddled about with ropes. Junior officers flitted to and fro.\\n',\n",
       " 'White-jacketed stewards wrestled with trunks. Probably the captain,\\n',\n",
       " 'though not visible, was also employed on some useful work of a nautical\\n',\n",
       " 'nature and not wasting his time. Men, women, boxes, rugs, dogs, flowers,\\n',\n",
       " 'and baskets of fruits were flowing on board in a steady stream.\\n',\n",
       " '\\n',\n",
       " 'The usual drove of citizens had come to see the travellers off. There\\n',\n",
       " 'were men on the passenger-list who were being seen off by fathers, by\\n',\n",
       " 'mothers, by sisters, by cousins, and by aunts. In the steerage, there\\n',\n",
       " 'was an elderly Jewish lady who was being seen off by exactly\\n',\n",
       " 'thirty-seven of her late neighbours in Rivington Street. And two men in\\n',\n",
       " 'the second cabin were being seen off by detectives, surely the crowning\\n',\n",
       " 'compliment a great nation can bestow. The cavernous Customs sheds were\\n',\n",
       " 'congested with friends and relatives, and Sam Marlowe, heading for the\\n',\n",
       " 'gang-plank, was only able to make progress by employing all the muscle\\n',\n",
       " 'and energy which Nature had bestowed upon him, and which during the\\n',\n",
       " 'greater part of his life he had developed by athletic exercise. However,\\n',\n",
       " 'after some minutes of silent endeavour, now driving his shoulder into\\n',\n",
       " 'the midriff of some obstructing male, now courteously lifting some stout\\n',\n",
       " 'female off his feet, he had succeeded in struggling to within a few\\n',\n",
       " 'yards of his goal, when suddenly a sharp pain shot through his right\\n',\n",
       " 'arm, and he spun round with a cry.\\n',\n",
       " '\\n',\n",
       " 'It seemed to Sam that he had been bitten, and this puzzled him, for New\\n',\n",
       " 'York crowds, though they may shove and jostle, rarely bite.\\n',\n",
       " '\\n',\n",
       " 'He found himself face to face with an extraordinarily pretty girl.\\n',\n",
       " '\\n',\n",
       " 'She was a red-haired girl, with the beautiful ivory skin which goes with\\n',\n",
       " 'red hair. Her eyes, though they were under the shadow of her hat, and he\\n',\n",
       " 'could not be certain, he diagnosed as green, or may be blue, or possibly\\n',\n",
       " 'grey. Not that it mattered, for he had a catholic taste in feminine\\n',\n",
       " 'eyes. So long as they were large and bright, as were the specimens under\\n',\n",
       " 'his immediate notice, he was not the man to quibble about a point of\\n',\n",
       " 'colour. Her nose was small, and on the very tip of it there was a tiny\\n',\n",
       " 'freckle. Her mouth was nice and wide, her chin soft and round. She was\\n',\n",
       " 'just about the height which every girl ought to be. Her figure was trim,\\n',\n",
       " 'her feet tiny, and she wore one of those dresses of which a man can say\\n',\n",
       " 'no more than that they look pretty well all right.\\n',\n",
       " '\\n',\n",
       " 'Nature abhors a vacuum. Samuel Marlowe was a susceptible young man, and\\n',\n",
       " 'for many a long month his heart had been lying empty, all swept and\\n',\n",
       " 'garnished, with \"Welcome\" on the mat. This girl seemed to rush in and\\n',\n",
       " 'fill it. She was not the prettiest girl he had ever seen. She was the\\n',\n",
       " 'third prettiest. He had an orderly mind, one capable of classifying and\\n',\n",
       " 'docketing girls. But there was a subtle something about her, a sort of\\n',\n",
       " 'how-shall-one-put-it, which he had never encountered before. He\\n',\n",
       " 'swallowed convulsively. His well-developed chest swelled beneath its\\n',\n",
       " 'covering of blue flannel and invisible stripe. At last, he told himself,\\n',\n",
       " 'he was in love, really in love, and at first sight, too, which made it\\n',\n",
       " 'all the more impressive. He doubted whether in the whole course of\\n',\n",
       " 'history anything like this had ever happened before to anybody. Oh, to\\n',\n",
       " 'clasp this girl to him and....\\n',\n",
       " '\\n',\n",
       " 'But she had bitten him in the arm. That was hardly the right spirit.\\n',\n",
       " 'That, he felt, constituted an obstacle.\\n',\n",
       " '\\n',\n",
       " '\"Oh, I\\'m so sorry!\" she cried.\\n',\n",
       " '\\n',\n",
       " 'Well, of course, if she regretted her rash act.... After all, an\\n',\n",
       " 'impulsive girl might bite a man in the arm in the excitement of the\\n',\n",
       " 'moment and still have a sweet, womanly nature....\\n',\n",
       " '\\n',\n",
       " '\"The crowd seems to make Pinky-Boodles so nervous.\"\\n',\n",
       " '\\n',\n",
       " 'Sam might have remained mystified, but at this juncture there proceeded\\n',\n",
       " \"from a bundle of rugs in the neighbourhood of the girl's lower ribs, a\\n\",\n",
       " 'sharp yapping sound, of such a calibre as to be plainly audible over the\\n',\n",
       " 'confused noise of Mamies who were telling Sadies to be sure and write,\\n',\n",
       " 'of Bills who were instructing Dicks to look up old Joe in Paris and give\\n',\n",
       " 'him their best, and of all the fruit-boys, candy-boys, magazine-boys,\\n',\n",
       " 'American-flag-boys, and telegraph boys who were honking their wares on\\n',\n",
       " 'every side.\\n',\n",
       " '\\n',\n",
       " '\"I hope he didn\\'t hurt you much. You\\'re the third person he\\'s bitten\\n',\n",
       " 'to-day.\" She kissed the animal in a loving and congratulatory way on the\\n',\n",
       " 'tip of his black nose. \"Not counting waiters at the hotel, of course,\"\\n',\n",
       " 'she added. And then she was swept from him in the crowd, and he was left\\n',\n",
       " 'thinking of all the things he might have said--all those graceful,\\n',\n",
       " 'witty, ingratiating things which just make a bit of difference on these\\n',\n",
       " 'occasions.\\n',\n",
       " '\\n',\n",
       " 'He had said nothing. Not a sound, exclusive of the first sharp yowl of\\n',\n",
       " 'pain, had proceeded from him. He had just goggled. A rotten exhibition!\\n',\n",
       " 'Perhaps he would never see this girl again. She looked the sort of girl\\n',\n",
       " \"who comes to see friends off and doesn't sail herself. And what memory\\n\",\n",
       " 'of him would she retain? She would mix him up with the time when she\\n',\n",
       " 'went to visit the deaf-and-dumb hospital.\\n',\n",
       " '\\n',\n",
       " '\\n',\n",
       " '§ 2\\n',\n",
       " '\\n',\n",
       " 'Sam reached the gang-plank, showed his ticket, and made his way through\\n',\n",
       " \"the crowd of passengers, passengers' friends, stewards, junior officers,\\n\",\n",
       " 'and sailors who infested the deck. He proceeded down the main\\n',\n",
       " 'companion-way, through a rich smell of india-rubber and mixed pickles,\\n',\n",
       " 'as far as the dining saloon; then turned down the narrow passage leading\\n',\n",
       " 'to his state-room.\\n',\n",
       " '\\n',\n",
       " 'State-rooms on ocean liners are curious things. When you see them on the\\n',\n",
       " 'chart in the passenger-office, with the gentlemanly clerk drawing rings\\n',\n",
       " 'round them in pencil, they seem so vast that you get the impression\\n',\n",
       " 'that, after stowing away all your trunks, you will have room left over\\n',\n",
       " 'to do a bit of entertaining--possibly an informal dance or something.\\n',\n",
       " 'When you go on board, you find that the place has shrunk to the\\n',\n",
       " 'dimensions of an undersized cupboard in which it would be impossible to\\n',\n",
       " 'swing a cat. And then, about the second day out, it suddenly expands\\n',\n",
       " 'again. For one reason or another the necessity for swinging cats does\\n',\n",
       " 'not arise, and you find yourself quite comfortable.\\n',\n",
       " '\\n',\n",
       " 'Sam, balancing himself on the narrow, projecting ledge which the chart\\n',\n",
       " 'in the passenger-office had grandiloquently described as a lounge, began\\n',\n",
       " 'to feel the depression which marks the second phase. He almost wished\\n',\n",
       " 'now that he had not been so energetic in having his room changed in\\n',\n",
       " 'order to enjoy the company of his cousin Eustace. It was going to be a\\n',\n",
       " \"tight fit. Eustace's bag was already in the cabin, and it seemed to take\\n\",\n",
       " 'up the entire fairway. Still, after all, Eustace was a good sort, and\\n',\n",
       " 'would be a cheerful companion. And Sam realised that if the girl with\\n',\n",
       " 'the red hair was not a passenger on the boat, he was going to have need\\n',\n",
       " 'of diverting society.\\n',\n",
       " '\\n',\n",
       " 'A footstep sounded in the passage outside. The door opened.\\n',\n",
       " '\\n',\n",
       " '\"Hullo, Eustace!\" said Sam.\\n',\n",
       " '\\n',\n",
       " 'Eustace Hignett nodded listlessly, sat down on his bag, and emitted a\\n',\n",
       " 'deep sigh. He was a small, fragile-looking young man with a pale,\\n',\n",
       " 'intellectual face. Dark hair fell in a sweep over his forehead. He\\n',\n",
       " 'looked like a man who would write _vers libre_, as indeed he did.\\n',\n",
       " '\\n',\n",
       " '\"Hullo!\" he said, in a hollow voice.\\n',\n",
       " '\\n',\n",
       " 'Sam regarded him blankly. He had not seen him for some years, but, going\\n',\n",
       " 'by his recollections of him at the University, he had expected something\\n',\n",
       " 'cheerier than this. In fact, he had rather been relying on Eustace to be\\n',\n",
       " 'the life and soul of the party. The man sitting on the bag before him\\n',\n",
       " 'could hardly have filled that role at a gathering of Russian novelists.\\n',\n",
       " '\\n',\n",
       " '\"What on earth\\'s the matter?\" said Sam.\\n',\n",
       " '\\n',\n",
       " '\"The matter?\" Eustace Hignett laughed mirthlessly. \"Oh, nothing. Nothing\\n',\n",
       " 'much. Nothing to signify. Only my heart\\'s broken.\" He eyed with\\n',\n",
       " 'considerable malignity the bottle of water in the rack above his head, a\\n',\n",
       " 'harmless object provided by the White Star Company for clients who\\n',\n",
       " 'might desire to clean their teeth during the voyage.\\n',\n",
       " '\\n',\n",
       " '\"If you would care to hear the story...?\" he said.\\n',\n",
       " '\\n',\n",
       " '\"Go ahead.\"\\n',\n",
       " '\\n',\n",
       " '\"It is quite short.\"\\n',\n",
       " '\\n',\n",
       " '\"That\\'s good.\"\\n',\n",
       " '\\n',\n",
       " '\"Soon after I arrived in America, I met a girl....\"\\n',\n",
       " '\\n',\n",
       " '\"Talking of girls,\" said Sam with enthusiasm, \"I\\'ve just seen the only\\n',\n",
       " 'one in the world that really amounts to anything. It was like this. I\\n',\n",
       " 'was shoving my way through the mob on the dock, when suddenly....\"\\n',\n",
       " '\\n',\n",
       " '\"Shall I tell you my story, or will you tell yours?\"\\n',\n",
       " '\\n',\n",
       " '\"Oh, sorry! Go ahead.\"\\n',\n",
       " '\\n',\n",
       " 'Eustace Hignett scowled at the printed notice on the wall, informing\\n',\n",
       " 'occupants of the state-room that the name of their steward was J. B.\\n',\n",
       " 'Midgeley.\\n',\n",
       " '\\n',\n",
       " '\"She was an extraordinarily pretty girl....\"\\n',\n",
       " '\\n',\n",
       " '\"So was mine! I give you my honest word I never in all my life saw\\n',\n",
       " 'such....\"\\n',\n",
       " '\\n',\n",
       " '\"Of course, if you prefer that I postponed my narrative?\" said Eustace\\n',\n",
       " 'coldly.\\n',\n",
       " '\\n',\n",
       " '\"Oh, sorry! Carry on.\"\\n',\n",
       " '\\n',\n",
       " '\"She was an extraordinarily pretty girl....\"\\n',\n",
       " '\\n',\n",
       " '\"What was her name?\"\\n',\n",
       " '\\n',\n",
       " '\"Wilhelmina Bennett. She was an extraordinarily pretty girl, and highly\\n',\n",
       " 'intelligent. I read her all my poems, and she appreciated them\\n',\n",
       " 'immensely. She enjoyed my singing. My conversation appeared to interest\\n',\n",
       " 'her. She admired my....\"\\n',\n",
       " '\\n',\n",
       " '\"I see. You made a hit. Now get on with the story.\"\\n',\n",
       " '\\n',\n",
       " '\"Don\\'t bustle me,\" said Eustace querulously.\\n',\n",
       " '\\n',\n",
       " '\"Well, you know, the voyage only takes eight days.\"\\n',\n",
       " '\\n',\n",
       " '\"I\\'ve forgotten where I was.\"\\n',\n",
       " '\\n',\n",
       " '\"You were saying what a devil of a chap she thought you. What happened?\\n',\n",
       " 'I suppose, when you actually came to propose, you found she was engaged\\n',\n",
       " 'to some other johnny?\"\\n',\n",
       " '\\n',\n",
       " '\"Not at all! I asked her to be my wife and she consented. We both agreed\\n',\n",
       " 'that a quiet wedding was what we wanted--she thought her father might\\n',\n",
       " 'stop the thing if he knew, and I was dashed sure my mother would--so we\\n',\n",
       " 'decided to get married without telling anybody. By now,\" said Eustace,\\n',\n",
       " 'with a morose glance at the porthole, \"I ought to have been on my\\n',\n",
       " \"honeymoon. Everything was settled. I had the licence and the parson's\\n\",\n",
       " 'fee. I had been breaking in a new tie for the wedding.\"\\n',\n",
       " '\\n',\n",
       " '\"And then you quarrelled?\"\\n',\n",
       " '\\n',\n",
       " '\"Nothing of the kind. I wish you would stop trying to tell me the story.\\n',\n",
       " \"I'm telling _you_. What happened was this: somehow--I can't make out\\n\",\n",
       " 'how--mother found out. And then, of course, it was all over. She stopped\\n',\n",
       " 'the thing.\"\\n',\n",
       " '\\n',\n",
       " 'Sam was indignant. He thoroughly disliked his Aunt Adeline, and his\\n',\n",
       " \"cousin's meek subservience to her revolted him.\\n\",\n",
       " '\\n',\n",
       " '\"Stopped it? I suppose she said \\'Now, Eustace, you mustn\\'t!\\' and you\\n',\n",
       " 'said \\'Very well, mother!\\' and scratched the fixture?\"\\n',\n",
       " '\\n',\n",
       " '\"She didn\\'t say a word. She never has said a word. As far as that goes,\\n',\n",
       " 'she might never have heard anything about the marriage.\"\\n',\n",
       " '\\n',\n",
       " '\"Then how do you mean she stopped it?\"\\n',\n",
       " '\\n',\n",
       " '\"She pinched my trousers!\"\\n',\n",
       " '\\n',\n",
       " '\"Pinched your trousers!\"\\n',\n",
       " '\\n',\n",
       " 'Eustace groaned. \"All of them! The whole bally lot! She gets up long\\n',\n",
       " 'before I do, and she must have come into my room and cleaned it out\\n',\n",
       " \"while I was asleep. When I woke up and started to dress, I couldn't find\\n\",\n",
       " 'a single damned pair of bags in the whole place. I looked everywhere.\\n',\n",
       " 'Finally, I went into the sitting-room where she was writing letters and\\n',\n",
       " 'asked if she had happened to see any anywhere. She said she had sent\\n',\n",
       " 'them all to be pressed. She said she knew I never went out in the\\n',\n",
       " \"mornings--I don't as a rule--and they would be back at lunch-time. A fat\\n\",\n",
       " 'lot of use that was! I had to be at the church at eleven. Well, I told\\n',\n",
       " 'her I had a most important engagement with a man at eleven, and she\\n',\n",
       " 'wanted to know what it was, and I tried to think of something, but it\\n',\n",
       " 'sounded pretty feeble, and she said I had better telephone to the man\\n',\n",
       " 'and put it off. I did it, too. Rang up the first number in the book and\\n',\n",
       " \"told some fellow I had never seen in my life that I couldn't meet him\\n\",\n",
       " \"because I hadn't any trousers! He was pretty peeved, judging from what\\n\",\n",
       " 'he said about my being on the wrong number. And mother, listening all\\n',\n",
       " 'the time, and I knowing that she knew--something told me that she\\n',\n",
       " 'knew--and she knowing that I knew she knew.... I tell you, it was\\n',\n",
       " 'awful!\"\\n',\n",
       " '\\n',\n",
       " '\"And the girl?\"\\n',\n",
       " '\\n',\n",
       " '\"She broke off the engagement. Apparently she waited at the church from\\n',\n",
       " \"eleven till one-thirty, and then began to get impatient. She wouldn't\\n\",\n",
       " 'see me when I called in the afternoon, but I got a letter from her\\n',\n",
       " 'saying that what had happened was all for the best, as she had been\\n',\n",
       " 'thinking it over and had come to the conclusion that she had made a\\n',\n",
       " 'mistake. She said something about my not being as dynamic as she had\\n',\n",
       " 'thought I was. She said that what she wanted was something more like\\n',\n",
       " 'Lancelot or Sir Galahad, and would I look on the episode as closed.\"\\n',\n",
       " '\\n',\n",
       " '\"Did you explain about the trousers?\"\\n',\n",
       " '\\n',\n",
       " '\"Yes. It seemed to make things worse. She said that she could forgive a\\n',\n",
       " 'man anything except being ridiculous.\"\\n',\n",
       " '\\n',\n",
       " '\"I think you\\'re well out of it,\" said Sam, judicially. \"She can\\'t have\\n',\n",
       " 'been much of a girl.\"\\n',\n",
       " '\\n',\n",
       " '\"I feel that now. But it doesn\\'t alter the fact that my life is ruined.\\n',\n",
       " \"I have become a woman-hater. It's an infernal nuisance, because\\n\",\n",
       " 'practically all the poetry I have ever written rather went out of its\\n',\n",
       " \"way to boost women, and now I'll have to start all over again and\\n\",\n",
       " 'approach the subject from another angle. Women! When I think how mother\\n',\n",
       " \"behaved and how Wilhelmina treated me, I wonder there isn't a law\\n\",\n",
       " \"against them. 'What mighty ills have not been done by Woman! Who was't\\n\",\n",
       " 'betrayed the Capitol....\\'\"\\n',\n",
       " '\\n',\n",
       " '\"In Washington?\" said Sam, puzzled. He had heard nothing of this. But\\n',\n",
       " 'then he generally confined his reading of the papers to the sporting\\n',\n",
       " 'page.\\n',\n",
       " '\\n',\n",
       " '\"In Rome, you ass! Ancient Rome.\"\\n',\n",
       " '\\n',\n",
       " '\"Oh, as long ago as that?\"\\n',\n",
       " '\\n',\n",
       " '\"I was quoting from Thomas Otway\\'s \\'Orphan.\\' I wish I could write like\\n',\n",
       " \"Otway. He knew what he was talking about. 'Who was't betrayed the\\n\",\n",
       " 'Capitol? A woman. Who lost Marc Anthony the world? A woman. Who was the\\n',\n",
       " \"cause of a long ten years' war and laid at last old Troy in ashes?\\n\",\n",
       " 'Woman! Destructive, damnable, deceitful woman!\\'\"\\n',\n",
       " '\\n',\n",
       " '\"Well, of course, he may be right in a way. As regards some women, I\\n',\n",
       " 'mean. But the girl I met on the dock....\"\\n',\n",
       " '\\n',\n",
       " '\"Don\\'t!\" said Eustace Hignett. \"If you have anything bitter and\\n',\n",
       " 'derogatory to say about women, say it and I will listen eagerly. But if\\n',\n",
       " 'you merely wish to gibber about the ornamental exterior of some dashed\\n',\n",
       " 'girl you have been fool enough to get attracted by, go and tell it to\\n',\n",
       " \"the captain or the ship's cat or J. B. Midgeley. Do try to realise that\\n\",\n",
       " 'I am a soul in torment. I am a ruin, a spent force, a man without a\\n',\n",
       " 'future. What does life hold for me? Love? I shall never love again. My\\n',\n",
       " 'work? I haven\\'t any. I think I shall take to drink.\"\\n',\n",
       " '\\n',\n",
       " '\"Talking of that,\" said Sam, \"I suppose they open the bar directly we\\n',\n",
       " 'pass the three-mile limit. How about a small one?\"\\n',\n",
       " '\\n',\n",
       " 'Eustace shook his head gloomily.\\n',\n",
       " '\\n',\n",
       " '\"Do you suppose I pass my time on board ship in gadding about and\\n',\n",
       " 'feasting? Directly the vessel begins to move, I go to bed and stay\\n',\n",
       " 'there. As a matter of fact, I think it would be wisest to go to bed now.\\n',\n",
       " 'Don\\'t let me keep you if you want to go on deck.\"\\n',\n",
       " '\\n',\n",
       " '\"It looks to me,\" said Sam, \"as if I had been mistaken in thinking that\\n',\n",
       " 'you were going to be a ray of sunshine on the voyage.\"\\n',\n",
       " '\\n',\n",
       " '\"Ray of sunshine!\" said Eustace Hignett, pulling a pair of mauve pyjamas\\n',\n",
       " 'out of the kit-bag. \"I\\'m going to be a volcano!\"\\n',\n",
       " '\\n',\n",
       " 'Sam left the state-room and headed for the companion. He wanted to get\\n',\n",
       " 'on deck and ascertain if that girl was still on board. About now, the\\n',\n",
       " 'sheep would be separating from the goats; the passengers would be on\\n',\n",
       " ...]"
      ]
     },
     "execution_count": 69,
     "metadata": {},
     "output_type": "execute_result"
    }
   ],
   "source": [
    "data"
   ]
  },
  {
   "cell_type": "code",
   "execution_count": 71,
   "metadata": {},
   "outputs": [],
   "source": [
    "# String formating for printing\n",
    "# formatting with {} format"
   ]
  },
  {
   "cell_type": "code",
   "execution_count": 72,
   "metadata": {},
   "outputs": [
    {
     "name": "stdout",
     "output_type": "stream",
     "text": [
      "This is a string INSERTED\n"
     ]
    }
   ],
   "source": [
    "print('This is a string {}'.format('INSERTED'))"
   ]
  },
  {
   "cell_type": "code",
   "execution_count": 73,
   "metadata": {},
   "outputs": [
    {
     "name": "stdout",
     "output_type": "stream",
     "text": [
      "The fox brown quick\n"
     ]
    }
   ],
   "source": [
    "print('The {} {} {}'.format('fox', 'brown', 'quick'))"
   ]
  },
  {
   "cell_type": "code",
   "execution_count": 76,
   "metadata": {},
   "outputs": [
    {
     "name": "stdout",
     "output_type": "stream",
     "text": [
      "The fox brown quick\n"
     ]
    }
   ],
   "source": [
    "print('The {f} {b} {q}'.format(f='fox',b='brown',q='quick'))"
   ]
  },
  {
   "cell_type": "code",
   "execution_count": 77,
   "metadata": {},
   "outputs": [],
   "source": [
    "result = 100/777"
   ]
  },
  {
   "cell_type": "code",
   "execution_count": 78,
   "metadata": {},
   "outputs": [
    {
     "data": {
      "text/plain": [
       "0.1287001287001287"
      ]
     },
     "execution_count": 78,
     "metadata": {},
     "output_type": "execute_result"
    }
   ],
   "source": [
    "result"
   ]
  },
  {
   "cell_type": "code",
   "execution_count": 79,
   "metadata": {},
   "outputs": [],
   "source": [
    "pi = 22/7"
   ]
  },
  {
   "cell_type": "code",
   "execution_count": 80,
   "metadata": {},
   "outputs": [
    {
     "data": {
      "text/plain": [
       "3.142857142857143"
      ]
     },
     "execution_count": 80,
     "metadata": {},
     "output_type": "execute_result"
    }
   ],
   "source": [
    "pi"
   ]
  },
  {
   "cell_type": "code",
   "execution_count": 81,
   "metadata": {},
   "outputs": [
    {
     "name": "stdout",
     "output_type": "stream",
     "text": [
      " The result was      3.143\n"
     ]
    }
   ],
   "source": [
    "print(\" The result was {r:10.3f}\".format(r=pi))"
   ]
  },
  {
   "cell_type": "code",
   "execution_count": 82,
   "metadata": {},
   "outputs": [
    {
     "name": "stdout",
     "output_type": "stream",
     "text": [
      " The result was 3.143\n"
     ]
    }
   ],
   "source": [
    "print(\" The result was {r:1.3f}\".format(r=pi))"
   ]
  },
  {
   "cell_type": "code",
   "execution_count": 83,
   "metadata": {},
   "outputs": [],
   "source": [
    "name = \"Jose\""
   ]
  },
  {
   "cell_type": "code",
   "execution_count": 86,
   "metadata": {},
   "outputs": [
    {
     "name": "stdout",
     "output_type": "stream",
     "text": [
      "Hello, His name is Jose\n"
     ]
    }
   ],
   "source": [
    "print(f'Hello, His name is {name}')"
   ]
  },
  {
   "cell_type": "code",
   "execution_count": 87,
   "metadata": {},
   "outputs": [],
   "source": [
    "name = \"Sam\""
   ]
  },
  {
   "cell_type": "code",
   "execution_count": 88,
   "metadata": {},
   "outputs": [],
   "source": [
    "age = 3"
   ]
  },
  {
   "cell_type": "code",
   "execution_count": 89,
   "metadata": {},
   "outputs": [
    {
     "name": "stdout",
     "output_type": "stream",
     "text": [
      "Sam is 3 years old.\n"
     ]
    }
   ],
   "source": [
    "print(f'{name} is {age} years old.')"
   ]
  },
  {
   "cell_type": "markdown",
   "metadata": {},
   "source": [
    "### Lists in Python\n",
    "- Lists are ordered sequences that can hold a variety of object types.\n",
    "- They use [] brackets and commas to seperate objects in the list.\n",
    "- [1,2,3,4,5]\n",
    "- Lists suport indexing and slicing. Lists can be nested and also have a variety of useful methods that can be called off of them."
   ]
  },
  {
   "cell_type": "code",
   "execution_count": 90,
   "metadata": {},
   "outputs": [],
   "source": [
    "my_list = [1,2,3]"
   ]
  },
  {
   "cell_type": "code",
   "execution_count": 91,
   "metadata": {},
   "outputs": [
    {
     "data": {
      "text/plain": [
       "[1, 2, 3]"
      ]
     },
     "execution_count": 91,
     "metadata": {},
     "output_type": "execute_result"
    }
   ],
   "source": [
    "my_list"
   ]
  },
  {
   "cell_type": "code",
   "execution_count": 92,
   "metadata": {},
   "outputs": [],
   "source": [
    "my_list = ['STRING',100,23.2]"
   ]
  },
  {
   "cell_type": "code",
   "execution_count": 93,
   "metadata": {},
   "outputs": [
    {
     "data": {
      "text/plain": [
       "3"
      ]
     },
     "execution_count": 93,
     "metadata": {},
     "output_type": "execute_result"
    }
   ],
   "source": [
    "len(my_list)"
   ]
  },
  {
   "cell_type": "code",
   "execution_count": 96,
   "metadata": {},
   "outputs": [],
   "source": [
    "mylist = ['one','two','three']"
   ]
  },
  {
   "cell_type": "code",
   "execution_count": 97,
   "metadata": {},
   "outputs": [
    {
     "data": {
      "text/plain": [
       "'one'"
      ]
     },
     "execution_count": 97,
     "metadata": {},
     "output_type": "execute_result"
    }
   ],
   "source": [
    "mylist[0]"
   ]
  },
  {
   "cell_type": "code",
   "execution_count": 98,
   "metadata": {},
   "outputs": [],
   "source": [
    "another_list = ['four','five']"
   ]
  },
  {
   "cell_type": "code",
   "execution_count": 101,
   "metadata": {},
   "outputs": [],
   "source": [
    "new_list = ['one','two','three','four','five','six']"
   ]
  },
  {
   "cell_type": "code",
   "execution_count": 102,
   "metadata": {},
   "outputs": [],
   "source": [
    "new_list[0] = 'ONE ALL CAPS'"
   ]
  },
  {
   "cell_type": "code",
   "execution_count": 103,
   "metadata": {},
   "outputs": [
    {
     "data": {
      "text/plain": [
       "['ONE ALL CAPS', 'two', 'three', 'four', 'five', 'six']"
      ]
     },
     "execution_count": 103,
     "metadata": {},
     "output_type": "execute_result"
    }
   ],
   "source": [
    "new_list"
   ]
  },
  {
   "cell_type": "code",
   "execution_count": 104,
   "metadata": {},
   "outputs": [],
   "source": [
    "new_list.append('six')"
   ]
  },
  {
   "cell_type": "code",
   "execution_count": 105,
   "metadata": {},
   "outputs": [
    {
     "data": {
      "text/plain": [
       "['ONE ALL CAPS', 'two', 'three', 'four', 'five', 'six', 'six']"
      ]
     },
     "execution_count": 105,
     "metadata": {},
     "output_type": "execute_result"
    }
   ],
   "source": [
    "new_list"
   ]
  },
  {
   "cell_type": "code",
   "execution_count": 107,
   "metadata": {},
   "outputs": [
    {
     "data": {
      "text/plain": [
       "'six'"
      ]
     },
     "execution_count": 107,
     "metadata": {},
     "output_type": "execute_result"
    }
   ],
   "source": [
    "# to remove items from list use pop method\n",
    "new_list.pop()"
   ]
  },
  {
   "cell_type": "code",
   "execution_count": 108,
   "metadata": {},
   "outputs": [
    {
     "data": {
      "text/plain": [
       "['ONE ALL CAPS', 'two', 'three', 'four', 'five', 'six']"
      ]
     },
     "execution_count": 108,
     "metadata": {},
     "output_type": "execute_result"
    }
   ],
   "source": [
    "new_list"
   ]
  },
  {
   "cell_type": "code",
   "execution_count": 109,
   "metadata": {},
   "outputs": [],
   "source": [
    "popped_item = new_list.pop()"
   ]
  },
  {
   "cell_type": "code",
   "execution_count": 110,
   "metadata": {},
   "outputs": [
    {
     "data": {
      "text/plain": [
       "'six'"
      ]
     },
     "execution_count": 110,
     "metadata": {},
     "output_type": "execute_result"
    }
   ],
   "source": [
    "popped_item"
   ]
  },
  {
   "cell_type": "code",
   "execution_count": 111,
   "metadata": {},
   "outputs": [
    {
     "data": {
      "text/plain": [
       "'ONE ALL CAPS'"
      ]
     },
     "execution_count": 111,
     "metadata": {},
     "output_type": "execute_result"
    }
   ],
   "source": [
    "new_list.pop(0)"
   ]
  },
  {
   "cell_type": "code",
   "execution_count": 112,
   "metadata": {},
   "outputs": [],
   "source": [
    "alpha_list = ['a','b']"
   ]
  },
  {
   "cell_type": "code",
   "execution_count": 113,
   "metadata": {},
   "outputs": [],
   "source": [
    "sample_list = [1,'two',3.14159]"
   ]
  },
  {
   "cell_type": "code",
   "execution_count": 114,
   "metadata": {},
   "outputs": [
    {
     "data": {
      "text/plain": [
       "[1, 'two', 3.14159]"
      ]
     },
     "execution_count": 114,
     "metadata": {},
     "output_type": "execute_result"
    }
   ],
   "source": [
    "sample_list"
   ]
  },
  {
   "cell_type": "markdown",
   "metadata": {},
   "source": [
    "#### List - FAQ's\n",
    "##### How to index nested list? For example if we want to grab 2 from [1,1,[1,2]]?\n",
    "you should just add another set of brackets for indexing the nested list, for example: my_list[2][1]. We'll discover later on more nested objects and you will be quizzed on them later!\n"
   ]
  },
  {
   "cell_type": "markdown",
   "metadata": {},
   "source": [
    "### Dictionaries\n",
    "- **Dictionaries** are unordered mappings for storing objects. Previously we saw how lsits store objects in an ordered sequence, dictionaries use a key-value pairing instead\n",
    "- This key-value pair allows users to quickly grab objects without needing to know an index location.\n",
    "- Dictionaries use curly braces and colons to signify the keys and their associated values.\n",
    "```python\n",
    "            {'key1':'value1','key2':'value2'}\n",
    "```\n",
    "\n",
    "- So when to choose a list and when to choose a dictionary?        "
   ]
  },
  {
   "cell_type": "markdown",
   "metadata": {},
   "source": [
    "- **Dictionaries:** Objects retrieved by key name.\n",
    "Unordered and can not be sorted.\n",
    "- **Lists:** Objects retrieved by location.\n",
    "Ordered Sequence can be indexed or sliced"
   ]
  },
  {
   "cell_type": "code",
   "execution_count": 116,
   "metadata": {},
   "outputs": [],
   "source": [
    "my_dict = {'key1':'value1','key2':'value2'}"
   ]
  },
  {
   "cell_type": "code",
   "execution_count": 117,
   "metadata": {},
   "outputs": [
    {
     "data": {
      "text/plain": [
       "{'key1': 'value1', 'key2': 'value2'}"
      ]
     },
     "execution_count": 117,
     "metadata": {},
     "output_type": "execute_result"
    }
   ],
   "source": [
    "my_dict"
   ]
  },
  {
   "cell_type": "code",
   "execution_count": 118,
   "metadata": {},
   "outputs": [
    {
     "data": {
      "text/plain": [
       "'value1'"
      ]
     },
     "execution_count": 118,
     "metadata": {},
     "output_type": "execute_result"
    }
   ],
   "source": [
    "my_dict['key1']"
   ]
  },
  {
   "cell_type": "code",
   "execution_count": 119,
   "metadata": {},
   "outputs": [],
   "source": [
    "prices_lookup = {'apple':2.99,'oranges':1.99,'milk':5.80}"
   ]
  },
  {
   "cell_type": "code",
   "execution_count": 120,
   "metadata": {},
   "outputs": [],
   "source": [
    "d = {'k1':123,'k2':[0,1,2],'k3':{'insidekey':100}}"
   ]
  },
  {
   "cell_type": "code",
   "execution_count": 121,
   "metadata": {},
   "outputs": [
    {
     "data": {
      "text/plain": [
       "100"
      ]
     },
     "execution_count": 121,
     "metadata": {},
     "output_type": "execute_result"
    }
   ],
   "source": [
    "d['k3']['insidekey']"
   ]
  },
  {
   "cell_type": "code",
   "execution_count": 122,
   "metadata": {},
   "outputs": [
    {
     "data": {
      "text/plain": [
       "['one', 'two', 'three']"
      ]
     },
     "execution_count": 122,
     "metadata": {},
     "output_type": "execute_result"
    }
   ],
   "source": [
    "mylist"
   ]
  },
  {
   "cell_type": "code",
   "execution_count": 123,
   "metadata": {},
   "outputs": [],
   "source": [
    "d['k2'][2] = 'hi down forget to be Awesome!'"
   ]
  },
  {
   "cell_type": "code",
   "execution_count": 124,
   "metadata": {},
   "outputs": [
    {
     "data": {
      "text/plain": [
       "{'k1': 123,\n",
       " 'k2': [0, 1, 'hi down forget to be Awesome!'],\n",
       " 'k3': {'insidekey': 100}}"
      ]
     },
     "execution_count": 124,
     "metadata": {},
     "output_type": "execute_result"
    }
   ],
   "source": [
    "d"
   ]
  },
  {
   "cell_type": "code",
   "execution_count": 125,
   "metadata": {},
   "outputs": [
    {
     "data": {
      "text/plain": [
       "'HI DOWN FORGET TO BE AWESOME!'"
      ]
     },
     "execution_count": 125,
     "metadata": {},
     "output_type": "execute_result"
    }
   ],
   "source": [
    "d['k2'][2].upper()"
   ]
  },
  {
   "cell_type": "markdown",
   "metadata": {},
   "source": [
    "#### Tuples in Python\n",
    "- **Tuples** are very similar to lists. However they have one key difference - **"
   ]
  },
  {
   "cell_type": "code",
   "execution_count": 126,
   "metadata": {},
   "outputs": [],
   "source": [
    "t = (1,2,3)"
   ]
  },
  {
   "cell_type": "code",
   "execution_count": 127,
   "metadata": {},
   "outputs": [],
   "source": [
    "mylist = [1,2,3]"
   ]
  },
  {
   "cell_type": "code",
   "execution_count": 128,
   "metadata": {},
   "outputs": [
    {
     "data": {
      "text/plain": [
       "tuple"
      ]
     },
     "execution_count": 128,
     "metadata": {},
     "output_type": "execute_result"
    }
   ],
   "source": [
    "type(t)"
   ]
  },
  {
   "cell_type": "code",
   "execution_count": 129,
   "metadata": {},
   "outputs": [
    {
     "data": {
      "text/plain": [
       "list"
      ]
     },
     "execution_count": 129,
     "metadata": {},
     "output_type": "execute_result"
    }
   ],
   "source": [
    "type(mylist)"
   ]
  },
  {
   "cell_type": "code",
   "execution_count": 131,
   "metadata": {},
   "outputs": [],
   "source": [
    "t = ('one',2)"
   ]
  },
  {
   "cell_type": "code",
   "execution_count": 132,
   "metadata": {},
   "outputs": [],
   "source": [
    "t = ('a','a','b')"
   ]
  },
  {
   "cell_type": "code",
   "execution_count": 134,
   "metadata": {},
   "outputs": [
    {
     "data": {
      "text/plain": [
       "2"
      ]
     },
     "execution_count": 134,
     "metadata": {},
     "output_type": "execute_result"
    }
   ],
   "source": [
    "t.count('a')"
   ]
  },
  {
   "cell_type": "code",
   "execution_count": 135,
   "metadata": {},
   "outputs": [
    {
     "data": {
      "text/plain": [
       "0"
      ]
     },
     "execution_count": 135,
     "metadata": {},
     "output_type": "execute_result"
    }
   ],
   "source": [
    "t.index('a')"
   ]
  },
  {
   "cell_type": "code",
   "execution_count": 136,
   "metadata": {},
   "outputs": [
    {
     "data": {
      "text/plain": [
       "2"
      ]
     },
     "execution_count": 136,
     "metadata": {},
     "output_type": "execute_result"
    }
   ],
   "source": [
    "t.index('b')"
   ]
  },
  {
   "cell_type": "code",
   "execution_count": 137,
   "metadata": {},
   "outputs": [
    {
     "data": {
      "text/plain": [
       "[1, 2, 3]"
      ]
     },
     "execution_count": 137,
     "metadata": {},
     "output_type": "execute_result"
    }
   ],
   "source": [
    "# mutatbility really makes a tuple ' a tuple'\n",
    "mylist"
   ]
  },
  {
   "cell_type": "code",
   "execution_count": 139,
   "metadata": {},
   "outputs": [],
   "source": [
    "mylist[0]='NEW'"
   ]
  },
  {
   "cell_type": "code",
   "execution_count": 140,
   "metadata": {},
   "outputs": [
    {
     "data": {
      "text/plain": [
       "['NEW', 2, 3]"
      ]
     },
     "execution_count": 140,
     "metadata": {},
     "output_type": "execute_result"
    }
   ],
   "source": [
    "mylist"
   ]
  },
  {
   "cell_type": "code",
   "execution_count": 141,
   "metadata": {},
   "outputs": [
    {
     "ename": "TypeError",
     "evalue": "'tuple' object does not support item assignment",
     "output_type": "error",
     "traceback": [
      "\u001b[0;31m---------------------------------------------------------------------------\u001b[0m",
      "\u001b[0;31mTypeError\u001b[0m                                 Traceback (most recent call last)",
      "\u001b[0;32m<ipython-input-141-793b9fc5f5c1>\u001b[0m in \u001b[0;36m<module>\u001b[0;34m\u001b[0m\n\u001b[0;32m----> 1\u001b[0;31m \u001b[0mt\u001b[0m\u001b[0;34m[\u001b[0m\u001b[0;36m0\u001b[0m\u001b[0;34m]\u001b[0m\u001b[0;34m=\u001b[0m\u001b[0;34m\"NEW\"\u001b[0m\u001b[0;34m\u001b[0m\u001b[0;34m\u001b[0m\u001b[0m\n\u001b[0m",
      "\u001b[0;31mTypeError\u001b[0m: 'tuple' object does not support item assignment"
     ]
    }
   ],
   "source": [
    "t[0]=\"NEW\""
   ]
  },
  {
   "cell_type": "markdown",
   "metadata": {},
   "source": [
    "### Sets in Python\n",
    "- **Sets** are unordered collections of **unique** elements\n",
    "- Meaning there can only be one representitive of the same object\n",
    "Let's see some examples!"
   ]
  },
  {
   "cell_type": "code",
   "execution_count": 142,
   "metadata": {},
   "outputs": [],
   "source": [
    "myset = set()"
   ]
  },
  {
   "cell_type": "code",
   "execution_count": 144,
   "metadata": {},
   "outputs": [],
   "source": [
    "myset.add(1)"
   ]
  },
  {
   "cell_type": "code",
   "execution_count": 145,
   "metadata": {},
   "outputs": [],
   "source": [
    "myset.add(2)"
   ]
  },
  {
   "cell_type": "code",
   "execution_count": 148,
   "metadata": {},
   "outputs": [],
   "source": [
    "list_for_set = [1,1,1,1,1,11,1,2,2,2,2,2,3,3,3,3,33, 2,44,4,4,4]"
   ]
  },
  {
   "cell_type": "code",
   "execution_count": 149,
   "metadata": {},
   "outputs": [
    {
     "data": {
      "text/plain": [
       "{1, 2, 3, 4, 11, 33, 44}"
      ]
     },
     "execution_count": 149,
     "metadata": {},
     "output_type": "execute_result"
    }
   ],
   "source": [
    "set(list_for_set)"
   ]
  },
  {
   "cell_type": "code",
   "execution_count": 150,
   "metadata": {},
   "outputs": [
    {
     "data": {
      "text/plain": [
       "list"
      ]
     },
     "execution_count": 150,
     "metadata": {},
     "output_type": "execute_result"
    }
   ],
   "source": [
    "type(data)"
   ]
  },
  {
   "cell_type": "code",
   "execution_count": 152,
   "metadata": {},
   "outputs": [
    {
     "data": {
      "text/plain": [
       "\"Project Gutenberg's The Girl on the Boat, by Pelham Grenville Wodehouse\\n\""
      ]
     },
     "execution_count": 152,
     "metadata": {},
     "output_type": "execute_result"
    }
   ],
   "source": [
    "data[0]"
   ]
  },
  {
   "cell_type": "code",
   "execution_count": 157,
   "metadata": {},
   "outputs": [
    {
     "ename": "TypeError",
     "evalue": "count() takes exactly one argument (0 given)",
     "output_type": "error",
     "traceback": [
      "\u001b[0;31m---------------------------------------------------------------------------\u001b[0m",
      "\u001b[0;31mTypeError\u001b[0m                                 Traceback (most recent call last)",
      "\u001b[0;32m<ipython-input-157-bcf6b48ba43a>\u001b[0m in \u001b[0;36m<module>\u001b[0;34m\u001b[0m\n\u001b[0;32m----> 1\u001b[0;31m \u001b[0mdata\u001b[0m\u001b[0;34m.\u001b[0m\u001b[0mcount\u001b[0m\u001b[0;34m(\u001b[0m\u001b[0;34m)\u001b[0m\u001b[0;34m\u001b[0m\u001b[0;34m\u001b[0m\u001b[0m\n\u001b[0m",
      "\u001b[0;31mTypeError\u001b[0m: count() takes exactly one argument (0 given)"
     ]
    }
   ],
   "source": []
  },
  {
   "cell_type": "code",
   "execution_count": 158,
   "metadata": {},
   "outputs": [
    {
     "data": {
      "text/plain": [
       "{'in order,\" she added severely.\\n',\n",
       " 'sat with his feet hanging well out of reach. The bulldog Smith, gazed up\\n',\n",
       " 'terrible mistake!\"\\n',\n",
       " 'a lawyer, as if he were in the coils of a python.\\n',\n",
       " 'who, if he had not actually dandled Sam on his knees when an infant, had\\n',\n",
       " 'with the permission of the copyright holder, your use and distribution\\n',\n",
       " 'have realised the magnitude of the task. Friends of Mr. Swenson, in\\n',\n",
       " 'uneasy feeling.\"\\n',\n",
       " '\"Oh, Bream!\" said Billie.\\n',\n",
       " '\"Don\\'t apologise to _me_!\" said Eustace. \"My poor old chap, my only\\n',\n",
       " '\"Who is that fellow?\" demanded Sam wrathfully.\\n',\n",
       " \"that I should have to call you up on the 'phone and cancel this dinner\\n\",\n",
       " 'That was the way the thing affected him.\\n',\n",
       " 'swooping back to duty once more, \"we beg to state that we are prepared\\n',\n",
       " 'Hignett?\"\\n',\n",
       " 'men in similar circumstances to go off to the Rockies to shoot\\n',\n",
       " '\"But there is really someone?\"\\n',\n",
       " '\"Are my lips red enough? It\\'s for the ship\\'s concert, you know. It\\n',\n",
       " 'spacious to be really ideal for a small party. A white sea of linen\\n',\n",
       " '\"I was thinking.\"\\n',\n",
       " 'beads of a chilly perspiration bedewing his forehead. It was impossible\\n',\n",
       " 'Mortimer.\"\\n',\n",
       " 'She had just risen from the table, when there was a sound of voices in\\n',\n",
       " 'Eustace groaned. \"All of them! The whole bally lot! She gets up long\\n',\n",
       " 'approach to the nightingale.\\n',\n",
       " 'only doubt was whether the switch was where it was in most houses, near\\n',\n",
       " 'access to, the full Project Gutenberg-tm License must appear prominently\\n',\n",
       " 'Section  2.  Information about the Mission of Project Gutenberg-tm\\n',\n",
       " 'broken off. Well, we parted at Sixty-sixth Street, and, strange as it\\n',\n",
       " 'place to these people without her knowledge, and intends to pocket the\\n',\n",
       " 'a certain point; after that he wants to take it easy for a bit. It is\\n',\n",
       " 'each other, and Jane, who was as modest as she was brave, had come\\n',\n",
       " 'reminded me of the pictures of Lord Byron--was hanging from a strap and\\n',\n",
       " '\"It seemed to come from just behind you,\" said Mrs. Hignett nervously.\\n',\n",
       " 'had been a lack of the deepest kind of emotion in the interview, and his\\n',\n",
       " 'would he say if he knew? But Mr. Bennett did not know, and consequently\\n',\n",
       " '\"Pardon me,\" said Eustace firmly, \"I speak as an expert. I know her and\\n',\n",
       " 'to think of that. Do It Now had ever been his motto, so he started by\\n',\n",
       " '\"A nice fat pork chop with potatoes and lots of cabbage,\" repeated Sam\\n',\n",
       " 'found himself replying to a question which does not as a rule call for\\n',\n",
       " 'Mr. Bennett peered at Sam with protruding eyes which gave him the\\n',\n",
       " '\"Don\\'t bustle me,\" said Eustace querulously.\\n',\n",
       " 'After all ... poor old Eustace ... quite a good fellow, no doubt in many\\n',\n",
       " 'to behave in a suitable manner. Well, he would show her! In a few\\n',\n",
       " 'looking at the portraits of whiskered men whom she took correctly to be\\n',\n",
       " 'thirteen minutes past nine; those of the ormolu clock in the\\n',\n",
       " '\"Ugh!\" said Miss Hubbard.\\n',\n",
       " '\"Number one--Bennett.\"\\n',\n",
       " 'dismay and resentment had ebbed away. She found herself struggling with\\n',\n",
       " 'the speech, had assumed proportions of a cold fury. If there is one\\n',\n",
       " \"Sir Mallaby Marlowe's dinner table, which, like most of the furniture in\\n\",\n",
       " 'her listening ears. She opened the door and went noiselessly in.\\n',\n",
       " \"appreciate her! I've only met her once, and then only for a few minutes,\\n\",\n",
       " 'reluctantly out into the drive.\\n',\n",
       " '\"I did not. I loosed him into the dining-room.\"\\n',\n",
       " 'behind.\"\\n',\n",
       " 'Spreading Light\" momentarily to lose her customary calm.\\n',\n",
       " 'one of his clients. Rightly or wrongly he values my advice. Can you\\n',\n",
       " \"of his mouth. Smith's attitude in the matter was that Providence in its\\n\",\n",
       " 'have the cool impertinence to try to save him from drowning, found\\n',\n",
       " 'approaching a task at which his humanity shudders. They could not know\\n',\n",
       " 'mean, he became completely distraught. I must say that he concealed it\\n',\n",
       " 'Gutenberg-tm electronic work under this agreement, disclaim all\\n',\n",
       " 'a beginning. Stick to it, and in a week or two you will find yourself\\n',\n",
       " 'docketing girls. But there was a subtle something about her, a sort of\\n',\n",
       " 'actually undergoing it, it was extraordinary how many disadvantages it\\n',\n",
       " \"each application of Billie's foot on the self-starter, it emitted a\\n\",\n",
       " 'hallowed for them both by sacred associations.\\n',\n",
       " 'vast, it\\'s bound to last ... that is to say, of course it will.\"\\n',\n",
       " '\"I\\'m dining with him to-night.\"\\n',\n",
       " 'gnat-stings. Declining this, though not ungratefully, Mr. Bennett\\n',\n",
       " 'And then it seemed to pause expectantly, as though desiring some reply.\\n',\n",
       " '\"How do you do?\" said Sam.\\n',\n",
       " 'said Jane casually.\\n',\n",
       " 'that Henry Mortimer is annoying me in every possible way and sheltering\\n',\n",
       " '\"She didn\\'t say a word. She never has said a word. As far as that goes,\\n',\n",
       " \"Hampshire, the nearest station to his aunt Adeline's charming old-world\\n\",\n",
       " 'thing you turn on by pressing a button in the wall,\" continued Sir\\n',\n",
       " '\"Oh, go on, have a dash at it,\" he said encouragingly, though his heart\\n',\n",
       " '\"The lucky man!\"\\n',\n",
       " 'I repeat, she is a rag and a bone and a hank of hair!\"\\n',\n",
       " '\"My heart.\"\\n',\n",
       " 'found himself amiably disposed towards the messenger.\\n',\n",
       " 'considerable time in secluded inaction, it did not start readily. At\\n',\n",
       " 'other side, ain\\'t she? Cert\\'nly she\\'s gone.\" She looked at him\\n',\n",
       " 'boots and bits of lead piping and had gone away depressed by failure.\\n',\n",
       " '\"Ah! I think that was the front door. Yes, I can hear them on the\\n',\n",
       " 'She pushed the curtains apart with a rattle and, at the same moment,\\n',\n",
       " 'front row. She always had a front-row seat at witch dances in Africa,\\n',\n",
       " '\"Well, as a matter of fact, old man, during these last few days I had a\\n',\n",
       " 'subject.\\n',\n",
       " '\"Webster,\" cried Mr. Bennett, \"it\\'s all right! I\\'m not dying after all!\\n',\n",
       " \"practically gave me the city and asked me if I'd like another to take\\n\",\n",
       " '\"Why? In the name of goodness, why?\"\\n',\n",
       " \"does the parrot faced young man Bream Mortimer, Sam's rival.\\n\",\n",
       " '\"Nonsense! I wouldn\\'t dream of burdening you with it. Trot along and put\\n',\n",
       " 'expression which was wont to come to it on the eve of action. \"Oh!\" she\\n',\n",
       " \"in paragraph 1.F.3, this work is provided to you 'AS-IS' WITH NO OTHER\\n\",\n",
       " '\"Next Saturday, Mr. Samuel. But I fear I shall have no opportunity of\\n',\n",
       " 'You could lock yourself in from the interior, and be quite comfortably\\n',\n",
       " 'The point seemed to strike Mr. Bennett. He turned to Billie.\\n',\n",
       " 'mean, it seems curious that she should have broken off the engagement if\\n',\n",
       " 'Eustace, who had been listening to the conversation with every muscle\\n',\n",
       " 'betrayed the Capitol....\\'\"\\n',\n",
       " 'qualities, also, for granted. In fact, we will not discuss you at all.\\n',\n",
       " 'Sam was in no mood for these nice distinctions. He only knew that\\n',\n",
       " 'rolling about in chunks all round his bed.\\n',\n",
       " 'day; he had a dutiful daughter; and he was going to see Henry Mortimer\\n',\n",
       " '\"Nonsense! You\\'re always imagining yourself ill,\" snapped Mr. Mortimer.\\n',\n",
       " 'Only a short while back, in this very room, we have seen Jane Hubbard,\\n',\n",
       " '\"Well, it was like this.\"\\n',\n",
       " 'considered, given the conversation the right tone from the start. Cool\\n',\n",
       " 'he didn\\'t know it could be proved against him.\"\\n',\n",
       " '\"I have not had that advantage,\" replied Sam stiffly. \"But anyone can\\n',\n",
       " 'this time, and he was whispering his degraded words of endearment into\\n',\n",
       " '\"You must take it,\" she said in a low voice. \"It is a symbol.\"\\n',\n",
       " 'Nature abhors a vacuum. Samuel Marlowe was a susceptible young man, and\\n',\n",
       " 'distribution of electronic works, by using or distributing this work\\n',\n",
       " 'appeared.\\n',\n",
       " 'our places for lunch.\"\\n',\n",
       " 'keep eBooks in compliance with any particular paper edition.\\n',\n",
       " \"A soft light came into Eustace Hignett's eyes.\\n\",\n",
       " 'hardly rolling at all--he would enjoy a further chat about his ruined\\n',\n",
       " '\"Mr. Mortimer, senior, sir? It is at the further end of this passage, on\\n',\n",
       " 'said Webster in manly apology for having been found wanting, \"that you\\n',\n",
       " '\"Caveman stuff,\" explained Sam, \"I ought to have tried it before.\"\\n',\n",
       " '\"Oh, well!\" said Sam, straightening his tie modestly. \"It\\'s awfully good\\n',\n",
       " 'which, even on the calmest nights, the engines of an ocean liner produce\\n',\n",
       " 'Sam glanced about him. It was the time of day when the promenade deck\\n',\n",
       " '\"But I thought you were letting Windles for the summer?\"\\n',\n",
       " 'general, deserted by his men on some stricken field, might have felt\\n',\n",
       " '\"Well, it\\'s your name, isn\\'t it?\"\\n',\n",
       " 'conference and can see nobody for half an hour.\"\\n',\n",
       " 'that Billie, so cold ten minutes before, had just allowed him to kiss\\n',\n",
       " 'creaking of woodwork proclaimed the fact that the vessel was under way\\n',\n",
       " 'native bearer, or with a firm touch putting sweetness and light into the\\n',\n",
       " '\"No, there\\'s that, of course. I was thinking of girls in general. Some\\n',\n",
       " '\"I won\\'t,\" said Eustace obediently.\\n',\n",
       " \"resignation and being given the sack, and that's what would\\n\",\n",
       " 'in Bruton Street, Berkeley Square--and something seemed to whisper that\\n',\n",
       " 'But she had bitten him in the arm. That was hardly the right spirit.\\n',\n",
       " '\"No. People\\'s people generally want people to marry people people don\\'t\\n',\n",
       " 'flick of the wrist without even bothering to remove his chewing gum.\\n',\n",
       " 'indicated.\\n',\n",
       " '\"Yes, but you haven\\'t explained yet how I am to get into the house in\\n',\n",
       " 'mind by knitting jumpers.\\n',\n",
       " 'apart from that her mind was an open book.\\n',\n",
       " '\"Go into the outer office and wait for me there.\"\\n',\n",
       " 'were mending the street outside. How beautiful she looked, with that red\\n',\n",
       " 'pumas, cannibals, and alligators in her time with a good deal of\\n',\n",
       " '\"Go and tell him to stop it!\"\\n',\n",
       " '     Chief Executive and Director\\n',\n",
       " '\"That\\'s it. You\\'re a great guesser. I think you ought to stop the\\n',\n",
       " '\"Angry!\"\\n',\n",
       " '\"I wonder your father does not insist on your doing some useful work.\"\\n',\n",
       " '     http://www.gutenberg.org\\n',\n",
       " '\"What do you mean?\" cried Billie, sitting up with a jerk.\\n',\n",
       " 'with this eBook or online at www.gutenberg.org\\n',\n",
       " '\"As far as I can make out, if I marry, I get this house and mother has\\n',\n",
       " 'Billie regarded him blankly.\\n',\n",
       " 'joke is at her expense.\\n',\n",
       " 'curiosity. In her new mood she resisted the impulse no longer.\\n',\n",
       " \"flirtation seriously? Why, you're expected to fall in love with a\\n\",\n",
       " '\"Get in,\" said Sam. He had seated himself at the steering wheel. \"Where\\n',\n",
       " \"I waited and waited and he didn't come; and what do you think had\\n\",\n",
       " 'the conversation if he had to do it with a crowbar.\\n',\n",
       " '\"There!\" said Mr. Bennett. \"You hear? And when Henry Mortimer says a\\n',\n",
       " 'in the flooring of a dining saloon, and to that faint, yet well-defined,\\n',\n",
       " 'could make amends. The small hours of the morning are not perhaps the\\n',\n",
       " 'sleeps in a basket in the hall.... Perhaps you are familiar with the\\n',\n",
       " \"I have become a woman-hater. It's an infernal nuisance, because\\n\",\n",
       " 'young man and did not require a year to make up his mind that Wilhelmina\\n',\n",
       " 'family for years instead of having been engaged at a registry-office a\\n',\n",
       " 'phraseology, weakened, faltered, and dropped away; and a moment later\\n',\n",
       " '\"You know, you\\'re wonderful!\" cried Eustace. \"Simply wonderful!\"\\n',\n",
       " '1.E.2.  If an individual Project Gutenberg-tm electronic work is derived\\n',\n",
       " '\"I did it for your sake.\"\\n',\n",
       " \"stay at the house the drawing-room was barred. Mrs. Hignett wouldn't\\n\",\n",
       " 'unfortunate love-affair manifests itself in various men. No two males\\n',\n",
       " '\"Of course I\\'ve misunderstood you,\" he said. \"There\\'s a catch somewhere\\n',\n",
       " 'for ten thousand.\"\\n',\n",
       " '\"Were you ever engaged to Billie Bennett?\" she demanded.\\n',\n",
       " 'eleven. And on this, the third day, there had been no intermission\\n',\n",
       " 'as good as his short. He was great off the tee and a marvel with his\\n',\n",
       " '\"You surely can\\'t still be brooding on that concert business? Why,\\n',\n",
       " 'till the end of her lecturing tour. That, however, was out of the\\n',\n",
       " '\"I\\'ll see you out,\" said Sam soothingly, and led him through the outer\\n',\n",
       " '\"Eustace is returning to England on Saturday,\" said Mrs. Hignett. She\\n',\n",
       " 'charge for the eBooks, unless you receive specific permission.  If you\\n',\n",
       " '\"N--no,\" said Billie.\\n',\n",
       " '\"Tchoo!\"\\n',\n",
       " \"Some men, on making the discovery of this girl's identity, might have\\n\",\n",
       " 'thing. But what could he do now? It seemed to him that his only possible\\n',\n",
       " 'occasionally with sweet cakes there had always existed a state of\\n',\n",
       " '\"Hullo, Peters!\"\\n',\n",
       " '\"I thought you would be.\"\\n',\n",
       " 'drawing-room....\"\\n',\n",
       " 'distribute copies of a Project Gutenberg-tm work in a format other than\\n',\n",
       " 'perhaps the most placid and phlegmatic. It differs in many respects from\\n',\n",
       " 'hands, in a gesture of passionate appeal, and played her last card.\\n',\n",
       " 'the same colour. That\\'s the whole thing in a nutshell.\"\\n',\n",
       " '\"Indeed? I didn\\'t know Miss Milliken had a sister.\"\\n',\n",
       " 'there. She had a cup of coffee and a sandwich brought to her by the\\n',\n",
       " 'deck and their friends returning to the shore. A slight tremor in the\\n',\n",
       " 'yards of his goal, when suddenly a sharp pain shot through his right\\n',\n",
       " 'gloves!\"\\n',\n",
       " 'other unexpectedly round sharp corners that he ever betrayed the\\n',\n",
       " 'tail end of it, but it was enough to create a misgiving.\\n',\n",
       " '\"What!\"\\n',\n",
       " 'she had been engaged, whose mother had stolen his trousers on the\\n',\n",
       " '\"Well, you wouldn\\'t let your mother stand in the way if you ever really\\n',\n",
       " '\"I can quite see that it would,\" agreed Mrs. Hignett. \"One\\'s first step\\n',\n",
       " 'success. There might be a sporting chance of victory for her when she\\n',\n",
       " 'bird that was the living image of Bream Mortimer. I taught him to\\n',\n",
       " '\"Billie!\" she whispered sharply.\\n',\n",
       " 'between the human beings he knew and the strangers who dropped in for a\\n',\n",
       " 'drew them out, and as he did so, something gleamed pinkly up at him\\n',\n",
       " 'and, after one has been present at a few of them, one seems to feel that\\n',\n",
       " 'he subsided into the bed and softly pulled the sheets over his head,\\n',\n",
       " '\"As if that could make any difference! What does your outside matter? I\\n',\n",
       " '\"That\\'s the right spirit! I like to see it! All right, we won\\'t. Let\\'s\\n',\n",
       " '\"I know. It gives me a horrible sense of guilt.\" She shuddered again.\\n',\n",
       " 'people have it, some haven\\'t.\"\\n',\n",
       " '\"And yet, somehow,\" said Billie, plaiting her hair, \"do you ever have\\n',\n",
       " '\"Yes. I say, that was funny about Bream, wasn\\'t it? Getting under the\\n',\n",
       " 'surface of a thick white sauce.\\n',\n",
       " 'Taking a second look to assure himself that he had really slumbered to\\n',\n",
       " 'casually about the room. Sam occupied the intermission by staring\\n',\n",
       " '\"Tennyson?\"\\n',\n",
       " 'equally appropriate, very soulfully and slowly, with a wistful eye on\\n',\n",
       " 'curl like withered leaves.\\n',\n",
       " '\"What _is_ the matter, Jane?\"\\n',\n",
       " '\"Oh, quite, quite!\" said Mr. Peters. \"Er--Thank you very much!\"\\n',\n",
       " 'busy--would you mind telling him that I inadvertently omitted a stanza?\\n',\n",
       " \"familiar Hampshire air and the knowledge that half an hour's walking\\n\",\n",
       " 'disliked everybody, with perhaps the exception of Billie, for whom a\\n',\n",
       " \"stern disciplinarian and he had to go. I mean, we couldn't keep him\\n\",\n",
       " 'exuberant.\\n',\n",
       " '§ 1\\n',\n",
       " \"were waiting for someone to scratch it. Sam's primary impulse was to\\n\",\n",
       " '\"My dear young lady!\" he gasped.\\n',\n",
       " 'snappishly, in correcting what was a perfectly natural mistake. He could\\n',\n",
       " 'Mr. Bennett now began to address himself in earnest to the task of\\n',\n",
       " 'short while now people would be speaking of him in the past tense and\\n',\n",
       " 'babbling of the passion that consumed him, when the chill reflection\\n',\n",
       " 'She looked away from him, her face working.\\n',\n",
       " '\"Yessir, you\\'re wet! Wet\\'s the word all right. Good and wet, that\\'s what\\n',\n",
       " '\"I\\'m sure I\\'m very much obliged, sir,\" said Webster, beginning for the\\n',\n",
       " 'with an unendurable sense of guilt.\\n',\n",
       " '\"Oh, no!\" said Mr. Peters, hurt.\\n',\n",
       " 'sinister. \"Oh, I see!\" She raised her gun, and placed a muscular\\n',\n",
       " 'despatches a note to her humble lover, informing him it cannot be. I\\n',\n",
       " 'the south coast of England are blots on the landscape, but though I am\\n',\n",
       " '\"She did, eh?\"\\n',\n",
       " '\"Yes, never mind about the wild-flowers now. I want you after lunch, to\\n',\n",
       " 'Billie uttered a cry of horror.\\n',\n",
       " 'better switch the light on. Unfortunately I switched on some sort of\\n',\n",
       " 'pen had ever written. Webster had received one or two heated epistles\\n',\n",
       " 'In his early days, when he was building up his fortune, Mr. Bennett had\\n',\n",
       " 'woman might have taken the boat-train to London and proceeded to Windles\\n',\n",
       " 'during his school holidays, had disturbed the cloistral peace of Windles\\n',\n",
       " \"world is a man who tries to entertain when he can't. Did I tell you\\n\",\n",
       " 'are aware, the impulse to say rude things about their battery is almost\\n',\n",
       " '1.A.  By reading or using any part of this Project Gutenberg-tm\\n',\n",
       " 'Creating the works from public domain print editions means that no\\n',\n",
       " '\"Will you turn that infernal thing off!\" said Mr. Bennett.\\n',\n",
       " 'unduly optimistic, for he thought she was going out of her class; but he\\n',\n",
       " 'that she was not Miss Milliken. Denial would be a waste of time, and\\n',\n",
       " 'green of meadow grass, the dull green of the uncut emerald, the faint\\n',\n",
       " '\"You know!\" Mrs. Hignett stared. \"Did you hear them?\"\\n',\n",
       " 'past one. \"Either a panther or a puma.\"\\n',\n",
       " 'he interviewed her father and obtained his consent to the paying of his\\n',\n",
       " 'house for the summer.\"\\n',\n",
       " 'sent Webster to look out a train.\"\\n',\n",
       " '\"Then what would you do if a man insisted on playing the orchestrion\\n',\n",
       " 'sort of raised summerhouse with a brass thingummy in it, fooled about\\n',\n",
       " 'series instead of the last. One may express the thing briefly by saying\\n',\n",
       " '\"I have no doubt that there are many things which you do not do. Let us\\n',\n",
       " 'sheer wanton malignity, the hooks and eyes on those dresses are also\\n',\n",
       " 'occasions.\\n',\n",
       " 'put on his dressing-gown, took his candle, and went down the passage.\\n',\n",
       " 'The trousers did not even quiver. But this girl was a girl of decision.\\n',\n",
       " 'Pekinese dog, Pinky-Boodles. Beside Pinky-Boodles slept Smith, the\\n',\n",
       " 'quite clear, I will wish you good morning!\"\\n',\n",
       " 'Sam thrilled from the top of his head to the soles of his feet. It was\\n',\n",
       " 'rules is very easy.  You may use this eBook for nearly any purpose\\n',\n",
       " '\"Who is she?\"\\n',\n",
       " 'At the idea that any such mundane pursuit as practising putting could\\n',\n",
       " '\"Well--\"--Jno. Peters coughed tactfully--\"I see that you are engaged\\n',\n",
       " 'She looked at him despondently.\\n',\n",
       " \"girls bar golf, and then it's rather difficult to know how to start the\\n\",\n",
       " 'none of it. He began immediately to struggle with all the violence at\\n',\n",
       " '\"Don\\'t talk about the colour of my face! Now you\\'ve gone and reminded me\\n',\n",
       " 'rest of the trip I had to manicure myself with a hunting-spear.\"\\n',\n",
       " '\"Oh, I\\'ve become a fatalist on the subject of my engagements.\"\\n',\n",
       " 'the cannibals that each other eat, the Anthropophagi, and men whose\\n',\n",
       " '\"What the devil are you doing, you fool?\" cried Mr. Bennett.\\n',\n",
       " 'spent Marathon runner staggering past the winning-post.\\n',\n",
       " 'last.\"\\n',\n",
       " '\"Have to take the next boat. Lose a lot of time,\" said Mr. Mortimer,\\n',\n",
       " 'took ten years to make up your mind.\"\\n',\n",
       " '     A something something something thou!\"\\n',\n",
       " 'the pillow, a soul in torment.\\n',\n",
       " 'surely heard of Tennyson\\'s \\'Idylls of the King?\\'\"\\n',\n",
       " 'exclaimed.\\n',\n",
       " '\"Poor Pinky is feeling the motion of the boat a little. It\\'s his first\\n',\n",
       " 'copy, a means of exporting a copy, or a means of obtaining a copy upon\\n',\n",
       " '\"So that\\'s all right, isn\\'t it!\" said Billie.\\n',\n",
       " 'occupied for the next few months. Thank you very much,\" he added, after\\n',\n",
       " 'be warned.\\n',\n",
       " 'point the intellectuals of Great Britain were single-minded, that there\\n',\n",
       " 'After the first shock of astonishment, Sam Marlowe had listened to his\\n',\n",
       " '\"Good-bye, then, Miss Bennett!\"\\n',\n",
       " '\"All right, is he?\" said Sam.\\n',\n",
       " 'Mr. Bennett thundered out of the room, and Sam, temporarily stunned by\\n',\n",
       " 'Thorpe jostling you aside as he makes for Prescott to discuss with him\\n',\n",
       " 'room was full of it. It seemed to be coming up through the floor and\\n',\n",
       " 'disinclination ever to see you again. How, then, is it possible, in\\n',\n",
       " 'entertaining companion. I believe he has a nice singing voice. With that\\n',\n",
       " 'in which his face was buried strange gurgles proceeded, like the distant\\n',\n",
       " '\"Never mind what I might call it. Is it red?\"\\n',\n",
       " 'Sam took up the copy of _Home Whispers_ and sat down with his feet on\\n',\n",
       " 'Billie cast a scornful look at her fiancé. Absolutely unjustified, in my\\n',\n",
       " 'burnt cork off his face with all possible speed and changed his clothes\\n',\n",
       " 'Mr. Bennett, meanwhile, had reached the drawing-room, and found his\\n',\n",
       " 'The only drawback to these life-saving competitions at school,\\n',\n",
       " 'mentioning it to the young lady who recently did me the honour to\\n',\n",
       " 'both the Project Gutenberg Literary Archive Foundation and Michael\\n',\n",
       " 'tip--servare--preserve--aequam--an unruffled--mentem--mind--rebus in\\n',\n",
       " 'him. He bounded out into the hall, looking to right and to left for a\\n',\n",
       " 'carry it about with me everywhere in order to take a little practice at\\n',\n",
       " 'letter from her brother Mallaby--Sir Mallaby Marlowe, the eminent London\\n',\n",
       " 'Reading it, you get the impression that on the other side quite a covey\\n',\n",
       " 'heartless. Marlowe regarded her behaviour as thoroughly sensible. She\\n',\n",
       " 'she loved him. At any rate she wanted somebody like Sir Galahad, and,\\n',\n",
       " 'dimly, had been disconcerting enough. Full face, he was a revolting\\n',\n",
       " '     has agreed to donate royalties under this paragraph to the\\n',\n",
       " \"    VI. SCENE AT A SHIP'S CONCERT                   104\\n\",\n",
       " 'swam in a vast bowl of the purest blue on an azure carpet flecked with\\n',\n",
       " 'silence in order to ascertain the duration of the sentence still\\n',\n",
       " 'unconscious that Webster with measured strides was approaching ever\\n',\n",
       " '\"No, sir,\" said Webster firmly. \"From boyhood up I\\'ve always had a\\n',\n",
       " '\"Don\\'t do what?\"\\n',\n",
       " 'one time or another you may have said something that offended her. I\\n',\n",
       " 'Section 4.  Information about Donations to the Project Gutenberg\\n',\n",
       " '\"you mustn\\'t get excited. You know it\\'s bad for you. I don\\'t expect poor\\n',\n",
       " 'this morning which defied competition, simply defied competition. They\\n',\n",
       " 'The art of cranking a car is one that is not given to all men. Some of\\n',\n",
       " '\"I\\'ll carry it,\" said Bream.\\n',\n",
       " 'just about the height which every girl ought to be. Her figure was trim,\\n',\n",
       " 'from behind a hedge, well, it made all the difference.\"\\n',\n",
       " 'door and peeped in? A spasm of Napoleonic strategy seized Sam. He\\n',\n",
       " '\"Then let me help you. It is quite impossible. I will never consent.\"\\n',\n",
       " 'glanced at his watch. \"Good Heavens! I had no idea of the time. I\\n',\n",
       " '\"Oh, mine?\" She smiled brightly. \"It\\'s funny that a person\\'s name is the\\n',\n",
       " 'his meaningless ravings. \"Mr. Peters, hear me! I am not married to a man\\n',\n",
       " 'stairs to negotiate. And, finally, arriving at the office, he had found\\n',\n",
       " \"presentiments? I can't get rid of an awful feeling that something's\\n\",\n",
       " '\"You could have done _something_!\" The words she had spoken only\\n',\n",
       " '\"Yes,\" said Billie.\\n',\n",
       " '\"What do I think about what?\"\\n',\n",
       " '\"Svensk!\" exclaimed Mr. Swenson, or whatever it is that natives of\\n',\n",
       " '\"The orchestrion?\"\\n',\n",
       " '\"Directly I saw you go over the side I said to myself: \\'That fellow\\'s\\n',\n",
       " \"by, shrinking from interrupting the dialogue. Jane Hubbard's robuster\\n\",\n",
       " 'bill which he had almost succeeded in grasping. The spiritual agony\\n',\n",
       " 'problems of afterlife, is that the object saved on such occasions is a\\n',\n",
       " 'silky turf rivalled the lawns of Oxford colleges, stretched to a\\n',\n",
       " 'Cornwall. I beg your pardon. What were you saying?\"\\n',\n",
       " 'still. His eyes gazed out glassily from under his damp brow. He looked\\n',\n",
       " 'engagement. When I took my temperature at twenty minutes to six....\" At\\n',\n",
       " 'fact that clients were in his midst. He wished that he had taken his\\n',\n",
       " 'which is coming along almost immediately, always begin in this prosaic\\n',\n",
       " '\"Well--er--yes,\" he mumbled weakly.\\n',\n",
       " 'to be married, though the point is of no importance, to the second\\n',\n",
       " 'frequently done things to his competitors in Wall Street which would not\\n',\n",
       " 'you, I should prefer to limit my assistance to advice and sympathy. I am\\n',\n",
       " 'originally chosen if they put her in irons.\\n',\n",
       " 'in which men of thews and sinews are fond of the weaker brethren who run\\n',\n",
       " 'He had said nothing. Not a sound, exclusive of the first sharp yowl of\\n',\n",
       " 'begun to revise her original estimate of this girl. To her, Windles was\\n',\n",
       " '\"You\\'d get hurt if I did, travelling at this pace.\"\\n',\n",
       " '\"I don\\'t want to listen.\"\\n',\n",
       " 'then he generally confined his reading of the papers to the sporting\\n',\n",
       " 'with this agreement, and any volunteers associated with the production,\\n',\n",
       " '\"You are!\"\\n',\n",
       " '\"Baby!\" said Miss Hubbard reprovingly. \"Why, I once sewed eighteen\\n',\n",
       " \"howe'er pleasant! Let the dead past bury its dead! Act, act, in the\\n\",\n",
       " 'However, that was neither here nor there. He pulled down his waistcoat\\n',\n",
       " '(and you!) can copy and distribute it in the United States without\\n',\n",
       " 'Foundation as set forth in Section 3 below.\\n',\n",
       " 'though half a pound of gunpowder had been touched off under his chair.\\n',\n",
       " 'to upset most girls, but Jane Hubbard bore it calmly. All through her\\n',\n",
       " 'CHAPTER II\\n',\n",
       " 'Keep it like that!\"\\n',\n",
       " 'seemed to leave a gap. He now perceived that what had caused the feeling\\n',\n",
       " '\"For goodness sake stop it!\" she said, almost petulantly for one usually\\n',\n",
       " 'another to Cosham? It\\'s about a mile down....\"\\n',\n",
       " 'Billie meanwhile, with Bream trotting docilely at her heels, had reached\\n',\n",
       " 'brought Mrs. Hignett the depressing information that it would be a full\\n',\n",
       " 'The time and the place and the girl--they were all present and correct;\\n',\n",
       " 'Silence fell. Sam was feeling hurt and bewildered. He could not\\n',\n",
       " 'weaving her spell about Eustace Hignett, and now she monopolised his\\n',\n",
       " 'all the more impressive. He doubted whether in the whole course of\\n',\n",
       " 'haggard, as though he were sickening for something. Mr. Bennett had the\\n',\n",
       " 'dimensions of an undersized cupboard in which it would be impossible to\\n',\n",
       " 'half-a-crown a visit; but he recognised the truth of the scriptural\\n',\n",
       " 'he fell into step by her side.\\n',\n",
       " '\"Well, it need make no difference to you,\" said Sir Mallaby. \"I am sure\\n',\n",
       " \"will be coming in and asking for advice, and you'll find yourself in\\n\",\n",
       " 'well enough to come up now and take your old part? You could do it\\n',\n",
       " 'a knell! Many of these people were old travellers and their minds went\\n',\n",
       " 'From Windles to Southampton is a distance of about twenty miles; and the\\n',\n",
       " 'wondered,\" said Webster, pursuing a not uninteresting train of thought,\\n',\n",
       " 'It was the level voice of J. B. Midgeley, the steward. The stewards of\\n',\n",
       " \"Mortimers, who, finding Mr. Bennett's medical confidences a trifle\\n\",\n",
       " \"Samuel. If you'd ever seen a film called 'Two-Gun-Thomas,' you'd realise\\n\",\n",
       " 'face of a twenty-dollar bill peered up at him. Mr. Swenson was not the\\n',\n",
       " '\"What do you mean? Lets me out?\"\\n',\n",
       " '\"What\\'s the matter with him?\" bellowed Mr. Bennett after Jane Hubbard\\'s\\n',\n",
       " 'had caused him to swell unpleasantly, particularly about the hands and\\n',\n",
       " 'undetected. He supposed that one of the feminine members of the\\n',\n",
       " 'ate. The majority were from disciples and dealt with matters of purely\\n',\n",
       " 'more pessimistic began to fear that the imitation was going to be one of\\n',\n",
       " \"it is--I can't forgive a man for looking ridiculous. Thank goodness, my\\n\",\n",
       " 'from the earliest days of civilisation has deeply affected the youth of\\n',\n",
       " 'addresses. And finally, after writing her a letter which began \"Madam,\\n',\n",
       " 'little excited, poor fellow. And now let us return to what we were\\n',\n",
       " \"spoil it for you. Mind you don't skip to see how it all comes out in the\\n\",\n",
       " 'mind you. It is not my place to criticise the little group of people\\n',\n",
       " '\"Well, what are you doing in my house?\"\\n',\n",
       " 'Breakfast was on the table in the sitting-room, a modest meal of rolls,\\n',\n",
       " 'except the actual driving without stalling the engines, and Mr.\\n',\n",
       " 'recollection of how, when a mere child on his first visit to Windles,\\n',\n",
       " '\"Give it a good sharp twist,\" she said.\\n',\n",
       " 'that extraordinary idea into your head?\"\\n',\n",
       " 'like talking about?\"\\n',\n",
       " 'made her resolute heart jump and flutter. It was too dark to see\\n',\n",
       " '\"Awfully sorry, father! Don\\'t know how it happened.\"\\n',\n",
       " 'sharp yapping sound, of such a calibre as to be plainly audible over the\\n',\n",
       " '\"Of course, yes. To be sure.\"\\n',\n",
       " 'romantic, she enjoyed this freshet of surreptitious meetings which had\\n',\n",
       " 'yards of which he had covered at a rapid gallop, under the erroneous\\n',\n",
       " 'forgotten and forgiven, and never....\"\\n',\n",
       " \"that this was the morning on which Sir Mallaby Marlowe's clerk--who was\\n\",\n",
       " '_me_.\"\\n',\n",
       " 'coldly.\\n',\n",
       " 'For an instant Sam stood there, gaping blankly. Then the open door of\\n',\n",
       " 'practically ANYTHING with public domain eBooks.  Redistribution is\\n',\n",
       " 'vivid hair like the female equivalent of a Viking. Beside her walked\\n',\n",
       " '     When tiddly-umpty umpty brow,\\n',\n",
       " \"His face was very close to Billie's, who had cheered up wonderfully by\\n\",\n",
       " 'that I do not wish to see or hear anything of you again! I shall try to\\n',\n",
       " '\"That\\'s good!\"\\n',\n",
       " 'to be taking the thing very calmly. She had anticipated a strenuous\\n',\n",
       " \"didn't give him a chance. If she had come in person and denounced him it\\n\",\n",
       " 'copied or distributed:\\n',\n",
       " '\"Yes?\" said Sam absently.\\n',\n",
       " 'object. Nothing that Eustace Hignett had encountered in his recent\\n',\n",
       " 'Gutenberg-tm electronic works if you follow the terms of this agreement\\n',\n",
       " 'He got up and went to the window. The rain leaped at the glass like a\\n',\n",
       " 'made him the talk of three New York clubs. He was feeling a little\\n',\n",
       " '\"Well, straight in front of you when you get to the sign-post there is a\\n',\n",
       " '\"It will be terrible.\"\\n',\n",
       " 'cause him the most acute mental distress which he had ever known.\\n',\n",
       " 'Somebody lit a lamp, and Mrs. Hignett stared speechlessly at the mob.\\n',\n",
       " '\"You are hardly likely to be in a position to have to talk to Wilhelmina\\n',\n",
       " 'first drew us together.\"\\n',\n",
       " 'wished to start proceedings. Mr. Peters felt almost in his depth again.\\n',\n",
       " '\"Oh, I came over to play golf. In a tournament, you know.\"\\n',\n",
       " '\"Oh, that lady,\" said Sam. \"That was Miss Milliken\\'s sister.\"\\n',\n",
       " 'Mr. Bennett stared at his well-wisher dumbly for a moment. The thought\\n',\n",
       " 'all there is to it.\"\\n',\n",
       " 'mean attack. He wondered how Widgery would have met it. Probably by\\n',\n",
       " \"The image of Webster paddling was arresting enough to occupy Sam's\\n\",\n",
       " 'never met anyone he disliked so intensely as Mr. Swenson--not even his\\n',\n",
       " \"Mr. Swenson's limbs from about him. By this time he was sure that he had\\n\",\n",
       " 'handed his papers on the declaration of war, and Mr. Bennett, sprang to\\n',\n",
       " '\"Well, I hope you\\'re fond of motoring,\" said Sam, \"because we\\'re going\\n',\n",
       " 'amiable sentiments. He was thinking bitterly that Webster might have had\\n',\n",
       " '\"Oh, do you? So do I!\"\\n',\n",
       " 'make silence between them impossible. Westward, Mr. Mortimer had engaged\\n',\n",
       " \"Sam felt that fortune was playing into his hands. His four-days'\\n\",\n",
       " 'Looking at it won\\'t stop it.\"\\n',\n",
       " 'do something for it. I said I could only do conjuring tricks and\\n',\n",
       " 'continued as it began, it was about the warmest thing of its kind that\\n',\n",
       " \"hear is what you're doing in the house at this time of night, and who\\n\",\n",
       " 'and everybody thought very highly of him. I suppose in those days a\\n',\n",
       " 'vanquished.\\n',\n",
       " 'freed from the nausea caused by your cigar. I was smoking myself! I was\\n',\n",
       " '\"The way I look at it,\" said Webster, \"is that there\\'s been some sort of\\n',\n",
       " 'shoulders. On the lounge beside her, swathed in a business-like grey\\n',\n",
       " 'Billie trod on the self-starter. Nothing happened.\\n',\n",
       " 'said.\\n',\n",
       " '\"I will not take your advice.\"\\n',\n",
       " 'trousers.\"\\n',\n",
       " 'facts. It almost made the thing worse that she did not say how she had\\n',\n",
       " 'went to visit the deaf-and-dumb hospital.\\n',\n",
       " 'loving any man who looked at her as if she was something that the cat\\n',\n",
       " 'criminal world. \"Full of spirits!\"\\n',\n",
       " 'propose when I caught the mumps, and that seemed to me to finish it. No\\n',\n",
       " '\"Oh, is that you?\"\\n',\n",
       " 'out scathing remarks either about the battery or the oiling-system.\\n',\n",
       " 'she on board or was she not? The next few minutes would decide. He\\n',\n",
       " 'works based on the work as long as all references to Project Gutenberg\\n',\n",
       " '\"Yes, indeed, Mr. Samuel! Yes, yes, indeed!\"\\n',\n",
       " '\"Do be a dear and run down to the saloon and see if it\\'s all right about\\n',\n",
       " '\"Chivalrous?\" said Bream Mortimer a little doubtfully. \"I don\\'t know\\n',\n",
       " 'You might have been drowned! But I never saw anything so wonderful. It\\n',\n",
       " 'into his soul.\\n',\n",
       " 'encyclopædias, he needed no doctor to tell him that this was the end.\\n',\n",
       " 'Infinite, but it reduced Sam to an almost imbecile state of boredom. He\\n',\n",
       " 'she added. And then she was swept from him in the crowd, and he was left\\n',\n",
       " '\"Surely that\\'s more than six!\"\\n',\n",
       " 'There was a rich, fat man, an American named Bennett, whom she had met\\n',\n",
       " 'An explosive roar burst from Mr. Bennett.\\n',\n",
       " 'who was not amused? She must have thought you had no sense of humour!\"\\n',\n",
       " 'amateur talent is unleashed, and the grim work begins.\\n',\n",
       " '\"I said I thought _you_ were the perfect knight.\"\\n',\n",
       " 'As an explanation of her behaviour this might, no doubt, have been\\n',\n",
       " 'pianola and somebody had inserted a new record. Looking well and happy!\\n',\n",
       " 'his bowler hat firmly upon his brow, and dived in. A moment later he\\n',\n",
       " 'harbouring mice. Not once or twice but many hundred times he wished that\\n',\n",
       " 'right through the list from soup to nuts, until finally he reached\\n',\n",
       " '\"Splendid,\" said the girl. \"Oh, Bream!\"\\n',\n",
       " '\"So--so I see!\" said Billie.\\n',\n",
       " '\"Good evening,\" she said placidly.\\n',\n",
       " 'clammily. He squelched as he walked.\\n',\n",
       " \"Sam's dignity, on its death-bed, made a last effort to assert itself.\\n\",\n",
       " '\"It\\'s so crowded,\" he said. \"Let\\'s go on to the upper deck.\"\\n',\n",
       " 'theosophical interest. There was an invitation from the Butterfly Club,\\n',\n",
       " 'how-shall-one-put-it, which he had never encountered before. He\\n',\n",
       " '\"A private yacht,\" repeated Sam, sliding a trifle closer. \"We would sail\\n',\n",
       " '\"But that\\'s all over, father.\"\\n',\n",
       " 'Sam was glowing with frank approval.\\n',\n",
       " '\"Yes, sir! You sure are wet! Gee! I never seen anyone so wet! I seen wet\\n',\n",
       " 'her. But now.... \"She did that just to stop you going out to lunch with\\n',\n",
       " \"without a rehearsal. You remember how it went.... 'Hullo, Ernest!'\\n\",\n",
       " 'extraordinarily large and powerful-looking revolver. At the sight of Sam\\n',\n",
       " '\"We should be glad to meet you.... Wrestling, eh? Well, I like a boy to\\n',\n",
       " 'began to circle round the image of Billie Bennett.\\n',\n",
       " 'yearning soul resented it. \"Why, no.\"\\n',\n",
       " 'fee. I had been breaking in a new tie for the wedding.\"\\n',\n",
       " 'set out on the cross-country journey. It was only when the car, a\\n',\n",
       " '\"I hate you!\"\\n',\n",
       " 'Hignett from an uneasy dose.\\n',\n",
       " '\"Grrh!\" replied his ex-prospective-father-in-law, and bounded up the\\n',\n",
       " 'locality. They make a sort of harsh, hooting howl, sir. I have sometimes\\n',\n",
       " 'CHAPTER V\\n',\n",
       " 'to bed.\"\\n',\n",
       " 'garnished, with \"Welcome\" on the mat. This girl seemed to rush in and\\n',\n",
       " 'period when people liked things big and solid, was a good deal too\\n',\n",
       " 'looked wildly about him. \"I must get back. Isn\\'t there any way of\\n',\n",
       " 'dig yourself in.\"\\n',\n",
       " '\"The Rosary\" had been sung and there was an uneasy doubt as to whether\\n',\n",
       " '\"Precisely, sir!\" said Webster, with dignity. \"Just as you say! Good\\n',\n",
       " 'occasion, it had made merely an aesthetic appeal to Mr. Bennett; now he\\n',\n",
       " 'asking her to be the guest of honour at their weekly dinner. There was a\\n',\n",
       " '\"Oh yes! Bream!\"\\n',\n",
       " '\"I was just on my way to have a little practice at the range,\" he said.\\n',\n",
       " \"trifling with her heart--hardened lawyer's clerk as he was, that\\n\",\n",
       " 'like--like this, and you seem to expect me to throw my hat in the air\\n',\n",
       " 'fatiguing, was yawning broadly, and absently balancing his wine glass on\\n',\n",
       " 'Billie uttered an exclamation. So did Mr. Bennett, who hated mysteries.\\n',\n",
       " 'blotting-paper. Eustace Hignett shrivelled in the blaze. He was filled\\n',\n",
       " 'did not, but because it sounded well.\\n',\n",
       " 'alive was bad--he had pictured him hurling himself overboard and bobbing\\n',\n",
       " 'dramatic scene and felt a little disappointed.\\n',\n",
       " 'Sam could not disguise it from himself that he was a little\\n',\n",
       " 'believe I\\'ve caught the mumps from young Hignett.\"\\n',\n",
       " '\"It\\'s my opinion that you\\'re making a lot of fuss over nothing.\"\\n',\n",
       " 'earnest,\" he said, gazing at Sam seriously, \"and the grave is not our\\n',\n",
       " '\"That infernal dog of yours. I insist on your destroying it.\"\\n',\n",
       " 'redistribution.\\n',\n",
       " 'out of the darkness a blare of music which appeared to his disordered\\n',\n",
       " 'doesn\\'t often happen that way.\"\\n',\n",
       " 'well, I\\'ll have to walk. Come along, Smith!\" She turned towards the\\n',\n",
       " 'resented the fact that, being in the house, he should go about, pale and\\n',\n",
       " 'truth swept over him for the hundred and first time, he groaned hollowly\\n',\n",
       " 'The big-game huntress blushed. The embarrassment which she exhibited\\n',\n",
       " 'at upstairs. How foolish of me making a mistake like that!\"\\n',\n",
       " '\"Oh dear!\" she cried. \"I must rush. But we shall see one another again\\n',\n",
       " 'particularised.\\n',\n",
       " 'sending me to America, because I thought I ought to be prepared--because\\n',\n",
       " 'the holiday-making Peters.\\n',\n",
       " 'introducing of side-issues into the conversation. She was there to talk\\n',\n",
       " \"haven't. It's funny how one doesn't do the things one thinks one does.\\n\",\n",
       " 'you\\'re making. Now, keep quite still.\"\\n',\n",
       " 'The door closed behind Sam, and Eustace Hignett, lying on his back, gave\\n',\n",
       " 'want to marry,\" said Eustace, clothing in words a profound truth which\\n',\n",
       " 'Literary Archive Foundation are tax deductible to the full extent\\n',\n",
       " 'A footstep sounded in the passage outside. The door opened.\\n',\n",
       " '\"What on earth sort of place do you think New York is?\" he asked. \"It\\'s\\n',\n",
       " 'including how to make donations to the Project Gutenberg Literary\\n',\n",
       " 'The flannel bandage, draped around it by loving hands, hardly supported\\n',\n",
       " 'said in a different voice, a voice which was cold and tense and\\n',\n",
       " 'off the tongue. \"Billie Bennett.\" Very musical. \"Billie Marlowe.\" Still\\n',\n",
       " 'For some moments Sam remained where he was, staring after the girl as\\n',\n",
       " 'CHAPTER III\\n',\n",
       " 'withdrew and made his way down the passage again with something\\n',\n",
       " 'country, miles away from anywhere.\\n',\n",
       " 'be calm and reasonable with a suddenness which affected Sam much as\\n',\n",
       " 'avoid a rabbit. \"And what\\'s more, you know it.\"\\n',\n",
       " '\"I hope you will come down there again, Sir Mallaby,\" said Mr. Mortimer,\\n',\n",
       " 'chosen this spot for their meeting. It would be deserted and it was\\n',\n",
       " 'The more Mr. Bennett examined his conduct, the deeper the iron entered\\n',\n",
       " 'sharing a state-room on board now.\"\\n',\n",
       " '\"The book? Oh, this. It\\'s a volume of Tennyson.\"\\n',\n",
       " 'Woman, however she might treat a man in times of prosperity, could be\\n',\n",
       " \"has earned a night's repose. Not that we're going to get it yet. I think\\n\",\n",
       " 'tell me,\" he demanded, having brought out the answer to his\\n',\n",
       " 'interestedly. \"Wotcha do it for?\" she asked.\\n',\n",
       " 'better occupied. Do you spend your whole time playing golf?\"\\n',\n",
       " 'That sinister word \"ill\" held him like a spell. Eustace Hignett was ill!\\n',\n",
       " '\"Go ahead.\"\\n',\n",
       " 'shake him by the hand.\\n',\n",
       " 'conversation with a girl with an elephant gun.\"\\n',\n",
       " 'CHAPTER XI\\n',\n",
       " '\"Well, four--five--six--you can\\'t expect me not to lose count.... I say\\n',\n",
       " 'little lane....\"\\n',\n",
       " 'cheerier than this. In fact, he had rather been relying on Eustace to be\\n',\n",
       " 'He pulled himself together with an effort that was like a physical\\n',\n",
       " 'picture of the ruined castle. Beside her, curled up in a ball, lay her\\n',\n",
       " '\"Don\\'t go!\"\\n',\n",
       " 'thing.\"\\n',\n",
       " '§ 6\\n',\n",
       " 'Eustace warned me. Eustace was right. He knows women--as I do now.\\n',\n",
       " 'on getting the first shot! The first shot, Miss Milliken, is vital.\"\\n',\n",
       " 'the train he had come to catch. Arrived on the platform, he had had a\\n',\n",
       " 'period which he had set aside for communion with his son in staring\\n',\n",
       " 'makes me wish that I had a private yacht.\"\\n',\n",
       " '\"Sketching?\" said Mr. Bennett.\\n',\n",
       " 'into her room.\\n',\n",
       " 'which shouted to him to chuck his chest out and be romantic. The sight\\n',\n",
       " 'moved a step up in the animal kingdom and tackled his mother. He was not\\n',\n",
       " '\"Well?\"\\n',\n",
       " 'to is that there is more in this Windles business than meets the eye.\\n',\n",
       " \"sort of voice someone would have used in one of Edgar Allen Poe's\\n\",\n",
       " '   VII. SUNDERED HEARTS                             111\\n',\n",
       " '\"Have some barley-water,\" he urged. \"Try a little barley-water.\"\\n',\n",
       " 'the intelligence to warn him of bulldogs on the premises. It was just\\n',\n",
       " '\"Why, yes, sir, I think I may say that I have grasped the position of\\n',\n",
       " '\"Yes,\" said Billie, for there were no secrets between this girl and her\\n',\n",
       " 'trying wait, followed by a slow journey to Waterloo. The cab which he\\n',\n",
       " 'goal. Lives of great men all remind us we can make our lives sublime. In\\n',\n",
       " 'daughter.\"\\n',\n",
       " 'you merely wish to gibber about the ornamental exterior of some dashed\\n',\n",
       " 'immediate interest, and Mr. Peters was struggling with a return of the\\n',\n",
       " 'belt of saffron encircling his whole soul. That she, Wilhelmina\\n',\n",
       " 'threepence, sir.\"\\n',\n",
       " 'it was not worth risking coming out of his lair. He remembered that\\n',\n",
       " '\"I beg your pardon?\"\\n',\n",
       " 'ways including checks, online payments and credit card donations.\\n',\n",
       " 'The time which Sam had spent with Mr. Swenson below the surface had been\\n',\n",
       " '\"Morning, Mrs. Hignett.\"\\n',\n",
       " 'people in all walks of life.\\n',\n",
       " 'of stations later, however, the man next to me got out and he sat down\\n',\n",
       " 'stir out of bed!\"\\n',\n",
       " '\"Oh, no! I play cricket a bit and shoot a bit and I swim a good lot and\\n',\n",
       " 'Bennett about either, I should imagine.\"\\n',\n",
       " 'omitted to shave and, in addition to that, had swallowed some drug which\\n',\n",
       " '\"I\\'m sure I shall. Mr. Mortimer\\'s son Bream will be there. That will be\\n',\n",
       " \"situation occurred. It was entitled 'Cupid or Mammon.' The heroine, Lady\\n\",\n",
       " 'some lines of poetry which he had had to write out a hundred times on\\n',\n",
       " '\"Nonsense, nonsense!\" said Sam firmly. \"She\\'s all right! Well,\\n',\n",
       " 'It runs,\" said Miss Milliken, closing her eyes, \"\\'Trust no future,\\n',\n",
       " 'got a gun....\" She blew a cloud of smoke. \"I shall want somebody with me\\n',\n",
       " 'childlike, was not proof against the picture thus conjured up.\\n',\n",
       " 'ecstasy; and, clutching out, he found his arms full of totally\\n',\n",
       " '\"We can\\'t have this, you know!\" said Jane Hubbard. \"You\\'re disturbing my\\n',\n",
       " 'Bream Mortimer, who is it?\"\\n',\n",
       " '\"No, only three.\"\\n',\n",
       " 'He vanished as abruptly as he had appeared. He perceived that what he\\n',\n",
       " 'He melted at once.\\n',\n",
       " 'heart.\\n',\n",
       " 'he and Sam were alone together.\\n',\n",
       " 'he said that it would be all right and that we could have the house.\"\\n',\n",
       " '\"Very good, sir. Which of your suits would you wish me to lay out?\"\\n',\n",
       " 'knew that he had a heart of gold and were not intimidated by his\\n',\n",
       " \"notion, dearest ... I don't know what's the matter with me ... Billie,\\n\",\n",
       " '\"A sharp downpour, sir,\" he remarked.\\n',\n",
       " '\"Good-night, sir.\"\\n',\n",
       " '\"She will do as I tell her.\"\\n',\n",
       " 'begun to exist between them. \"To be near you! To be in the same house\\n',\n",
       " '\\'The Spreading Light!\\'\"\\n',\n",
       " 'touched off the orchestrion in the drawing-room, and that willing\\n',\n",
       " 'turned to her again. Now that he had definitely established the fact\\n',\n",
       " 'The offices of the old-established firm of Marlowe, Thorpe, Prescott,\\n',\n",
       " 'people....\"\\n',\n",
       " '\"Well!\" said Mrs. Withers, comfortably, pausing for a moment from her\\n',\n",
       " '\"Are you busy, Mr. Marlowe?\" asked Billie, addressing the boots.\\n',\n",
       " 'properly equipped messenger boy.\\n',\n",
       " 'the rail nearest the shore. He perceived that the rail was black with\\n',\n",
       " 'been realised. The figure was too tall to be Eustace, and Eustace, she\\n',\n",
       " 'located in the United States, we do not claim a right to prevent you from\\n',\n",
       " 'Bennett hopping about in the hall, endeavouring to detain him and tell\\n',\n",
       " 'Language: English\\n',\n",
       " 'her for the forty-second time. If you had asked him, he would have said\\n',\n",
       " '\"Life is real! Life is earnest! And the grave is not its goal; dust\\n',\n",
       " '\"Indeed?\" said Mrs. Hignett coldly. \"And now I should like to hear a\\n',\n",
       " '\"We\\'d better go downstairs,\" said Jane. \"Bring the candle. Not you,\\n',\n",
       " 'He tripped over the mat and withdrew.\\n',\n",
       " 'on Miss Bennett. With the best motives, of course!\"\\n',\n",
       " '\"I\\'d like to bet it\\'s nothing serious at all.\"\\n',\n",
       " 'Mr. Peters betrayed no excitement at the information. This girl seemed\\n',\n",
       " 'to Billie, who had been staring wide-eyed at her late fiancé, \"let me\\n',\n",
       " 'imagined himself to have made a suggestion of exceptional intelligence.\\n',\n",
       " 'Sam had been feeling a good deal of a fellow already, but at the sight\\n',\n",
       " '\"You\\'ve implied it. And you\\'ve been looking at me as if I were a leper\\n',\n",
       " 'butler who admitted him that his father was dressing and would be down\\n',\n",
       " 'Mallaby. \"Brigney, Goole and Butterworth know perfectly well that\\n',\n",
       " '\"Do you know anything about the law?\"\\n',\n",
       " 'put his hand in mine and tell me all his poor little troubles and let me\\n',\n",
       " 'finger on some red-hot passage. A proposal of marriage is a thing which\\n',\n",
       " 'that was needed.\\n',\n",
       " '\"Soon after I arrived in America, I met a girl....\"\\n',\n",
       " 'thou art to dust returnest, was not spoken of the soul. Art is long and\\n',\n",
       " 'hitched up his drooping jaw sufficiently to enable him to speak. He was\\n',\n",
       " \"Estates. It's a wonderfully powerful situation. It appears--but I won't\\n\",\n",
       " 'as an open book. And, if I have succeeded in my task, the reader will by\\n',\n",
       " \"'nineties when you were born, children were frequently christened\\n\",\n",
       " 'Theosophy, going over to America to begin a lecturing-tour; and no one\\n',\n",
       " 'on his finger. It was a minute fragment of lobster-shell. And at the\\n',\n",
       " '    XV. DRAMA AT A COUNTRY HOUSE                    227\\n',\n",
       " '\"Mr. Peters,\" cried Billie desperately. He was making her head swim with\\n',\n",
       " 'late, and there would be plenty of time to become reconciled to Mr.\\n',\n",
       " 'wedding-bells in the old village church rung out a blither peal than\\n',\n",
       " '\"Oh, hello, Bream!\" said Billie.\\n',\n",
       " 'Webster shook his head.\\n',\n",
       " 'events she had completely forgotten the existence of those enemies of\\n',\n",
       " 'and mine. Isn\\'t that right, Henry?\"\\n',\n",
       " \"a moment's pause.\\n\",\n",
       " '\"Oh, no, sir.\"\\n',\n",
       " 'she soothed my aching heart. My heart, if you recollect, was aching at\\n',\n",
       " '\"Oh, he said that, did he?\"\\n',\n",
       " 'connections might well have a troupe of these useful females. He\\n',\n",
       " 'this gentleman down in the country....\"\\n',\n",
       " '\"Don\\'t shoot!\" she cried, as Mr. Peters absent-mindedly dipped his hand\\n',\n",
       " '\"There isn\\'t the slightest danger, father, dear. Don\\'t be silly. If I\\n',\n",
       " 'Sam started. Somehow this girl had always been so individual to him that\\n',\n",
       " \"guys but I never seen anyone so wet as you. Yessir, you're certainly\\n\",\n",
       " 'appeal to his broken spirit now, Sam uttered a bitter laugh. It was as\\n',\n",
       " 'to you before witnesses?\"\\n',\n",
       " 'had made a good exit. But already his heart was aching.\\n',\n",
       " 'them languidly, then stared.\\n',\n",
       " 'all wrong. It is so dark in the room that our eyes can at first discern\\n',\n",
       " '\"Please come up to the top deck. I want to speak to you.\"\\n',\n",
       " 'Archive Foundation, how to help produce our new eBooks, and how to\\n',\n",
       " '\"I don\\'t know his name.\"\\n',\n",
       " 'The valet withdrew like a duke leaving the Royal Presence, not actually\\n',\n",
       " '\"Great Godfrey!\" exclaimed Mr. Rufus Bennett, gazing on the scene from\\n',\n",
       " \"morning's telephoning to the offices of the Cunard and the White Star\\n\",\n",
       " 'better. \"We noticed among those present the charming and popular Mrs.\\n',\n",
       " 'Suddenly she drew herself away, a cloud on her face.\\n',\n",
       " 'but the way Sam looked at it was that, for a first love-letter, it might\\n',\n",
       " \"that's all over. I take it that after my departure you made the most\\n\",\n",
       " 'when I have been roughing it out in the jungle,\" she went on rather\\n',\n",
       " 'the male sex, when a woman knows all, there is invariably trouble ahead\\n',\n",
       " 'Sir Mallaby in a discussion on the recent case of Ouseley _v._ Ouseley,\\n',\n",
       " 're-adjust all his preconceived views on any subject. Listening to\\n',\n",
       " 'to deepen the atmosphere of peace and content. Not so. At this moment,\\n',\n",
       " 'felt that Providence had intervened to save them from a disastrous\\n',\n",
       " \"stenographer for the guv'--for Sir Mallaby, and sent me in to show you\\n\",\n",
       " '\"Eh? What?\"\\n',\n",
       " 'on that damned castle the whole of the morning!\"\\n',\n",
       " 'He was still busy with this congenial task when a tremendous splash at\\n',\n",
       " 'encountered a duller series of episodes. He found a temporary solace by\\n',\n",
       " '\"Good-bye. When you reach England, remember me to your father.\"\\n',\n",
       " 'something akin to his emotion. Of all the learned professions, the\\n',\n",
       " 'she wrote. She had a vision of Eustace and the daughter of J. Rufus\\n',\n",
       " '\"Hullo!\" he said. \"I was wondering where you had got to.\"\\n',\n",
       " 'We got along famously. But--oh, well, it was just another case of ships\\n',\n",
       " \"You and I have Henry Mortimer's number. We know what Henry Mortimer is\\n\",\n",
       " 'rate he went away.\"\\n',\n",
       " 'any right-thinking orphan or widow would rather jog along and take a\\n',\n",
       " 'wants me to read Tennyson to her on the upper deck.\"\\n',\n",
       " '*** START: FULL LICENSE ***\\n',\n",
       " 'carelessly.\\n',\n",
       " '\"Wilhelmina,\" he said, \"go into the outer office.\"\\n',\n",
       " \"chair in the drawing-room adjoining the table on which the authoress's\\n\",\n",
       " 'escape these unpleasantnesses--but none had got off the mark quite so\\n',\n",
       " 'sipped sherry and felt a sombre self-satisfaction. He had, he\\n',\n",
       " 'Mr. Bennett heaved himself out of the deck-chair. Beyond the French\\n',\n",
       " 'Bream disappeared. It is not always easy to interpret emotion from a\\n',\n",
       " 'every red-haired woman who came into the office was the girl who had\\n',\n",
       " 'Mr. Peters picked up a speaking-tube and blew down it.\\n',\n",
       " '\"You\\'re all wrong,\" said Sam. \"It\\'s not that at all.\"\\n',\n",
       " 'harmless object provided by the White Star Company for clients who\\n',\n",
       " 'girl appeared to be wrapped in thought and it was not till the sharp\\n',\n",
       " 'Mr. Bennett, though free now to move, remained where he was, transfixed.\\n',\n",
       " 'thinking man than sitting in a dark cupboard waiting for a house-party\\n',\n",
       " 'form.  Any alternate format must include the full Project Gutenberg-tm\\n',\n",
       " 'there is bitter mixed with the sweet--a shade disappointed.\\n',\n",
       " 'the next situation in a hurry.\\n',\n",
       " '\"My notice sir, to take effect at the expiration of the current week. I\\n',\n",
       " \"A look of alarm spread itself over Bream's face.\\n\",\n",
       " '\"I said I should never forgive you and I won\\'t.\"\\n',\n",
       " 'there dumb?\"\\n',\n",
       " '\"I,\" said Mrs. Hignett portentously, \"am the owner of this house, and I\\n',\n",
       " 'Sam Marlowe felt sulky and defiant. This girl had treated him shamefully\\n',\n",
       " 'said, paying her a striking tribute. \"I hope now that we\\'ve heard the\\n',\n",
       " 'with her elephant-gun, and Billie in a dinner dress. Smith welcomed them\\n',\n",
       " '\"Of course, if you _want_ to smash up in a ditch!\" said Sam, righting\\n',\n",
       " 'lasted until, on tiptoeing nearer to the house in order to gloat more\\n',\n",
       " '\"It\\'s the water,\" said Sam. His brain was still clouded; he wished he\\n',\n",
       " 'fool of himself on board the ship, you were the only person at the table\\n',\n",
       " '1.E.5.  Do not copy, display, perform, distribute or redistribute this\\n',\n",
       " 'she once killed a panther with a hat-pin.\"\\n',\n",
       " \"letter? Ah!... nothing will induce us ... oh, tell 'em to go to blazes,\\n\",\n",
       " 'tent with the object of murdering her, Jane Hubbard had shot without\\n',\n",
       " '\"How splendid! Tell me about him.\"\\n',\n",
       " \"ship's concert to-morrow! The idea of your trying to hide your light\\n\",\n",
       " 'end of the lawn, while others, more energetic, hopped about the grass\\n',\n",
       " 'the work.  You can easily comply with the terms of this agreement by\\n',\n",
       " 'opportunities to fix the problem.\\n',\n",
       " 'married that day.\"\\n',\n",
       " 'going to get wet!\\'\"\\n',\n",
       " 'ago,--I thought I had met my ideal, but....\"\\n',\n",
       " 'she re-read her scenario and gloated over its sure-fire qualities. There\\n',\n",
       " 'entering a tunnel.\\n',\n",
       " '\"And the hams!\" he went on. \"The ham I had for breakfast was what I call\\n',\n",
       " 'curving nose. He looked much more like a parrot than most parrots do. It\\n',\n",
       " \"from a bundle of rugs in the neighbourhood of the girl's lower ribs, a\\n\",\n",
       " 'beginning to feel that he would be lucky if he came out of this\\n',\n",
       " '\"I don\\'t care how many cards you\\'ve got!\" said Mr. Bennett with heat.\\n',\n",
       " 'little about you.\"\\n',\n",
       " '\"It was nothing, nothing really. One just happens to have the knack of\\n',\n",
       " 'of her welcoming smile his self-esteem almost caused him to explode.\\n',\n",
       " '\"But will you?\"\\n',\n",
       " 'LIABILITY, BREACH OF WARRANTY OR BREACH OF CONTRACT EXCEPT THOSE\\n',\n",
       " 'carried his nose raised and puckered as though some faintly unpleasant\\n',\n",
       " '\"What the deuce do you mean?\" said Mr. Bennett irritably. \"Wilhelmina,\\n',\n",
       " '\"That morning I met you at Sir Mallaby\\'s office, Mr. Peters,\" she said\\n',\n",
       " 'that the queen of her sex, a girl who had chatted in terms of equality\\n',\n",
       " 'work or any other work associated with Project Gutenberg-tm.\\n',\n",
       " 'the young man from a watery grave.\\n',\n",
       " 'circle of his acquaintance seemed to have made up their minds that he\\n',\n",
       " 'through long disuse. He had given this sensitive girl the worst fright\\n',\n",
       " 'the Hignett family. Windles was as the breath of life to her. Its shady\\n',\n",
       " 'support, overpowered him. Moreover, Webster had personality. He exuded\\n',\n",
       " '\"Then, for the love of Pete, wotcha doin\\' walloping off\\'n her like a\\n',\n",
       " 'intimacy with the person seated next to him. Billie Bennett and Sam\\n',\n",
       " 'cake, had abandoned the idea of sleep, and meant to see the thing\\n',\n",
       " '\"Mother doesn\\'t want me to marry anybody,\" said Eustace with gloom. It\\n',\n",
       " '\"No.\"\\n',\n",
       " 'which it had never had before. It had lingered in her memory, as stories\\n',\n",
       " 'Eventually, however, the engines began to revolve and the machine moved\\n',\n",
       " 'breakfasted, she proposed to drive Mr. Mortimer and Mr. Bream Mortimer\\n',\n",
       " 'walking backwards but giving the impression of doing so; and Mr.\\n',\n",
       " 'in the yeast of male complacency, induces fermentation.\\n',\n",
       " 'and for the moment he thought that he must still be dreaming, for the\\n',\n",
       " 'into an absorbing business. Why should he brood over a sentimental\\n',\n",
       " 'seemed to be playing still. There was undeniably music in the air. The\\n',\n",
       " 'the moment by an expression of discomfort somewhat akin to that of a cat\\n',\n",
       " 'would chew me into small pieces.\"\\n',\n",
       " 'the sort of woollen-headed thing fellows did, forgetting facts like\\n',\n",
       " 'fact, a cannon but the elephant gun, which Miss Hubbard carried with her\\n',\n",
       " 'simply because ... I mean, I suppose there _are_ young Englishmen who\\n',\n",
       " 'that a thousand-to-one chance has come off, and caused our wrong-doing\\n',\n",
       " 'walks, its silver lake, its noble elms, the old grey stone of its\\n',\n",
       " 'know how crowded the Subway is at the rush hour. I had a seat, of\\n',\n",
       " '\"A what?\"\\n',\n",
       " '\"Yes, and Pinky-Boodles gets on splendidly with Smith,\" said Billie.\\n',\n",
       " 'with him. They felt like that, too.\\n',\n",
       " \"to say something else that I've had on my mind for a good while. Sam,\\n\",\n",
       " 'there came from somewhere upstairs the roar of a gun; and, when he heard\\n',\n",
       " '\"Atlantic\" (New York to Southampton) who had ideals. She was looking for\\n',\n",
       " '\"Sit down!\" said Jane Hubbard.\\n',\n",
       " '\"I have decided once and for all....\"\\n',\n",
       " 'This sudden solution of steely strength into liquid weakness had on\\n',\n",
       " 'lost all my power to read the human female countenance. Very cold and\\n',\n",
       " '\"It ruined them, unfortunately. They were never any use again. For the\\n',\n",
       " \"kettle black, this was it. His opinion of Jno. Peters' sanity went down\\n\",\n",
       " '\"Jane, we\\'re engaged.\"\\n',\n",
       " '\"Didn\\'t you tell him I was not to be disturbed?\"\\n',\n",
       " 'looked like a pugilist about to enter the ring.\\n',\n",
       " 'truth of that well-known line--\"Peace, perfect peace, with loved ones\\n',\n",
       " 'into deep lanes where forbidden love lurked. She cast a swift\\n',\n",
       " 'was his beautiful voice. He really sings extraordinarily well.\"\\n',\n",
       " '\"Switch off the light when you\\'ve finished.\"\\n',\n",
       " 'many amateur imitations, but never one as short as this. The saloon\\n',\n",
       " \"not to do it. Take my advice, as a man who knows women, and don't do\\n\",\n",
       " 'about the Pullman car. A child could do your part of it.\"\\n',\n",
       " \"performers at ships' concerts had imitated whole strings of Dickens'\\n\",\n",
       " \"are concerned. A man who can't even stop a dog-fight! In a world which\\n\",\n",
       " 'it to me like that, it _is_ red.\"\\n',\n",
       " 'lightened by a bit of luck. It was so with Mr. Bennett in his hour of\\n',\n",
       " 'events occurred which were to make this night memorable to him.\\n',\n",
       " '\"It\\'s the burglars!\" quavered Mrs. Hignett. In the stress of recent\\n',\n",
       " 'find a respect in which it does not differ. So far from lying inert in\\n',\n",
       " '\"What\\'s it been doing?\"\\n',\n",
       " 'had been a Russian dancer would undoubtedly have caused the management\\n',\n",
       " 'cannot acquiesce in being cursed and sworn at.\"\\n',\n",
       " 'Sam turned. He had been looking at himself in the mirror with a\\n',\n",
       " 'at the cuckoo-clock with a hatchet. He felt that it had done it on\\n',\n",
       " 'said that it reminded him of something of much the same kind in the\\n',\n",
       " '\"I have studied the sex, sir,\" said Webster modestly.\\n',\n",
       " 'reluctantly been compelled to reconcile himself to a total absence of\\n',\n",
       " 'took her hand.\\n',\n",
       " '\"The savage brute chased me all over the garden and kept me sitting up\\n',\n",
       " 'Windles for the day, Mr. Bennett had fallen in love with the place, and\\n',\n",
       " 'works.\\n',\n",
       " 'Sam, \"don\\'t worry. Let me bring this thing off, and you can have all\\n',\n",
       " '\"Hear them?\" said Eustace, puzzled.\\n',\n",
       " 'the grace of the old-fashioned mazurka.\\n',\n",
       " '\"But I didn\\'t come about that!\"\\n',\n",
       " 'which he had penetrated, there was a grinding of brakes on the gravel\\n',\n",
       " 'snuff to take or something to tap against his front teeth. \"Miss\\n',\n",
       " 'into a sort of friendliness in spite of herself. And at the words and\\n',\n",
       " 'gulped; and Eustace, greatly encouraged, emerged slowly from the\\n',\n",
       " 'Hotel Magnificent at Bingley-on-the-Sea had brought about this strange,\\n',\n",
       " 'just when I was beginning to forget.\"\\n',\n",
       " 'diverted.\\n',\n",
       " '\"Achoo!\"\\n',\n",
       " 'touched the pillow. But meanwhile she lingered here, for she felt that\\n',\n",
       " 'with pleasure, therefore, that I turn now to depict a quiet, peaceful\\n',\n",
       " '\"No, certainly not! You won\\'t forget, will you, Webster?\"\\n',\n",
       " '\"That is the gist of his remarks, sir.\"\\n',\n",
       " 'The exhibit was lying on his back, staring at the roof of the berth. By\\n',\n",
       " '\"Excuse me, but will you be seeing Sir Mallaby again to-day?\"\\n',\n",
       " 'Hignett. Very nervous in his manner.\"\\n',\n",
       " '\"Bribed a tramp to attack her, did he?\"\\n',\n",
       " \"been no dirty work. All right, Herb., you can let 'em in now.\\n\",\n",
       " 'accompanist. He can accompany you.\"\\n',\n",
       " 'were married.\"\\n',\n",
       " 'should be glad to know what you are doing in it. I am Mrs. Horace\\n',\n",
       " 'that the lady whose wrong room it was had pointed what appeared to be a\\n',\n",
       " 'millions of churches in London. I\\'ve seen them all over the place.\" He\\n',\n",
       " 'rate, the service and cooking there had done much to take his mind off\\n',\n",
       " 'ankles, and made for the slightly less black oblong which he took to be\\n',\n",
       " 'waiters at all the other Hotels Magnificent along the coast. For\\n',\n",
       " '\"Yes, this is his golf day. I\\'ll tell him you looked in.\"\\n',\n",
       " 'adequately upon it, she perceived that the French windows of the\\n',\n",
       " '\"Oh, well!\" said Sam, straightening his tie, with a quiet, brave smile.\\n',\n",
       " \"and we got into conversation. There wasn't time to talk much. I told him\\n\",\n",
       " 'When Miss Milliken had withdrawn Sir Mallaby occupied ten seconds of the\\n',\n",
       " 'sleeping with his face buried in the pillow. It cannot have been good\\n',\n",
       " '\"My dear old man, you have many worthy qualities, but you must know that\\n',\n",
       " 'endeavoured, however, to smile quietly.\\n',\n",
       " 'His attention now diverted to his son, Sir Mallaby seemed to remember\\n',\n",
       " 'He found himself face to face with an extraordinarily pretty girl.\\n',\n",
       " 'tell me that, as we loved each other, what did anything else matter?\"\\n',\n",
       " \"different girl every time you go on a voyage. You'll get over this in a\\n\",\n",
       " 'feeling which all returning wanderers know. And, when she stepped on to\\n',\n",
       " '\"How _are_ you?\" he asked, with such intensity that Sam unconsciously\\n',\n",
       " 'and that no more could be expected of him, he snuggled down into the\\n',\n",
       " 'such indispensable adjuncts to a good time. He had just trotted\\n',\n",
       " 'Mr. Bennett continued to run; but already he had begun to pant and\\n',\n",
       " 'gang-plank, was only able to make progress by employing all the muscle\\n',\n",
       " '       Though his lance be sharrrp and--er keen;\\n',\n",
       " 'CHAPTER XVII\\n',\n",
       " 'Printed in Great Britain by Butler & Tanner Ltd., Frome and London\\n',\n",
       " '\"You\\'re looking forward...!\" Eustace eyed her with honest amazement.\\n',\n",
       " '\"I thought that would stop you,\" she said complacently, as the echoes\\n',\n",
       " '     you already use to calculate your applicable taxes.  The fee is\\n',\n",
       " 'the dangers she had passed, and she loved him that he did pity them. In\\n',\n",
       " '\"Yes, to cheer him up.\"\\n',\n",
       " '_Archilochum_, for instance, according to the Roman writer, _proprio\\n',\n",
       " 'approach this matter seriously. Marriage would do you a world of good,\\n',\n",
       " '\"Why?\" said Sam, backsliding.\\n',\n",
       " 'lips appreciatively.\\n',\n",
       " 'offered by Widgery and was engaged on making a tour of the office,\\n',\n",
       " 'eight precisely.\\n',\n",
       " '\"Take my trousers!\"\\n',\n",
       " \"going to my room to get a book to read you to sleep. I shan't be five\\n\",\n",
       " 'marry. I mean, I should have to have a man to look after the social end\\n',\n",
       " 'lying absolutely still and forcing himself to think of purely inland\\n',\n",
       " '\"People have been good enough to say....\"\\n',\n",
       " 'for the more comfortable perusal of the copy of _Home Whispers_ which he\\n',\n",
       " 'pulling himself together with a painful effort, raised his hands and\\n',\n",
       " \"but she wore no nurse's uniform.\\n\",\n",
       " '\"Will you do something for me?\"\\n',\n",
       " 'give it you as a friend, not as a lawyer. Six-and-eightpence to others,\\n',\n",
       " '\"That\\'s good! Saves a lot of awkwardness. Well, good-bye.\"\\n',\n",
       " 'though at the time it seemed the only course to pursue.\"\\n',\n",
       " 'which one could occasionally see the patients playing an odd game with\\n',\n",
       " 'It is odd to reflect that, as his searching fingers touched the knob, a\\n',\n",
       " 'through the notes which she had made overnight. She had hardly succeeded\\n',\n",
       " 'roundabout way. First, he spent an evening or two singing sentimental\\n',\n",
       " 'notably and in particular his old friend Mr. Mortimer, who at this\\n',\n",
       " '\"They retire quite early, sir, as a rule. By half-past ten the coast is\\n',\n",
       " 'unfortunate affair with that girl--Billie Bennett I think you said her\\n',\n",
       " 'thoughtful thing he would have expected her to do. His contentment with\\n',\n",
       " 'A consuming desire came over him to talk about the girl to someone.\\n',\n",
       " 'swimming on your back. A moment later, the astonished Mr. Swenson who,\\n',\n",
       " 'story-teller as he chronicles the events which he has set out to\\n',\n",
       " 'to be detected. There had seemed no possibility of that little ruse of\\n',\n",
       " '\"I landed nearly a week ago.\"\\n',\n",
       " 'bushy eyebrows, a thin face, and a voice like a rusty file.\\n',\n",
       " '\"What is the matter? Ha!\"\\n',\n",
       " '\"Mortimer,\" said Mr. Bennett.\\n',\n",
       " 'teeth like rabbits. The other two were equally revolting in different\\n',\n",
       " 'eyes.\\n',\n",
       " '\"Now what?\" said Eustace.\\n',\n",
       " '\"Don\\'t let\\'s talk about Bream.\"\\n',\n",
       " 'yourselves somehow till I come back.\"\\n',\n",
       " \"intercepting Billie before she reached Sir Mallaby's office on her\\n\",\n",
       " 'Twenty minutes later Sam was climbing up the side of the liner as it lay\\n',\n",
       " '\"I\\'ll be going. Haven\\'t had breakfast yet. Too worried to eat breakfast.\\n',\n",
       " '     Before my life has found\\n',\n",
       " ...}"
      ]
     },
     "execution_count": 158,
     "metadata": {},
     "output_type": "execute_result"
    }
   ],
   "source": [
    "set(data)"
   ]
  },
  {
   "cell_type": "code",
   "execution_count": 159,
   "metadata": {},
   "outputs": [
    {
     "ename": "AttributeError",
     "evalue": "'list' object has no attribute 'split'",
     "output_type": "error",
     "traceback": [
      "\u001b[0;31m---------------------------------------------------------------------------\u001b[0m",
      "\u001b[0;31mAttributeError\u001b[0m                            Traceback (most recent call last)",
      "\u001b[0;32m<ipython-input-159-78989a0f465c>\u001b[0m in \u001b[0;36m<module>\u001b[0;34m\u001b[0m\n\u001b[0;32m----> 1\u001b[0;31m \u001b[0mset\u001b[0m\u001b[0;34m(\u001b[0m\u001b[0mdata\u001b[0m\u001b[0;34m.\u001b[0m\u001b[0msplit\u001b[0m\u001b[0;34m(\u001b[0m\u001b[0;34m)\u001b[0m\u001b[0;34m)\u001b[0m\u001b[0;34m\u001b[0m\u001b[0;34m\u001b[0m\u001b[0m\n\u001b[0m",
      "\u001b[0;31mAttributeError\u001b[0m: 'list' object has no attribute 'split'"
     ]
    }
   ],
   "source": [
    "set(data.split())"
   ]
  },
  {
   "cell_type": "code",
   "execution_count": 160,
   "metadata": {},
   "outputs": [
    {
     "data": {
      "text/plain": [
       "9705"
      ]
     },
     "execution_count": 160,
     "metadata": {},
     "output_type": "execute_result"
    }
   ],
   "source": [
    "len(data)"
   ]
  },
  {
   "cell_type": "code",
   "execution_count": 161,
   "metadata": {},
   "outputs": [
    {
     "ename": "TypeError",
     "evalue": "list indices must be integers or slices, not str",
     "output_type": "error",
     "traceback": [
      "\u001b[0;31m---------------------------------------------------------------------------\u001b[0m",
      "\u001b[0;31mTypeError\u001b[0m                                 Traceback (most recent call last)",
      "\u001b[0;32m<ipython-input-161-d4d91d078a4d>\u001b[0m in \u001b[0;36m<module>\u001b[0;34m\u001b[0m\n\u001b[1;32m      2\u001b[0m \u001b[0mpg_set\u001b[0m \u001b[0;34m=\u001b[0m \u001b[0mset\u001b[0m\u001b[0;34m(\u001b[0m\u001b[0;34m)\u001b[0m\u001b[0;34m\u001b[0m\u001b[0;34m\u001b[0m\u001b[0m\n\u001b[1;32m      3\u001b[0m \u001b[0;32mfor\u001b[0m \u001b[0mx\u001b[0m \u001b[0;32min\u001b[0m \u001b[0mdata\u001b[0m\u001b[0;34m:\u001b[0m\u001b[0;34m\u001b[0m\u001b[0;34m\u001b[0m\u001b[0m\n\u001b[0;32m----> 4\u001b[0;31m     \u001b[0mpg_set\u001b[0m\u001b[0;34m.\u001b[0m\u001b[0madd\u001b[0m\u001b[0;34m(\u001b[0m\u001b[0mdata\u001b[0m\u001b[0;34m[\u001b[0m\u001b[0mx\u001b[0m\u001b[0;34m]\u001b[0m\u001b[0;34m.\u001b[0m\u001b[0msplit\u001b[0m\u001b[0;34m(\u001b[0m\u001b[0;34m)\u001b[0m\u001b[0;34m)\u001b[0m\u001b[0;34m\u001b[0m\u001b[0;34m\u001b[0m\u001b[0m\n\u001b[0m",
      "\u001b[0;31mTypeError\u001b[0m: list indices must be integers or slices, not str"
     ]
    }
   ],
   "source": [
    "#pgwood house book\n",
    "pg_set = set()\n",
    "for x in data:\n",
    "    list x1 = []\n",
    "    pg_set.add(data[x].split())"
   ]
  },
  {
   "cell_type": "code",
   "execution_count": 162,
   "metadata": {},
   "outputs": [
    {
     "ename": "TypeError",
     "evalue": "set expected at most 1 arguments, got 3",
     "output_type": "error",
     "traceback": [
      "\u001b[0;31m---------------------------------------------------------------------------\u001b[0m",
      "\u001b[0;31mTypeError\u001b[0m                                 Traceback (most recent call last)",
      "\u001b[0;32m<ipython-input-162-3fab0c1596c5>\u001b[0m in \u001b[0;36m<module>\u001b[0;34m\u001b[0m\n\u001b[0;32m----> 1\u001b[0;31m \u001b[0mmyset1\u001b[0m \u001b[0;34m=\u001b[0m \u001b[0mset\u001b[0m\u001b[0;34m(\u001b[0m\u001b[0;34m'hello'\u001b[0m\u001b[0;34m,\u001b[0m \u001b[0;34m\"one\"\u001b[0m\u001b[0;34m,\u001b[0m\u001b[0;34m\"one\"\u001b[0m\u001b[0;34m)\u001b[0m\u001b[0;34m\u001b[0m\u001b[0;34m\u001b[0m\u001b[0m\n\u001b[0m",
      "\u001b[0;31mTypeError\u001b[0m: set expected at most 1 arguments, got 3"
     ]
    }
   ],
   "source": [
    "myset1 = set('hello', \"one\",\"one\")"
   ]
  },
  {
   "cell_type": "markdown",
   "metadata": {},
   "source": [
    "### Boolean"
   ]
  },
  {
   "cell_type": "code",
   "execution_count": 163,
   "metadata": {},
   "outputs": [
    {
     "data": {
      "text/plain": [
       "False"
      ]
     },
     "execution_count": 163,
     "metadata": {},
     "output_type": "execute_result"
    }
   ],
   "source": [
    "False"
   ]
  },
  {
   "cell_type": "code",
   "execution_count": 164,
   "metadata": {},
   "outputs": [
    {
     "data": {
      "text/plain": [
       "True"
      ]
     },
     "execution_count": 164,
     "metadata": {},
     "output_type": "execute_result"
    }
   ],
   "source": [
    "True"
   ]
  },
  {
   "cell_type": "code",
   "execution_count": 166,
   "metadata": {},
   "outputs": [
    {
     "data": {
      "text/plain": [
       "bool"
      ]
     },
     "execution_count": 166,
     "metadata": {},
     "output_type": "execute_result"
    }
   ],
   "source": [
    "type(True)"
   ]
  },
  {
   "cell_type": "code",
   "execution_count": 167,
   "metadata": {},
   "outputs": [
    {
     "data": {
      "text/plain": [
       "False"
      ]
     },
     "execution_count": 167,
     "metadata": {},
     "output_type": "execute_result"
    }
   ],
   "source": [
    "1 > 2"
   ]
  },
  {
   "cell_type": "code",
   "execution_count": 168,
   "metadata": {},
   "outputs": [
    {
     "data": {
      "text/plain": [
       "False"
      ]
     },
     "execution_count": 168,
     "metadata": {},
     "output_type": "execute_result"
    }
   ],
   "source": [
    "1 == 2"
   ]
  },
  {
   "cell_type": "code",
   "execution_count": 169,
   "metadata": {},
   "outputs": [
    {
     "data": {
      "text/plain": [
       "True"
      ]
     },
     "execution_count": 169,
     "metadata": {},
     "output_type": "execute_result"
    }
   ],
   "source": [
    "1 == 1"
   ]
  },
  {
   "cell_type": "code",
   "execution_count": 170,
   "metadata": {},
   "outputs": [],
   "source": [
    "# none is used as place holder "
   ]
  },
  {
   "cell_type": "code",
   "execution_count": 171,
   "metadata": {},
   "outputs": [],
   "source": [
    "b = None"
   ]
  },
  {
   "cell_type": "code",
   "execution_count": 172,
   "metadata": {},
   "outputs": [],
   "source": [
    "b"
   ]
  },
  {
   "cell_type": "code",
   "execution_count": 173,
   "metadata": {},
   "outputs": [
    {
     "data": {
      "text/plain": [
       "NoneType"
      ]
     },
     "execution_count": 173,
     "metadata": {},
     "output_type": "execute_result"
    }
   ],
   "source": [
    "type(b)"
   ]
  },
  {
   "cell_type": "markdown",
   "metadata": {},
   "source": [
    "### Files in Python"
   ]
  },
  {
   "cell_type": "code",
   "execution_count": 174,
   "metadata": {},
   "outputs": [
    {
     "name": "stdout",
     "output_type": "stream",
     "text": [
      "Writing myfile.txt\n"
     ]
    }
   ],
   "source": [
    "%%writefile myfile.txt\n",
    "Hello this is a text file \n",
    "this is second line\n",
    "this is third line\n",
    "this is the fourth line"
   ]
  },
  {
   "cell_type": "code",
   "execution_count": 175,
   "metadata": {},
   "outputs": [],
   "source": [
    "myfile = open('myfile.txt')"
   ]
  },
  {
   "cell_type": "code",
   "execution_count": 176,
   "metadata": {},
   "outputs": [
    {
     "data": {
      "text/plain": [
       "_io.TextIOWrapper"
      ]
     },
     "execution_count": 176,
     "metadata": {},
     "output_type": "execute_result"
    }
   ],
   "source": [
    "type(myfile)"
   ]
  },
  {
   "cell_type": "code",
   "execution_count": 177,
   "metadata": {},
   "outputs": [
    {
     "data": {
      "text/plain": [
       "'/Users/usman/Dropbox/usman_mac_shared/0001_java_Bootcamp/DataScience/Python'"
      ]
     },
     "execution_count": 177,
     "metadata": {},
     "output_type": "execute_result"
    }
   ],
   "source": [
    "pwd"
   ]
  },
  {
   "cell_type": "code",
   "execution_count": 178,
   "metadata": {},
   "outputs": [
    {
     "data": {
      "text/plain": [
       "'Hello this is a text file \\nthis is second line\\nthis is third line\\nthis is the fourth line\\n'"
      ]
     },
     "execution_count": 178,
     "metadata": {},
     "output_type": "execute_result"
    }
   ],
   "source": [
    "myfile.read()"
   ]
  },
  {
   "cell_type": "code",
   "execution_count": 179,
   "metadata": {},
   "outputs": [],
   "source": [
    "myfile.seek(0)\n",
    "contents = myfile.read()"
   ]
  },
  {
   "cell_type": "code",
   "execution_count": 180,
   "metadata": {},
   "outputs": [
    {
     "data": {
      "text/plain": [
       "str"
      ]
     },
     "execution_count": 180,
     "metadata": {},
     "output_type": "execute_result"
    }
   ],
   "source": [
    "type(contents)"
   ]
  },
  {
   "cell_type": "code",
   "execution_count": 181,
   "metadata": {},
   "outputs": [],
   "source": [
    "pg_file = open('/Users/usman/Downloads/pg.txt')"
   ]
  },
  {
   "cell_type": "code",
   "execution_count": 182,
   "metadata": {},
   "outputs": [],
   "source": [
    "pg_contents = pg_file.read()"
   ]
  },
  {
   "cell_type": "code",
   "execution_count": 183,
   "metadata": {},
   "outputs": [
    {
     "data": {
      "text/plain": [
       "str"
      ]
     },
     "execution_count": 183,
     "metadata": {},
     "output_type": "execute_result"
    }
   ],
   "source": [
    "type(pg_contents)"
   ]
  },
  {
   "cell_type": "code",
   "execution_count": 185,
   "metadata": {},
   "outputs": [],
   "source": [
    "pg_file.close()"
   ]
  },
  {
   "cell_type": "code",
   "execution_count": 186,
   "metadata": {},
   "outputs": [],
   "source": [
    "myfile.close()"
   ]
  },
  {
   "cell_type": "code",
   "execution_count": 188,
   "metadata": {},
   "outputs": [],
   "source": [
    "#to properly close of the file"
   ]
  },
  {
   "cell_type": "markdown",
   "metadata": {},
   "source": [
    "**How to properly read and write files**\n",
    "- mode = `r` is read only\n",
    "- mode = `w` is write only (will overwrite files or create new!)\n",
    "- mode = `a` is append only will add on to files\n",
    "- mode = `r+` is reading and writing\n",
    "- mode = `w+` is writing and reading (Overwrites existing files or creates a new file!)"
   ]
  },
  {
   "cell_type": "code",
   "execution_count": 190,
   "metadata": {},
   "outputs": [],
   "source": [
    "with open('myfile.txt',mode='r') as myfile:\n",
    "    contents = myfile.read()"
   ]
  },
  {
   "cell_type": "code",
   "execution_count": 191,
   "metadata": {},
   "outputs": [
    {
     "name": "stdout",
     "output_type": "stream",
     "text": [
      "Writing my_new_file.txt\n"
     ]
    }
   ],
   "source": [
    "%%writefile my_new_file.txt\n",
    "ONE ON FIRST\n",
    "TWO ON SECOND\n",
    "THREE ON THIRD"
   ]
  },
  {
   "cell_type": "code",
   "execution_count": 192,
   "metadata": {},
   "outputs": [],
   "source": [
    "with open('my_new_file.txt',mode='a') as f:\n",
    "    f.write('FOUR ON FOURTH')"
   ]
  },
  {
   "cell_type": "code",
   "execution_count": 193,
   "metadata": {},
   "outputs": [
    {
     "name": "stdout",
     "output_type": "stream",
     "text": [
      "ONE ON FIRST\n",
      "TWO ON SECOND\n",
      "THREE ON THIRD\n",
      "FOUR ON FOURTH\n"
     ]
    }
   ],
   "source": [
    "with open ('my_new_file.txt',mode='r') as f:\n",
    "    print(f.read())"
   ]
  },
  {
   "cell_type": "code",
   "execution_count": 195,
   "metadata": {},
   "outputs": [],
   "source": [
    "with open('dhfjdkshfjdks.txt',mode='w') as f:\n",
    "    f.write('I CREATED THIS FILE!')"
   ]
  },
  {
   "cell_type": "code",
   "execution_count": 197,
   "metadata": {},
   "outputs": [
    {
     "name": "stdout",
     "output_type": "stream",
     "text": [
      "I CREATED THIS FILE!\n"
     ]
    }
   ],
   "source": [
    "with open('dhfjdkshfjdks.txt',mode='r') as f:\n",
    "    print(f.read())"
   ]
  },
  {
   "cell_type": "markdown",
   "metadata": {},
   "source": [
    "## Resources for More Basic Practice\n",
    "Before you begin your assessment, I wanted to point out some helpful links for practice (don't worry about being able to do these exercises, I just want you to be aware of the links so you can visit them later, since we still haven't discussed functions, you won't be able to utilize a lot of these resources yet!):\n",
    "\n",
    "Basic Practice:\n",
    "\n",
    "http://codingbat.com/python\n",
    "\n",
    "More Mathematical (and Harder) Practice:\n",
    "\n",
    "https://projecteuler.net/archives\n",
    "\n",
    "List of Practice Problems:\n",
    "\n",
    "http://www.codeabbey.com/index/task_list\n",
    "\n",
    "A SubReddit Devoted to Daily Practice Problems:\n",
    "\n",
    "https://www.reddit.com/r/dailyprogrammer\n",
    "\n",
    "A very tricky website with very few hints and touch problems (Not for beginners but still interesting)\n",
    "\n",
    "http://www.pythonchallenge.com/"
   ]
  },
  {
   "cell_type": "markdown",
   "metadata": {},
   "source": [
    "#### Python objects and Data Structure Solution\n",
    "- Numbers: Store numerical information and come in two forms\n",
    "    - Integers - Whole Numbers\n",
    "    - Floating point - Numbers with a decimal\n",
    "- **Strings:** Ordered sequence of characters\n",
    "- **Lists:** Ordered sequence of objects (mutable)\n",
    "- **Tuples:** Ordered sequence of objects (immutable)\n",
    "- **Dictionary:** Key-value pairing that is unordered."
   ]
  },
  {
   "cell_type": "code",
   "execution_count": 198,
   "metadata": {},
   "outputs": [],
   "source": [
    "s = 'hello'"
   ]
  },
  {
   "cell_type": "code",
   "execution_count": 199,
   "metadata": {},
   "outputs": [
    {
     "data": {
      "text/plain": [
       "'olleh'"
      ]
     },
     "execution_count": 199,
     "metadata": {},
     "output_type": "execute_result"
    }
   ],
   "source": [
    "s[::-1]"
   ]
  },
  {
   "cell_type": "markdown",
   "metadata": {},
   "source": [
    "#### Python Comparison Operators\n",
    "- In this table we are using a=3 and b=4\n",
    "\n",
    "\n",
    "| Operator| Description                | Example            |\n",
    "|--------|---------------------------|-------------------|\n",
    "|==|if the values of two operands are equal, then the condition becomes true | (a==b) `is not true`|\n",
    "| !=   |If values of two operands are not equal, then condition becomes true.   | (a!=b) is true   |\n",
    "|>   | if the of left is greater than the value of right operand then condition becomes true   | `(a>b)` is not true   |\n",
    "|<    | If the value of operand is less than the value of right operand, then condition becomes true.   | `(a<b)` is true   |\n",
    "|>= | If the value of left operand is greater than or equal to the value of right operand, then condition becomes true.   | `(a>=b)` is not true   |\n",
    "|<=   |It the value of left operand is less than or equal to the value of right operand, then condition becomes true.   | `(a<=b)` is true   |"
   ]
  },
  {
   "cell_type": "code",
   "execution_count": 200,
   "metadata": {},
   "outputs": [
    {
     "data": {
      "text/plain": [
       "True"
      ]
     },
     "execution_count": 200,
     "metadata": {},
     "output_type": "execute_result"
    }
   ],
   "source": [
    "2 == 2"
   ]
  },
  {
   "cell_type": "code",
   "execution_count": 201,
   "metadata": {},
   "outputs": [
    {
     "data": {
      "text/plain": [
       "False"
      ]
     },
     "execution_count": 201,
     "metadata": {},
     "output_type": "execute_result"
    }
   ],
   "source": [
    "2 ==1"
   ]
  },
  {
   "cell_type": "code",
   "execution_count": 202,
   "metadata": {},
   "outputs": [
    {
     "data": {
      "text/plain": [
       "'hello'"
      ]
     },
     "execution_count": 202,
     "metadata": {},
     "output_type": "execute_result"
    }
   ],
   "source": [
    "'hello'"
   ]
  },
  {
   "cell_type": "code",
   "execution_count": 203,
   "metadata": {},
   "outputs": [
    {
     "data": {
      "text/plain": [
       "False"
      ]
     },
     "execution_count": 203,
     "metadata": {},
     "output_type": "execute_result"
    }
   ],
   "source": [
    "'hello' == 'bye'"
   ]
  },
  {
   "cell_type": "code",
   "execution_count": 204,
   "metadata": {},
   "outputs": [
    {
     "data": {
      "text/plain": [
       "False"
      ]
     },
     "execution_count": 204,
     "metadata": {},
     "output_type": "execute_result"
    }
   ],
   "source": [
    "'2' == 2"
   ]
  },
  {
   "cell_type": "code",
   "execution_count": 205,
   "metadata": {},
   "outputs": [
    {
     "data": {
      "text/plain": [
       "False"
      ]
     },
     "execution_count": 205,
     "metadata": {},
     "output_type": "execute_result"
    }
   ],
   "source": [
    "3 != 3"
   ]
  },
  {
   "cell_type": "code",
   "execution_count": 206,
   "metadata": {},
   "outputs": [
    {
     "data": {
      "text/plain": [
       "True"
      ]
     },
     "execution_count": 206,
     "metadata": {},
     "output_type": "execute_result"
    }
   ],
   "source": [
    "4 != 5"
   ]
  },
  {
   "cell_type": "code",
   "execution_count": 207,
   "metadata": {},
   "outputs": [
    {
     "data": {
      "text/plain": [
       "True"
      ]
     },
     "execution_count": 207,
     "metadata": {},
     "output_type": "execute_result"
    }
   ],
   "source": [
    "2 > 1"
   ]
  },
  {
   "cell_type": "code",
   "execution_count": 208,
   "metadata": {},
   "outputs": [
    {
     "data": {
      "text/plain": [
       "False"
      ]
     },
     "execution_count": 208,
     "metadata": {},
     "output_type": "execute_result"
    }
   ],
   "source": [
    "1 > 2"
   ]
  },
  {
   "cell_type": "code",
   "execution_count": 209,
   "metadata": {},
   "outputs": [
    {
     "data": {
      "text/plain": [
       "True"
      ]
     },
     "execution_count": 209,
     "metadata": {},
     "output_type": "execute_result"
    }
   ],
   "source": [
    "2 >= 2"
   ]
  },
  {
   "cell_type": "code",
   "execution_count": 210,
   "metadata": {},
   "outputs": [
    {
     "data": {
      "text/plain": [
       "False"
      ]
     },
     "execution_count": 210,
     "metadata": {},
     "output_type": "execute_result"
    }
   ],
   "source": [
    "4 <= 1"
   ]
  },
  {
   "cell_type": "markdown",
   "metadata": {},
   "source": [
    "- Logical operators `and or not` can be used with comparison operators to get desired results"
   ]
  },
  {
   "cell_type": "code",
   "execution_count": 212,
   "metadata": {},
   "outputs": [
    {
     "data": {
      "text/plain": [
       "True"
      ]
     },
     "execution_count": 212,
     "metadata": {},
     "output_type": "execute_result"
    }
   ],
   "source": [
    "1 < 2 < 3"
   ]
  },
  {
   "cell_type": "code",
   "execution_count": 213,
   "metadata": {},
   "outputs": [
    {
     "data": {
      "text/plain": [
       "False"
      ]
     },
     "execution_count": 213,
     "metadata": {},
     "output_type": "execute_result"
    }
   ],
   "source": [
    "1 < 2 and 2 > 3"
   ]
  },
  {
   "cell_type": "code",
   "execution_count": 214,
   "metadata": {},
   "outputs": [
    {
     "data": {
      "text/plain": [
       "True"
      ]
     },
     "execution_count": 214,
     "metadata": {},
     "output_type": "execute_result"
    }
   ],
   "source": [
    "'h' == 'h'"
   ]
  },
  {
   "cell_type": "code",
   "execution_count": 215,
   "metadata": {},
   "outputs": [
    {
     "data": {
      "text/plain": [
       "True"
      ]
     },
     "execution_count": 215,
     "metadata": {},
     "output_type": "execute_result"
    }
   ],
   "source": [
    "'h'  == 'h'  and 2 == 2"
   ]
  },
  {
   "cell_type": "code",
   "execution_count": 216,
   "metadata": {},
   "outputs": [
    {
     "data": {
      "text/plain": [
       "True"
      ]
     },
     "execution_count": 216,
     "metadata": {},
     "output_type": "execute_result"
    }
   ],
   "source": [
    "1 == 1 or 2 == 2"
   ]
  },
  {
   "cell_type": "markdown",
   "metadata": {},
   "source": []
  }
 ],
 "metadata": {
  "kernelspec": {
   "display_name": "Python 3",
   "language": "python",
   "name": "python3"
  },
  "language_info": {
   "codemirror_mode": {
    "name": "ipython",
    "version": 3
   },
   "file_extension": ".py",
   "mimetype": "text/x-python",
   "name": "python",
   "nbconvert_exporter": "python",
   "pygments_lexer": "ipython3",
   "version": "3.7.3"
  }
 },
 "nbformat": 4,
 "nbformat_minor": 2
}
